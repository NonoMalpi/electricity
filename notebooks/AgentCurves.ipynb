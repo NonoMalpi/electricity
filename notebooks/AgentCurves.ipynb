{
 "cells": [
  {
   "cell_type": "code",
   "execution_count": 1,
   "id": "d5620534",
   "metadata": {},
   "outputs": [],
   "source": [
    "import os\n",
    "import sys\n",
    "module_path = os.path.abspath(os.path.join('..'))\n",
    "if module_path not in sys.path:\n",
    "    sys.path.append(module_path)"
   ]
  },
  {
   "cell_type": "code",
   "execution_count": 2,
   "id": "48180a06",
   "metadata": {},
   "outputs": [],
   "source": [
    "from io import BytesIO\n",
    "\n",
    "import warnings\n",
    "warnings.filterwarnings(action='ignore')\n",
    "\n",
    "import pandas as pd\n",
    "import matplotlib.pyplot as plt\n",
    "\n",
    "from joblib import Parallel, delayed\n",
    "\n",
    "from google.cloud import bigquery\n",
    "\n",
    "from data_collector import BQManager, GCP, Omie, MarginalPriceParams, OfferCurvesParams, OfferCurvesUnitsParams"
   ]
  },
  {
   "cell_type": "markdown",
   "id": "ca5932a8",
   "metadata": {},
   "source": [
    "## Upload tables to BigQuery"
   ]
  },
  {
   "cell_type": "code",
   "execution_count": null,
   "id": "682c445e",
   "metadata": {},
   "outputs": [],
   "source": [
    "job_config = bigquery.job.LoadJobConfig()\n",
    "job_config.autodetect = True\n",
    "job_config.create_disposition = bigquery.job.CreateDisposition.CREATE_IF_NEEDED\n",
    "job_config.write_disposition = bigquery.job.WriteDisposition.WRITE_APPEND\n",
    "\n",
    "years = range(2016, 2022)\n",
    "\n",
    "for year in years:\n",
    "    print(\"=\"*15  + f\" {year} \" + \"=\"*15)\n",
    "    Omie.upload_bq_year_file(omie_parameter=OfferCurvesUnitsParams, year=year, job_config=job_config)"
   ]
  },
  {
   "cell_type": "code",
   "execution_count": null,
   "id": "d2d6fcf3",
   "metadata": {
    "scrolled": false
   },
   "outputs": [],
   "source": [
    "job_config = bigquery.job.LoadJobConfig()\n",
    "job_config.autodetect = True\n",
    "job_config.create_disposition = bigquery.job.CreateDisposition.CREATE_IF_NEEDED\n",
    "job_config.write_disposition = bigquery.job.WriteDisposition.WRITE_APPEND\n",
    "\n",
    "\n",
    "dates = pd.date_range(start=\"2021-01-01\", end=\"2022-02-19\", freq=\"D\")\n",
    "_ = Parallel(n_jobs=-1)(\n",
    "    delayed(Omie.upload_bq_date_file)(omie_parameter=OfferCurvesParams, date=date, job_config=job_config)\n",
    "    for date in dates\n",
    ")"
   ]
  },
  {
   "cell_type": "markdown",
   "id": "997179c5",
   "metadata": {},
   "source": [
    "## Generate hourly tables"
   ]
  },
  {
   "cell_type": "code",
   "execution_count": 3,
   "id": "f2e8cb62",
   "metadata": {},
   "outputs": [],
   "source": [
    "client = bigquery.Client(GCP.PROJECT_ID)\n",
    "bq_manager = BQManager(client=client)"
   ]
  },
  {
   "cell_type": "code",
   "execution_count": null,
   "id": "6fef3571",
   "metadata": {},
   "outputs": [],
   "source": [
    "bq_manager.generate_hourly_offer_curve_tables(curve_parameter=OfferCurvesUnitsParams, \n",
    "                                             offer_status=OfferCurvesUnitsParams.OfferStatus.offered)"
   ]
  },
  {
   "cell_type": "markdown",
   "id": "9d5773e4",
   "metadata": {},
   "source": [
    "## Download table"
   ]
  },
  {
   "cell_type": "code",
   "execution_count": 4,
   "id": "ca15cbdc",
   "metadata": {},
   "outputs": [
    {
     "data": {
      "application/vnd.jupyter.widget-view+json": {
       "model_id": "39585726f96c4a44a3e5abb9d1b18b46",
       "version_major": 2,
       "version_minor": 0
      },
      "text/plain": [
       "Downloading:   0%|          | 0/3475532 [00:00<?, ?rows/s]"
      ]
     },
     "metadata": {},
     "output_type": "display_data"
    }
   ],
   "source": [
    "df = bq_manager.download_query_to_df(\n",
    "    query=f\"SELECT * FROM {GCP.BigQuery.Omie.DATASET_ID}.{GCP.BigQuery.Omie.OFFER_CURVES_UNITS_TABLE_ID}_{2}\"\n",
    ")"
   ]
  },
  {
   "cell_type": "code",
   "execution_count": 16,
   "id": "3ad145e8",
   "metadata": {},
   "outputs": [
    {
     "name": "stdout",
     "output_type": "stream",
     "text": [
      "<class 'pandas.core.frame.DataFrame'>\n",
      "RangeIndex: 3475532 entries, 0 to 3475531\n",
      "Data columns (total 8 columns):\n",
      " #   Column      Dtype              \n",
      "---  ------      -----              \n",
      " 0   hour        int64              \n",
      " 1   date        datetime64[ns, UTC]\n",
      " 2   country     object             \n",
      " 3   unit        object             \n",
      " 4   offer_type  object             \n",
      " 5   energy      float64            \n",
      " 6   price       float64            \n",
      " 7   status      object             \n",
      "dtypes: datetime64[ns, UTC](1), float64(2), int64(1), object(4)\n",
      "memory usage: 212.1+ MB\n"
     ]
    }
   ],
   "source": [
    "df.info()"
   ]
  }
 ],
 "metadata": {
  "kernelspec": {
   "display_name": "Python 3 (ipykernel)",
   "language": "python",
   "name": "python3"
  },
  "language_info": {
   "codemirror_mode": {
    "name": "ipython",
    "version": 3
   },
   "file_extension": ".py",
   "mimetype": "text/x-python",
   "name": "python",
   "nbconvert_exporter": "python",
   "pygments_lexer": "ipython3",
   "version": "3.8.11"
  }
 },
 "nbformat": 4,
 "nbformat_minor": 5
}
