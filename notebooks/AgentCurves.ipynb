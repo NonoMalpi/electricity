{
 "cells": [
  {
   "cell_type": "code",
   "execution_count": 1,
   "id": "d5620534",
   "metadata": {},
   "outputs": [],
   "source": [
    "import os\n",
    "import sys\n",
    "module_path = os.path.abspath(os.path.join('..'))\n",
    "if module_path not in sys.path:\n",
    "    sys.path.append(module_path)"
   ]
  },
  {
   "cell_type": "code",
   "execution_count": 2,
   "id": "48180a06",
   "metadata": {},
   "outputs": [],
   "source": [
    "from io import BytesIO\n",
    "\n",
    "import warnings\n",
    "warnings.filterwarnings(action='ignore')\n",
    "\n",
    "import pandas as pd\n",
    "import matplotlib.pyplot as plt\n",
    "\n",
    "from google.cloud import bigquery\n",
    "\n",
    "from data_collector import Omie, MarginalPriceParams, OfferCurvesParams, OfferCurvesUnitsParams"
   ]
  },
  {
   "cell_type": "code",
   "execution_count": null,
   "id": "accd0a04",
   "metadata": {},
   "outputs": [
    {
     "name": "stdout",
     "output_type": "stream",
     "text": [
      "=============== 2016 ===============\n"
     ]
    }
   ],
   "source": [
    "job_config = bigquery.job.LoadJobConfig()\n",
    "job_config.autodetect = True\n",
    "job_config.create_disposition = bigquery.job.CreateDisposition.CREATE_IF_NEEDED\n",
    "job_config.write_disposition = bigquery.job.WriteDisposition.WRITE_APPEND\n",
    "\n",
    "years = range(2016, 2021)\n",
    "\n",
    "for year in years:\n",
    "    print(\"=\"*15  + f\" {year} \" + \"=\"*15)\n",
    "    Omie.upload_bq_year_file(omie_parameter=OfferCurvesParams, year=year, job_config=job_config)"
   ]
  },
  {
   "cell_type": "code",
   "execution_count": null,
   "id": "d2d6fcf3",
   "metadata": {},
   "outputs": [],
   "source": [
    "job_config = bigquery.job.LoadJobConfig()\n",
    "job_config.autodetect = True\n",
    "job_config.create_disposition = bigquery.job.CreateDisposition.CREATE_IF_NEEDED\n",
    "job_config.write_disposition = bigquery.job.WriteDisposition.WRITE_APPEND\n",
    "\n",
    "\n",
    "dates = pd.date_range(start=\"2021-01-01\", end=\"2022-02-18\", freq=\"D\")\n",
    "for i, date in enumerate(dates):\n",
    "    if i % 20 == 0:\n",
    "        print(date)\n",
    "    Omie.upload_bq_date_file(omie_parameter=OfferCurvesParams, date=date.strftime(\"%Y%m%d\"),\n",
    "                             job_config=job_config)"
   ]
  }
 ],
 "metadata": {
  "kernelspec": {
   "display_name": "Python 3 (ipykernel)",
   "language": "python",
   "name": "python3"
  },
  "language_info": {
   "codemirror_mode": {
    "name": "ipython",
    "version": 3
   },
   "file_extension": ".py",
   "mimetype": "text/x-python",
   "name": "python",
   "nbconvert_exporter": "python",
   "pygments_lexer": "ipython3",
   "version": "3.8.11"
  }
 },
 "nbformat": 4,
 "nbformat_minor": 5
}
