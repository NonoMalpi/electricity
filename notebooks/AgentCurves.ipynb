{
 "cells": [
  {
   "cell_type": "code",
   "execution_count": 1,
   "id": "d5620534",
   "metadata": {},
   "outputs": [],
   "source": [
    "import os\n",
    "import sys\n",
    "module_path = os.path.abspath(os.path.join('..'))\n",
    "if module_path not in sys.path:\n",
    "    sys.path.append(module_path)"
   ]
  },
  {
   "cell_type": "code",
   "execution_count": 2,
   "id": "48180a06",
   "metadata": {},
   "outputs": [],
   "source": [
    "from io import BytesIO\n",
    "\n",
    "import warnings\n",
    "warnings.filterwarnings(action='ignore')\n",
    "\n",
    "import pandas as pd\n",
    "import matplotlib.pyplot as plt\n",
    "\n",
    "from joblib import Parallel, delayed\n",
    "\n",
    "from google.cloud import bigquery\n",
    "\n",
    "from data_collector import BQManager, GCP, Omie, MarginalPriceParams, OfferCurvesParams, OfferCurvesUnitsParams"
   ]
  },
  {
   "cell_type": "markdown",
   "id": "7c5915af",
   "metadata": {},
   "source": [
    "## Upload tables to BigQuery"
   ]
  },
  {
   "cell_type": "code",
   "execution_count": null,
   "id": "682c445e",
   "metadata": {},
   "outputs": [],
   "source": [
    "job_config = bigquery.job.LoadJobConfig()\n",
    "job_config.autodetect = True\n",
    "job_config.create_disposition = bigquery.job.CreateDisposition.CREATE_IF_NEEDED\n",
    "job_config.write_disposition = bigquery.job.WriteDisposition.WRITE_APPEND\n",
    "\n",
    "years = range(2016, 2022)\n",
    "\n",
    "for year in years:\n",
    "    print(\"=\"*15  + f\" {year} \" + \"=\"*15)\n",
    "    Omie.upload_bq_year_file(omie_parameter=OfferCurvesUnitsParams, year=year, job_config=job_config)"
   ]
  },
  {
   "cell_type": "code",
   "execution_count": null,
   "id": "d2d6fcf3",
   "metadata": {
    "scrolled": false
   },
   "outputs": [],
   "source": [
    "job_config = bigquery.job.LoadJobConfig()\n",
    "job_config.autodetect = True\n",
    "job_config.create_disposition = bigquery.job.CreateDisposition.CREATE_IF_NEEDED\n",
    "job_config.write_disposition = bigquery.job.WriteDisposition.WRITE_APPEND\n",
    "\n",
    "\n",
    "dates = pd.date_range(start=\"2021-01-01\", end=\"2022-02-19\", freq=\"D\")\n",
    "_ = Parallel(n_jobs=-1)(\n",
    "    delayed(Omie.upload_bq_date_file)(omie_parameter=OfferCurvesParams, date=date, job_config=job_config)\n",
    "    for date in dates\n",
    ")"
   ]
  },
  {
   "cell_type": "markdown",
   "id": "c5e25fa0",
   "metadata": {},
   "source": [
    "## Generate hourly tables"
   ]
  },
  {
   "cell_type": "code",
   "execution_count": 3,
   "id": "e4f07923",
   "metadata": {},
   "outputs": [],
   "source": [
    "client = bigquery.Client(GCP.PROJECT_ID)\n",
    "bq_manager = BQManager(client=client)"
   ]
  },
  {
   "cell_type": "code",
   "execution_count": 4,
   "id": "0157b060",
   "metadata": {},
   "outputs": [
    {
     "name": "stderr",
     "output_type": "stream",
     "text": [
      "2022-02-19 13:43:10,182|root|INFO|Creating table electricity-imperial.omie.offer_curves_units_1 ... \n",
      "2022-02-19 13:43:19,273|root|INFO|Creating table electricity-imperial.omie.offer_curves_units_2 ... \n",
      "2022-02-19 13:43:28,901|root|INFO|Creating table electricity-imperial.omie.offer_curves_units_3 ... \n",
      "2022-02-19 13:43:38,043|root|INFO|Creating table electricity-imperial.omie.offer_curves_units_4 ... \n",
      "2022-02-19 13:43:47,654|root|INFO|Creating table electricity-imperial.omie.offer_curves_units_5 ... \n",
      "2022-02-19 13:43:59,257|root|INFO|Creating table electricity-imperial.omie.offer_curves_units_6 ... \n",
      "2022-02-19 13:44:08,350|root|INFO|Creating table electricity-imperial.omie.offer_curves_units_7 ... \n",
      "2022-02-19 13:44:15,952|root|INFO|Creating table electricity-imperial.omie.offer_curves_units_8 ... \n",
      "2022-02-19 13:44:24,749|root|INFO|Creating table electricity-imperial.omie.offer_curves_units_9 ... \n",
      "2022-02-19 13:44:34,359|root|INFO|Creating table electricity-imperial.omie.offer_curves_units_10 ... \n",
      "2022-02-19 13:44:44,792|root|INFO|Creating table electricity-imperial.omie.offer_curves_units_11 ... \n",
      "2022-02-19 13:44:56,831|root|INFO|Creating table electricity-imperial.omie.offer_curves_units_12 ... \n",
      "2022-02-19 13:45:07,670|root|INFO|Creating table electricity-imperial.omie.offer_curves_units_13 ... \n",
      "2022-02-19 13:45:16,864|root|INFO|Creating table electricity-imperial.omie.offer_curves_units_14 ... \n",
      "2022-02-19 13:45:29,156|root|INFO|Creating table electricity-imperial.omie.offer_curves_units_15 ... \n",
      "2022-02-19 13:45:38,381|root|INFO|Creating table electricity-imperial.omie.offer_curves_units_16 ... \n",
      "2022-02-19 13:45:48,500|root|INFO|Creating table electricity-imperial.omie.offer_curves_units_17 ... \n",
      "2022-02-19 13:45:58,719|root|INFO|Creating table electricity-imperial.omie.offer_curves_units_18 ... \n",
      "2022-02-19 13:46:09,175|root|INFO|Creating table electricity-imperial.omie.offer_curves_units_19 ... \n",
      "2022-02-19 13:46:16,321|root|INFO|Creating table electricity-imperial.omie.offer_curves_units_20 ... \n",
      "2022-02-19 13:46:28,586|root|INFO|Creating table electricity-imperial.omie.offer_curves_units_21 ... \n",
      "2022-02-19 13:46:42,413|root|INFO|Creating table electricity-imperial.omie.offer_curves_units_22 ... \n",
      "2022-02-19 13:46:53,057|root|INFO|Creating table electricity-imperial.omie.offer_curves_units_23 ... \n",
      "2022-02-19 13:47:02,116|root|INFO|Creating table electricity-imperial.omie.offer_curves_units_24 ... \n"
     ]
    }
   ],
   "source": [
    "bq_manager.generate_hourly_offer_curve_tables(curve_parameter=OfferCurvesUnitsParams, \n",
    "                                             offer_status=OfferCurvesUnitsParams.OfferStatus.offered)"
   ]
  },
  {
   "cell_type": "code",
   "execution_count": null,
   "id": "d01cf840",
   "metadata": {},
   "outputs": [],
   "source": []
  }
 ],
 "metadata": {
  "kernelspec": {
   "display_name": "Python 3 (ipykernel)",
   "language": "python",
   "name": "python3"
  },
  "language_info": {
   "codemirror_mode": {
    "name": "ipython",
    "version": 3
   },
   "file_extension": ".py",
   "mimetype": "text/x-python",
   "name": "python",
   "nbconvert_exporter": "python",
   "pygments_lexer": "ipython3",
   "version": "3.8.11"
  }
 },
 "nbformat": 4,
 "nbformat_minor": 5
}
