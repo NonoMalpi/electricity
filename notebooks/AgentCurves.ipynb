{
 "cells": [
  {
   "cell_type": "code",
   "execution_count": 1,
   "id": "d5620534",
   "metadata": {},
   "outputs": [],
   "source": [
    "import os\n",
    "import sys\n",
    "module_path = os.path.abspath(os.path.join('..'))\n",
    "if module_path not in sys.path:\n",
    "    sys.path.append(module_path)"
   ]
  },
  {
   "cell_type": "code",
   "execution_count": 2,
   "id": "48180a06",
   "metadata": {},
   "outputs": [],
   "source": [
    "from io import BytesIO\n",
    "\n",
    "import warnings\n",
    "warnings.filterwarnings(action='ignore')\n",
    "\n",
    "import matplotlib.animation as animation\n",
    "import matplotlib.pyplot as plt\n",
    "import numpy as np\n",
    "import pandas as pd\n",
    "\n",
    "\n",
    "from joblib import Parallel, delayed\n",
    "\n",
    "from google.cloud import bigquery\n",
    "\n",
    "from data_collector import BQManager, GCP, Omie, MarginalPriceParams, OfferCurvesParams, OfferCurvesUnitsParams\n",
    "\n",
    "from offer_curves import OfferCurves"
   ]
  },
  {
   "cell_type": "markdown",
   "id": "ca5932a8",
   "metadata": {},
   "source": [
    "## Upload tables to BigQuery"
   ]
  },
  {
   "cell_type": "code",
   "execution_count": null,
   "id": "682c445e",
   "metadata": {},
   "outputs": [],
   "source": [
    "job_config = bigquery.job.LoadJobConfig()\n",
    "job_config.autodetect = True\n",
    "job_config.create_disposition = bigquery.job.CreateDisposition.CREATE_IF_NEEDED\n",
    "job_config.write_disposition = bigquery.job.WriteDisposition.WRITE_APPEND\n",
    "\n",
    "years = range(2016, 2022)\n",
    "\n",
    "for year in years:\n",
    "    print(\"=\"*15  + f\" {year} \" + \"=\"*15)\n",
    "    Omie.upload_bq_year_file(omie_parameter=OfferCurvesUnitsParams, year=year, job_config=job_config)"
   ]
  },
  {
   "cell_type": "code",
   "execution_count": null,
   "id": "d2d6fcf3",
   "metadata": {
    "scrolled": false
   },
   "outputs": [],
   "source": [
    "job_config = bigquery.job.LoadJobConfig()\n",
    "job_config.autodetect = True\n",
    "job_config.create_disposition = bigquery.job.CreateDisposition.CREATE_IF_NEEDED\n",
    "job_config.write_disposition = bigquery.job.WriteDisposition.WRITE_APPEND\n",
    "\n",
    "\n",
    "dates = pd.date_range(start=\"2021-01-01\", end=\"2022-02-19\", freq=\"D\")\n",
    "_ = Parallel(n_jobs=-1)(\n",
    "    delayed(Omie.upload_bq_date_file)(omie_parameter=OfferCurvesParams, date=date, job_config=job_config)\n",
    "    for date in dates\n",
    ")"
   ]
  },
  {
   "cell_type": "markdown",
   "id": "997179c5",
   "metadata": {},
   "source": [
    "## Generate hourly tables"
   ]
  },
  {
   "cell_type": "code",
   "execution_count": 3,
   "id": "f2e8cb62",
   "metadata": {},
   "outputs": [],
   "source": [
    "client = bigquery.Client(GCP.PROJECT_ID)\n",
    "bq_manager = BQManager(client=client)"
   ]
  },
  {
   "cell_type": "code",
   "execution_count": null,
   "id": "6fef3571",
   "metadata": {},
   "outputs": [],
   "source": [
    "bq_manager.generate_hourly_offer_curve_tables(curve_parameter=OfferCurvesUnitsParams, \n",
    "                                             offer_status=OfferCurvesUnitsParams.OfferStatus.offered)"
   ]
  },
  {
   "cell_type": "markdown",
   "id": "9d5773e4",
   "metadata": {},
   "source": [
    "## Download table"
   ]
  },
  {
   "cell_type": "code",
   "execution_count": 4,
   "id": "ca15cbdc",
   "metadata": {},
   "outputs": [
    {
     "data": {
      "application/vnd.jupyter.widget-view+json": {
       "model_id": "c5104a2c0d704cc9ab11fe8e073c9991",
       "version_major": 2,
       "version_minor": 0
      },
      "text/plain": [
       "Downloading:   0%|          | 0/4358030 [00:00<?, ?rows/s]"
      ]
     },
     "metadata": {},
     "output_type": "display_data"
    }
   ],
   "source": [
    "df = bq_manager.download_query_to_df(\n",
    "    query=f\"SELECT * FROM {GCP.BigQuery.Omie.DATASET_ID}.{GCP.BigQuery.Omie.OFFER_CURVES_UNITS_TABLE_ID}_{21}\"\n",
    ")"
   ]
  },
  {
   "cell_type": "code",
   "execution_count": 9,
   "id": "ec75b5ed",
   "metadata": {},
   "outputs": [
    {
     "name": "stdout",
     "output_type": "stream",
     "text": [
      "<class 'pandas.core.frame.DataFrame'>\n",
      "RangeIndex: 4358030 entries, 0 to 4358029\n",
      "Data columns (total 8 columns):\n",
      " #   Column      Dtype              \n",
      "---  ------      -----              \n",
      " 0   hour        int64              \n",
      " 1   date        datetime64[ns, UTC]\n",
      " 2   country     object             \n",
      " 3   unit        object             \n",
      " 4   offer_type  object             \n",
      " 5   energy      float64            \n",
      " 6   price       float64            \n",
      " 7   status      object             \n",
      "dtypes: datetime64[ns, UTC](1), float64(2), int64(1), object(4)\n",
      "memory usage: 266.0+ MB\n"
     ]
    }
   ],
   "source": [
    "df.info()"
   ]
  },
  {
   "cell_type": "code",
   "execution_count": 10,
   "id": "5d65e90b",
   "metadata": {},
   "outputs": [],
   "source": [
    "df_ask = df[df[\"offer_type\"] == OfferCurvesUnitsParams.OfferType.ask.value]\n",
    "df_bid = df[df[\"offer_type\"] == OfferCurvesUnitsParams.OfferType.bid.value]\n",
    "\n",
    "df_ask = df_ask.sort_values([\"date\", \"price\"])\n",
    "df_bid = df_bid.sort_values(\"date\").sort_values(\"price\", ascending=False)\n",
    "\n",
    "df_ask[\"agg_energy\"] = df_ask.groupby(\"date\")[\"energy\"].transform(\"cumsum\")\n",
    "df_bid[\"agg_energy\"] = df_bid.groupby(\"date\")[\"energy\"].transform(\"cumsum\")"
   ]
  },
  {
   "cell_type": "code",
   "execution_count": 11,
   "id": "84aa6fc5",
   "metadata": {},
   "outputs": [],
   "source": [
    "df_ask_date = df_ask.set_index(\"date\")\n",
    "df_bid_date = df_bid.set_index(\"date\")"
   ]
  },
  {
   "cell_type": "code",
   "execution_count": null,
   "id": "f41cb160",
   "metadata": {},
   "outputs": [],
   "source": [
    "fig, ax = plt.subplots(figsize=(10, 7))\n",
    "for date in pd.date_range(start=\"2020-01-01\", end=\"2020-05-31\", freq=\"D\"):\n",
    "    df_ask_date.loc[date].plot(x=\"agg_energy\", y=\"price\", ax=ax, label=\"\", color=\"blue\", alpha=0.1)\n",
    "    df_bid_date.loc[date].plot(x=\"agg_energy\", y=\"price\", ax=ax, label=\"\", color=\"orange\", alpha=0.1)\n",
    "legend = ax.get_legend()\n",
    "legend.remove()"
   ]
  },
  {
   "cell_type": "code",
   "execution_count": null,
   "id": "b5a57d9f",
   "metadata": {
    "scrolled": false
   },
   "outputs": [],
   "source": [
    "%matplotlib tk\n",
    "\n",
    "fig, ax = plt.subplots(figsize=(10, 7))\n",
    "\n",
    "x_ask = df_ask_date.loc[\"2020-01-01\"][\"agg_energy\"]\n",
    "y_ask = df_ask_date.loc[\"2020-01-01\"][\"price\"]\n",
    "x_bid = df_bid_date.loc[\"2020-01-01\"][\"agg_energy\"]\n",
    "y_bid = df_bid_date.loc[\"2020-01-01\"][\"price\"]\n",
    "dates = pd.date_range(start=\"2020-01-01\", end=\"2021-01-01\", freq=\"D\")\n",
    "ask_curve, = ax.plot(x_ask, y_ask)\n",
    "bid_curve, = ax.plot(x_bid, y_bid)\n",
    "\n",
    "\n",
    "def animate(i):\n",
    "    date = dates[i]\n",
    "    \n",
    "    ax.set_title(date.strftime(\"%Y-%m-%d\"))\n",
    "    ask_curve.set_xdata(df_ask_date.loc[date][\"agg_energy\"].values)\n",
    "    ask_curve.set_ydata(df_ask_date.loc[date][\"price\"].values)\n",
    "    bid_curve.set_xdata(df_bid_date.loc[date][\"agg_energy\"].values)\n",
    "    bid_curve.set_ydata(df_bid_date.loc[date][\"price\"].values)\n",
    "    \n",
    "    \n",
    "    return ask_curve, bid_curve\n",
    "\n",
    "\n",
    "ani = animation.FuncAnimation(fig, animate, interval=80, blit=False, save_count=90)\n",
    "#ani.save('curves.gif', writer='imagemagick', fps=10)\n",
    "plt.show()"
   ]
  },
  {
   "cell_type": "markdown",
   "id": "272fae90",
   "metadata": {},
   "source": [
    "#### Find cleared price"
   ]
  },
  {
   "cell_type": "code",
   "execution_count": null,
   "id": "266ebee6",
   "metadata": {},
   "outputs": [],
   "source": [
    "df_ask_sample = df_ask_date.loc[\"2020-01-01\"].reset_index()\n",
    "df_bid_sample = df_bid_date.loc[\"2020-01-01\"].reset_index()"
   ]
  },
  {
   "cell_type": "code",
   "execution_count": null,
   "id": "ca273df2",
   "metadata": {},
   "outputs": [],
   "source": [
    "ask_agg_energy = df_ask_sample[\"agg_energy\"].values\n",
    "bid_agg_energy = df_bid_sample[\"agg_energy\"].values"
   ]
  },
  {
   "cell_type": "code",
   "execution_count": null,
   "id": "83d6c76b",
   "metadata": {},
   "outputs": [],
   "source": [
    "agg_energy = np.unique(np.sort(np.concatenate([ask_agg_energy, bid_agg_energy])))"
   ]
  },
  {
   "cell_type": "code",
   "execution_count": null,
   "id": "aa9a4efb",
   "metadata": {},
   "outputs": [],
   "source": [
    "df_ask_sample = df_ask_sample.set_index(\"agg_energy\").reindex(agg_energy)\n",
    "df_bid_sample = df_bid_sample.set_index(\"agg_energy\").reindex(agg_energy)"
   ]
  },
  {
   "cell_type": "code",
   "execution_count": null,
   "id": "fd02067b",
   "metadata": {},
   "outputs": [],
   "source": [
    "cols = [\"offer_type\", \"price\"]\n",
    "df_ask_sample = df_ask_sample[cols]\n",
    "df_bid_sample = df_bid_sample[cols]\n",
    "df_price = df_ask_sample.merge(df_bid_sample, left_index=True, right_index=True)"
   ]
  },
  {
   "cell_type": "code",
   "execution_count": null,
   "id": "26ae23aa",
   "metadata": {},
   "outputs": [],
   "source": [
    "df_price[\"last_ask\"] = df_price[\"price_x\"].fillna(method=\"ffill\")\n",
    "df_price[\"last_bid\"] = df_price[\"price_y\"].fillna(method=\"ffill\")"
   ]
  },
  {
   "cell_type": "code",
   "execution_count": null,
   "id": "44a36288",
   "metadata": {},
   "outputs": [],
   "source": [
    "df_price[\"curve_intersection\"] = df_price[\"last_bid\"] <= df_price[\"last_ask\"]\n",
    "df_price.reset_index(inplace=True)"
   ]
  },
  {
   "cell_type": "code",
   "execution_count": null,
   "id": "33c72bf6",
   "metadata": {},
   "outputs": [],
   "source": [
    "cleared_price = df_price[df_price[\"curve_intersection\"]].iloc[0]\n",
    "cleared_price"
   ]
  },
  {
   "cell_type": "code",
   "execution_count": null,
   "id": "7eccce3e",
   "metadata": {},
   "outputs": [],
   "source": [
    "fig, ax = plt.subplots(figsize=(10, 7))\n",
    "for date in pd.date_range(start=\"2020-01-01\", end=\"2020-01-01\", freq=\"D\"):\n",
    "    df_ask_date.loc[date].plot(x=\"agg_energy\", y=\"price\", ax=ax, label=\"\", color=\"blue\", alpha=1)\n",
    "    df_bid_date.loc[date].plot(x=\"agg_energy\", y=\"price\", ax=ax, label=\"\", color=\"orange\", alpha=1)\n",
    "    ax.plot(cleared_price[\"agg_energy\"], cleared_price[\"last_ask\"], marker=\"o\", color=\"black\", markersize=5)"
   ]
  },
  {
   "cell_type": "code",
   "execution_count": 12,
   "id": "0bea7708",
   "metadata": {},
   "outputs": [],
   "source": [
    "def obtain_cleared_price(df_ask: pd.DataFrame, df_bid: pd.DataFrame, date: pd.Timestamp) -> pd.Series:\n",
    "    df_ask = df_ask.loc[date].reset_index()\n",
    "    df_bid = df_bid.loc[date].reset_index()\n",
    "    \n",
    "    ask_agg_energy = df_ask[\"agg_energy\"].values\n",
    "    bid_agg_energy = df_bid[\"agg_energy\"].values\n",
    "    agg_energy = np.unique(np.sort(np.concatenate([ask_agg_energy, bid_agg_energy])))\n",
    "    \n",
    "    df_ask = df_ask.set_index(\"agg_energy\").reindex(agg_energy)\n",
    "    df_bid = df_bid.set_index(\"agg_energy\").reindex(agg_energy)\n",
    "    \n",
    "    cols = [\"offer_type\", \"price\"]\n",
    "    df_ask = df_ask[cols]\n",
    "    df_bid = df_bid[cols]\n",
    "    df_price = df_ask.merge(df_bid, left_index=True, right_index=True, suffixes=(\"_ask\", \"_bid\"))\n",
    "    \n",
    "    df_price[\"last_ask\"] = df_price[\"price_ask\"].fillna(method=\"ffill\")\n",
    "    df_price[\"last_bid\"] = df_price[\"price_bid\"].fillna(method=\"ffill\")\n",
    "    \n",
    "    df_price[\"curve_intersection\"] = df_price[\"last_bid\"] <= df_price[\"last_ask\"]\n",
    "    df_price.reset_index(inplace=True)\n",
    "    \n",
    "    cleared_price = df_price[df_price[\"curve_intersection\"]].iloc[0]\n",
    "    cleared_price = cleared_price.rename({\"last_ask\": \"price\"})[[\"agg_energy\", \"price\"]] \n",
    "    cleared_price.name = date\n",
    "    return cleared_price"
   ]
  },
  {
   "cell_type": "code",
   "execution_count": 13,
   "id": "14cbc2ce",
   "metadata": {},
   "outputs": [],
   "source": [
    "dates = pd.date_range(start=\"2016-01-01\", end=\"2021-10-31\", freq=\"D\")\n",
    "series = []\n",
    "for i, date in enumerate(dates):\n",
    "    series.append(obtain_cleared_price(df_ask=df_ask_date, df_bid=df_bid_date, date=date))"
   ]
  },
  {
   "cell_type": "code",
   "execution_count": null,
   "id": "47f6a213",
   "metadata": {},
   "outputs": [],
   "source": [
    "fig, ax = plt.subplots(figsize=(10,7))\n",
    "price_series = pd.concat(series, axis=1).T\n",
    "ax.scatter(x=price_series[\"agg_energy\"], y=price_series[\"price\"], marker=\"o\", alpha=0.1)"
   ]
  },
  {
   "cell_type": "code",
   "execution_count": null,
   "id": "6f1f9585",
   "metadata": {},
   "outputs": [],
   "source": [
    "price_series.head()"
   ]
  },
  {
   "cell_type": "code",
   "execution_count": null,
   "id": "9f4f9c36",
   "metadata": {},
   "outputs": [],
   "source": [
    "%matplotlib tk\n",
    "fig, ax = plt.subplots(figsize=(10, 7))\n",
    "\n",
    "dates = pd.date_range(start=\"2020-01-01\", end=\"2021-10-31\", freq=\"D\")\n",
    "first_date = dates[0]\n",
    "initial_point = price_series.loc[first_date]\n",
    "price_points, = ax.plot(initial_point[\"agg_energy\"], initial_point[\"price\"], \n",
    "                        color=\"blue\", marker=\"o\", ls=\"-\", alpha=0.1)\n",
    "ax.set_xlim(24_000, 42_500)\n",
    "ax.set_ylim(-5, 250)\n",
    "ax.set_xlabel(\"Energy [MWh]\")\n",
    "ax.set_ylabel(\"Price [€/MWh]\")\n",
    "\n",
    "\n",
    "def animate(i):\n",
    "    date = dates[i]\n",
    "    prices = price_series.loc[first_date:date]\n",
    "    \n",
    "    ax.set_title(date.strftime(\"%Y-%m-%d\"))\n",
    "    price_points.set_xdata(prices[\"agg_energy\"].values)\n",
    "    price_points.set_ydata(prices[\"price\"].values)\n",
    "    \n",
    "    return price_points,\n",
    "\n",
    "\n",
    "ani = animation.FuncAnimation(fig, animate, interval=120, blit=False, save_count=len(dates))\n",
    "FFwriter = animation.FFMpegWriter(fps=20)\n",
    "ani.save('energy_price_evolution_hour_21_2020_2021.mp4', writer = FFwriter)\n",
    "plt.show()"
   ]
  },
  {
   "cell_type": "code",
   "execution_count": null,
   "id": "700afa12",
   "metadata": {},
   "outputs": [],
   "source": [
    "df[\"hour\"].unique()[0]"
   ]
  },
  {
   "cell_type": "markdown",
   "id": "27102c63",
   "metadata": {},
   "source": [
    "### Use OfferCurves class"
   ]
  },
  {
   "cell_type": "code",
   "execution_count": 5,
   "id": "900a86dd",
   "metadata": {},
   "outputs": [],
   "source": [
    "offer_curves_21 = OfferCurves(df=df)"
   ]
  },
  {
   "cell_type": "code",
   "execution_count": 8,
   "id": "4a925a14",
   "metadata": {},
   "outputs": [
    {
     "data": {
      "text/html": [
       "<div>\n",
       "<style scoped>\n",
       "    .dataframe tbody tr th:only-of-type {\n",
       "        vertical-align: middle;\n",
       "    }\n",
       "\n",
       "    .dataframe tbody tr th {\n",
       "        vertical-align: top;\n",
       "    }\n",
       "\n",
       "    .dataframe thead th {\n",
       "        text-align: right;\n",
       "    }\n",
       "</style>\n",
       "<table border=\"1\" class=\"dataframe\">\n",
       "  <thead>\n",
       "    <tr style=\"text-align: right;\">\n",
       "      <th></th>\n",
       "      <th>agg_energy</th>\n",
       "      <th>price</th>\n",
       "    </tr>\n",
       "  </thead>\n",
       "  <tbody>\n",
       "    <tr>\n",
       "      <th>2016-01-01 00:00:00+00:00</th>\n",
       "      <td>28911.6</td>\n",
       "      <td>4.0</td>\n",
       "    </tr>\n",
       "    <tr>\n",
       "      <th>2016-01-02 00:00:00+00:00</th>\n",
       "      <td>28770.7</td>\n",
       "      <td>25.0</td>\n",
       "    </tr>\n",
       "    <tr>\n",
       "      <th>2016-01-03 00:00:00+00:00</th>\n",
       "      <td>31112.0</td>\n",
       "      <td>3.19</td>\n",
       "    </tr>\n",
       "    <tr>\n",
       "      <th>2016-01-04 00:00:00+00:00</th>\n",
       "      <td>32966.9</td>\n",
       "      <td>11.3</td>\n",
       "    </tr>\n",
       "    <tr>\n",
       "      <th>2016-01-05 00:00:00+00:00</th>\n",
       "      <td>33259.2</td>\n",
       "      <td>11.0</td>\n",
       "    </tr>\n",
       "    <tr>\n",
       "      <th>...</th>\n",
       "      <td>...</td>\n",
       "      <td>...</td>\n",
       "    </tr>\n",
       "    <tr>\n",
       "      <th>2021-10-27 00:00:00+00:00</th>\n",
       "      <td>30374.5</td>\n",
       "      <td>226.42</td>\n",
       "    </tr>\n",
       "    <tr>\n",
       "      <th>2021-10-28 00:00:00+00:00</th>\n",
       "      <td>30761.4</td>\n",
       "      <td>183.74</td>\n",
       "    </tr>\n",
       "    <tr>\n",
       "      <th>2021-10-29 00:00:00+00:00</th>\n",
       "      <td>31121.8</td>\n",
       "      <td>145.75</td>\n",
       "    </tr>\n",
       "    <tr>\n",
       "      <th>2021-10-30 00:00:00+00:00</th>\n",
       "      <td>28548.7</td>\n",
       "      <td>85.91</td>\n",
       "    </tr>\n",
       "    <tr>\n",
       "      <th>2021-10-31 00:00:00+00:00</th>\n",
       "      <td>27190.0</td>\n",
       "      <td>40.0</td>\n",
       "    </tr>\n",
       "  </tbody>\n",
       "</table>\n",
       "<p>2131 rows × 2 columns</p>\n",
       "</div>"
      ],
      "text/plain": [
       "                          agg_energy   price\n",
       "2016-01-01 00:00:00+00:00    28911.6     4.0\n",
       "2016-01-02 00:00:00+00:00    28770.7    25.0\n",
       "2016-01-03 00:00:00+00:00    31112.0    3.19\n",
       "2016-01-04 00:00:00+00:00    32966.9    11.3\n",
       "2016-01-05 00:00:00+00:00    33259.2    11.0\n",
       "...                              ...     ...\n",
       "2021-10-27 00:00:00+00:00    30374.5  226.42\n",
       "2021-10-28 00:00:00+00:00    30761.4  183.74\n",
       "2021-10-29 00:00:00+00:00    31121.8  145.75\n",
       "2021-10-30 00:00:00+00:00    28548.7   85.91\n",
       "2021-10-31 00:00:00+00:00    27190.0    40.0\n",
       "\n",
       "[2131 rows x 2 columns]"
      ]
     },
     "execution_count": 8,
     "metadata": {},
     "output_type": "execute_result"
    }
   ],
   "source": [
    "offer_curves_21.cleared_price_df"
   ]
  }
 ],
 "metadata": {
  "kernelspec": {
   "display_name": "Python 3 (ipykernel)",
   "language": "python",
   "name": "python3"
  },
  "language_info": {
   "codemirror_mode": {
    "name": "ipython",
    "version": 3
   },
   "file_extension": ".py",
   "mimetype": "text/x-python",
   "name": "python",
   "nbconvert_exporter": "python",
   "pygments_lexer": "ipython3",
   "version": "3.8.11"
  }
 },
 "nbformat": 4,
 "nbformat_minor": 5
}
