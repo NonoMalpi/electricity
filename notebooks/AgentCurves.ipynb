{
 "cells": [
  {
   "cell_type": "code",
   "execution_count": 1,
   "id": "d5620534",
   "metadata": {},
   "outputs": [],
   "source": [
    "import os\n",
    "import sys\n",
    "module_path = os.path.abspath(os.path.join('..'))\n",
    "if module_path not in sys.path:\n",
    "    sys.path.append(module_path)"
   ]
  },
  {
   "cell_type": "code",
   "execution_count": 2,
   "id": "48180a06",
   "metadata": {},
   "outputs": [],
   "source": [
    "from io import BytesIO\n",
    "\n",
    "import warnings\n",
    "warnings.filterwarnings(action='ignore')\n",
    "\n",
    "import pandas as pd\n",
    "import matplotlib.pyplot as plt\n",
    "\n",
    "from google.cloud import bigquery\n",
    "\n",
    "from data_collector import Omie, MarginalPriceParams, OfferCurvesParams"
   ]
  },
  {
   "cell_type": "code",
   "execution_count": null,
   "id": "8f2f5d7e",
   "metadata": {},
   "outputs": [],
   "source": [
    "filename = \"curva_pbc\"\n",
    "date = \"20211001\"\n",
    "\n",
    "date = pd.to_datetime(date).strftime(\"%Y%m%d\")\n",
    "filename_date = f\"{filename}_{date}.1\"\n",
    "\n",
    "cols = [\n",
    "    \"hour\", \"date\", \"country\", \"unit\", \"offer_type\", \"energy\", \"price\", \"status\"\n",
    "]"
   ]
  },
  {
   "cell_type": "code",
   "execution_count": null,
   "id": "ccfe6f5c",
   "metadata": {},
   "outputs": [],
   "source": [
    "content = Omie._download_content(family_file=filename, filename=filename_date)"
   ]
  },
  {
   "cell_type": "code",
   "execution_count": null,
   "id": "bc5b47ca",
   "metadata": {},
   "outputs": [],
   "source": [
    "filebytes = BytesIO(content)"
   ]
  },
  {
   "cell_type": "code",
   "execution_count": null,
   "id": "20cd6c0e",
   "metadata": {},
   "outputs": [],
   "source": [
    "df = pd.read_csv(filebytes, delimiter=\";\", index_col=False, skiprows=3, names=cols, encoding=\"latin-1\")\n",
    "df.drop([\"unit\"], axis=1, inplace=True)\n",
    "df.dropna(inplace=True)\n",
    "\n",
    "df[\"price\"] = df[\"price\"].str.replace(\".\", \"\").str.replace(\",\", \".\").astype(float)\n",
    "df[\"energy\"] = df[\"energy\"].str.replace(\".\", \"\").str.replace(\",\", \".\").astype(float)"
   ]
  },
  {
   "cell_type": "code",
   "execution_count": null,
   "id": "07f51acc",
   "metadata": {},
   "outputs": [],
   "source": [
    "df.dropna(axis=0, how=\"all\")"
   ]
  },
  {
   "cell_type": "code",
   "execution_count": null,
   "id": "7f88b0f9",
   "metadata": {},
   "outputs": [],
   "source": [
    "df_1 = df[df[\"hour\"] == 1]"
   ]
  },
  {
   "cell_type": "code",
   "execution_count": null,
   "id": "f4b5c306",
   "metadata": {},
   "outputs": [],
   "source": [
    "df_offer = df_1[(df_1[\"offer_type\"] == \"V\") & (df_1[\"status\"] == \"O\")].sort_values(\"price\")\n",
    "df_offer[\"agg_energy\"] = df_offer[\"energy\"].cumsum() "
   ]
  },
  {
   "cell_type": "code",
   "execution_count": null,
   "id": "dc6364c8",
   "metadata": {},
   "outputs": [],
   "source": [
    "df_demand = df_1[(df_1[\"offer_type\"] == \"C\") & (df_1[\"status\"] == \"O\")].sort_values(\"price\", ascending=False)\n",
    "df_demand[\"agg_energy\"] = df_demand[\"energy\"].cumsum()"
   ]
  },
  {
   "cell_type": "code",
   "execution_count": null,
   "id": "dc51dd67",
   "metadata": {},
   "outputs": [],
   "source": [
    "fig, ax = plt.subplots(figsize=(10, 7))\n",
    "df_offer.plot(x=\"agg_energy\", y=\"price\", ax=ax, label=\"ask\")\n",
    "df_demand.plot(x=\"agg_energy\", y=\"price\", ax=ax, label=\"bid\")\n",
    "ax.set_xlim(11000, 24000)\n",
    "ax.set_ylim(-10, 300)"
   ]
  },
  {
   "cell_type": "code",
   "execution_count": null,
   "id": "cae00ff6",
   "metadata": {},
   "outputs": [],
   "source": [
    "df_units = pd.read_csv(\"curva_pbc_uof_20211001.1\", delimiter=\";\", index_col=False, skiprows=3, encoding=\"latin-1\",\n",
    "                      names=cols)\n",
    "#df_units.dropna(inplace=True)\n",
    "\n",
    "df_units[\"price\"] = df_units[\"price\"].str.replace(\".\", \"\").str.replace(\",\", \".\").astype(float)\n",
    "df_units[\"energy\"] = df_units[\"energy\"].str.replace(\".\", \"\").str.replace(\",\", \".\").astype(float)"
   ]
  },
  {
   "cell_type": "code",
   "execution_count": null,
   "id": "6d1428da",
   "metadata": {},
   "outputs": [],
   "source": [
    "df_units"
   ]
  },
  {
   "cell_type": "code",
   "execution_count": null,
   "id": "6dbc8bbc",
   "metadata": {},
   "outputs": [],
   "source": [
    "df_units_offer = df_units[\n",
    "    (df_units[\"hour\"] == 1) & (df_units[\"offer_type\"] == \"V\") & (df_units[\"status\"] == \"O\")\n",
    "].sort_values(\"price\")"
   ]
  },
  {
   "cell_type": "code",
   "execution_count": null,
   "id": "655894cc",
   "metadata": {},
   "outputs": [],
   "source": [
    "df_offer"
   ]
  },
  {
   "cell_type": "code",
   "execution_count": null,
   "id": "69c2c8e9",
   "metadata": {},
   "outputs": [],
   "source": [
    "df_units_offer.head(50)"
   ]
  },
  {
   "cell_type": "code",
   "execution_count": null,
   "id": "33777ff0",
   "metadata": {},
   "outputs": [],
   "source": [
    "filename = \"curva_pbc_uof\"\n",
    "year = 2016\n",
    "month = 1\n",
    "year_month = f\"{year}{month:02d}\"\n",
    "\n",
    "date_file_pattern = f\"{filename}_{year_month}\"\n",
    "filename_zip = date_file_pattern + \".zip\""
   ]
  },
  {
   "cell_type": "code",
   "execution_count": null,
   "id": "0f48ade6",
   "metadata": {},
   "outputs": [],
   "source": [
    "content = Omie._download_content(family_file=filename, filename=filename_zip)"
   ]
  },
  {
   "cell_type": "code",
   "execution_count": null,
   "id": "a036b071",
   "metadata": {},
   "outputs": [],
   "source": [
    "type(content)"
   ]
  },
  {
   "cell_type": "code",
   "execution_count": null,
   "id": "09c1d66f",
   "metadata": {},
   "outputs": [],
   "source": [
    "unzip_file = Omie._decompress_zip(zip_content=content)"
   ]
  },
  {
   "cell_type": "code",
   "execution_count": null,
   "id": "c62dc0b2",
   "metadata": {},
   "outputs": [],
   "source": [
    "d = pd.to_datetime(f'{year}-{month}')\n",
    "dates = pd.date_range(start=d.strftime(\"%Y-%m-%d\"), periods=d.daysinmonth, freq=\"D\")  \n",
    "\n",
    "df_units_list = []\n",
    "for d in dates:\n",
    "    file_pattern = Omie.date_file_pattern.format(filename=filename, date_str=d.strftime(\"%Y%m%d\"))\n",
    "    file_list = [s for s in unzip_file.namelist() if file_pattern in s]\n",
    "    \n",
    "    if len(file_list) > 1:\n",
    "        print(f\"There are multiple files for {file_pattern}: {len(file_list)}\")\n",
    "    \n",
    "    file = file_list[-1]\n",
    "\n",
    "    filebytes = unzip_file.open(name=file, mode=\"r\")\n",
    "    \n",
    "    df = pd.read_csv(filepath_or_buffer=filebytes, \n",
    "                     delimiter=\";\", index_col=False, skiprows=3, encoding=\"latin-1\",\n",
    "                     names=cols)\n",
    "    df = Omie._parse_floats(df=df, col_name=\"price\")\n",
    "    df = Omie._parse_floats(df=df, col_name=\"energy\")\n",
    "    df.dropna(inplace=True)\n",
    "    \n",
    "    df_units_list.append(df)"
   ]
  },
  {
   "cell_type": "code",
   "execution_count": null,
   "id": "1055f1fe",
   "metadata": {},
   "outputs": [],
   "source": [
    "df_curves_month = pd.concat(df_units_list, ignore_index=True)"
   ]
  },
  {
   "cell_type": "code",
   "execution_count": null,
   "id": "c45d0891",
   "metadata": {},
   "outputs": [],
   "source": [
    "df_curves_month"
   ]
  },
  {
   "cell_type": "code",
   "execution_count": null,
   "id": "b2147bde",
   "metadata": {},
   "outputs": [],
   "source": [
    "pd.to_datetime(df_curves_month[\"date\"], format=\"%d/%m/%Y\")"
   ]
  },
  {
   "cell_type": "code",
   "execution_count": null,
   "id": "8b275585",
   "metadata": {},
   "outputs": [],
   "source": [
    "cc_unit_offers = df_curves_month[(df_curves_month[\"unit\"] == \"SBO3\") & \n",
    "                (df_curves_month[\"status\"] == \"O\")].sort_values([\"date\", \"hour\"])"
   ]
  },
  {
   "cell_type": "code",
   "execution_count": null,
   "id": "9349b53e",
   "metadata": {},
   "outputs": [],
   "source": [
    "cc_unit_offers[\"total_enegy\"] = cc_unit_offers.groupby(['date', \"hour\"])['energy'].transform('sum')\n",
    "cc_unit_offers[\"weighted_price\"] = (cc_unit_offers[\"price\"] * cc_unit_offers[\"energy\"]) /\\\n",
    "                                    cc_unit_offers[\"total_enegy\"]"
   ]
  },
  {
   "cell_type": "code",
   "execution_count": null,
   "id": "743b565b",
   "metadata": {},
   "outputs": [],
   "source": [
    "cc_unit_offers"
   ]
  },
  {
   "cell_type": "code",
   "execution_count": null,
   "id": "8cb0c9aa",
   "metadata": {},
   "outputs": [],
   "source": [
    "cc_unit_offers.groupby([\"date\", \"hour\"])[\"weighted_price\"].sum().plot(figsize=(20, 7))"
   ]
  },
  {
   "cell_type": "code",
   "execution_count": null,
   "id": "73b18747",
   "metadata": {
    "scrolled": false
   },
   "outputs": [],
   "source": [
    "cc_unit_offers.groupby([\"date\", \"hour\"])[\"weighted_price\"].sum().head(50)"
   ]
  },
  {
   "cell_type": "code",
   "execution_count": null,
   "id": "c53e5f5a",
   "metadata": {},
   "outputs": [],
   "source": [
    "cc_unit_offers.head(50)"
   ]
  },
  {
   "cell_type": "code",
   "execution_count": null,
   "id": "f37c5f0d",
   "metadata": {},
   "outputs": [],
   "source": []
  },
  {
   "cell_type": "code",
   "execution_count": null,
   "id": "537b9021",
   "metadata": {},
   "outputs": [],
   "source": [
    "df = Omie.download_year_file(omie_parameter=MarginalPriceParams, year=2020)"
   ]
  },
  {
   "cell_type": "code",
   "execution_count": null,
   "id": "a70218cc",
   "metadata": {},
   "outputs": [],
   "source": [
    "Omie.download_year_file(omie_parameter=OfferCurvesParams, year=2020)"
   ]
  },
  {
   "cell_type": "code",
   "execution_count": null,
   "id": "86bdbfcc",
   "metadata": {},
   "outputs": [],
   "source": [
    "df_2[\"status\"].value_counts()"
   ]
  },
  {
   "cell_type": "code",
   "execution_count": null,
   "id": "f5f20eb2",
   "metadata": {},
   "outputs": [],
   "source": [
    "df_2 = df_2[df_2[\"status\"] == OfferCurvesParams.OfferStatus.offered]"
   ]
  },
  {
   "cell_type": "code",
   "execution_count": null,
   "id": "efba26a4",
   "metadata": {},
   "outputs": [],
   "source": [
    "df = pd.read_csv(\"test_cves_2020.csv\", nrows=200)"
   ]
  },
  {
   "cell_type": "code",
   "execution_count": null,
   "id": "c55eb424",
   "metadata": {},
   "outputs": [],
   "source": [
    "df.head()"
   ]
  },
  {
   "cell_type": "code",
   "execution_count": null,
   "id": "28e33e84",
   "metadata": {},
   "outputs": [],
   "source": []
  },
  {
   "cell_type": "code",
   "execution_count": null,
   "id": "e5dac8e9",
   "metadata": {},
   "outputs": [],
   "source": [
    "job_config = bigquery.job.LoadJobConfig()\n",
    "job_config.autodetect = True\n",
    "job_config.create_disposition = bigquery.job.CreateDisposition.CREATE_IF_NEEDED\n",
    "job_config.write_disposition = bigquery.job.WriteDisposition.WRITE_APPEND\n",
    "\n",
    "for year in range(2016, 2020):\n",
    "    print(\"=\"*15 +  f\" {year} \" + \"=\"*15)\n",
    "    Omie.upload_year_file_gcp(omie_parameter=OfferCurvesParams, year=2020, job_config=job_config)"
   ]
  },
  {
   "cell_type": "code",
   "execution_count": null,
   "id": "5b24495d",
   "metadata": {},
   "outputs": [],
   "source": [
    "job_config = bigquery.job.LoadJobConfig()\n",
    "job_config.autodetect = True\n",
    "job_config.create_disposition = bigquery.job.CreateDisposition.CREATE_IF_NEEDED\n",
    "job_config.write_disposition = bigquery.job.WriteDisposition.WRITE_APPEND\n",
    "dates = pd.date_range(start=\"2021-01-04\", end=\"2022-02-18\", freq=\"D\")\n",
    "\n",
    "for date in dates:\n",
    "    print(date)\n",
    "    Omie.upload_date_file_gcp(omie_parameter=OfferCurvesParams, \n",
    "                              date=date.strftime(\"%Y-%m-%d\"), \n",
    "                              job_config=job_config)"
   ]
  },
  {
   "cell_type": "code",
   "execution_count": null,
   "id": "16137cce",
   "metadata": {},
   "outputs": [],
   "source": []
  },
  {
   "cell_type": "code",
   "execution_count": null,
   "id": "2d4729ad",
   "metadata": {},
   "outputs": [],
   "source": []
  },
  {
   "cell_type": "code",
   "execution_count": null,
   "id": "351140d2",
   "metadata": {},
   "outputs": [],
   "source": []
  },
  {
   "cell_type": "code",
   "execution_count": null,
   "id": "840ab728",
   "metadata": {},
   "outputs": [],
   "source": [
    "df = Omie.download_period_file(omie_parameter=MarginalPriceParams, start_year=2016, end_year=2018)"
   ]
  },
  {
   "cell_type": "code",
   "execution_count": null,
   "id": "e0ec2f55",
   "metadata": {},
   "outputs": [],
   "source": [
    "df"
   ]
  },
  {
   "cell_type": "code",
   "execution_count": 4,
   "id": "58eb78ac",
   "metadata": {},
   "outputs": [
    {
     "name": "stderr",
     "output_type": "stream",
     "text": [
      "2022-02-18 09:35:53,227|root|INFO|Uploading batch until date 2016-04-10 to BigQuery ...\n",
      "2022-02-18 09:36:32,578|root|INFO|Uploading batch until date 2016-07-19 to BigQuery ...\n",
      "2022-02-18 09:37:07,675|root|INFO|Uploading batch until date 2016-10-27 to BigQuery ...\n",
      "2022-02-18 09:37:38,549|root|INFO|Uploading batch until date 2016-12-31 to BigQuery ...\n"
     ]
    }
   ],
   "source": [
    "job_config = bigquery.job.LoadJobConfig()\n",
    "job_config.autodetect = True\n",
    "job_config.create_disposition = bigquery.job.CreateDisposition.CREATE_IF_NEEDED\n",
    "job_config.write_disposition = bigquery.job.WriteDisposition.WRITE_APPEND\n",
    "Omie.upload_bq_year_file(omie_parameter=OfferCurvesParams, year=2016, job_config=job_config)"
   ]
  },
  {
   "cell_type": "code",
   "execution_count": null,
   "id": "564ccb04",
   "metadata": {},
   "outputs": [],
   "source": []
  },
  {
   "cell_type": "code",
   "execution_count": null,
   "id": "7d6a69ff",
   "metadata": {},
   "outputs": [],
   "source": []
  }
 ],
 "metadata": {
  "kernelspec": {
   "display_name": "Python 3 (ipykernel)",
   "language": "python",
   "name": "python3"
  },
  "language_info": {
   "codemirror_mode": {
    "name": "ipython",
    "version": 3
   },
   "file_extension": ".py",
   "mimetype": "text/x-python",
   "name": "python",
   "nbconvert_exporter": "python",
   "pygments_lexer": "ipython3",
   "version": "3.8.11"
  }
 },
 "nbformat": 4,
 "nbformat_minor": 5
}
