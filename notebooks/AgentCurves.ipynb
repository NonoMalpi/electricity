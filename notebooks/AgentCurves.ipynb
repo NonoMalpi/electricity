{
 "cells": [
  {
   "cell_type": "code",
   "execution_count": 1,
   "id": "d5620534",
   "metadata": {},
   "outputs": [],
   "source": [
    "import os\n",
    "import sys\n",
    "module_path = os.path.abspath(os.path.join('..'))\n",
    "if module_path not in sys.path:\n",
    "    sys.path.append(module_path)"
   ]
  },
  {
   "cell_type": "code",
   "execution_count": 2,
   "id": "48180a06",
   "metadata": {},
   "outputs": [],
   "source": [
    "from io import BytesIO\n",
    "\n",
    "import warnings\n",
    "warnings.filterwarnings(action='ignore')\n",
    "\n",
    "import pandas as pd\n",
    "import matplotlib.pyplot as plt\n",
    "\n",
    "from google.cloud import bigquery\n",
    "\n",
    "from data_collector import Omie, MarginalPriceParams, OfferCurvesParams"
   ]
  },
  {
   "cell_type": "code",
   "execution_count": null,
   "id": "8f2f5d7e",
   "metadata": {},
   "outputs": [],
   "source": [
    "filename = \"curva_pbc\"\n",
    "date = \"20211001\"\n",
    "\n",
    "date = pd.to_datetime(date).strftime(\"%Y%m%d\")\n",
    "filename_date = f\"{filename}_{date}.1\"\n",
    "\n",
    "cols = [\n",
    "    \"hour\", \"date\", \"country\", \"unit\", \"offer_type\", \"energy\", \"price\", \"status\"\n",
    "]"
   ]
  },
  {
   "cell_type": "code",
   "execution_count": null,
   "id": "ccfe6f5c",
   "metadata": {},
   "outputs": [],
   "source": [
    "content = Omie._download_content(family_file=filename, filename=filename_date)"
   ]
  },
  {
   "cell_type": "code",
   "execution_count": null,
   "id": "bc5b47ca",
   "metadata": {},
   "outputs": [],
   "source": [
    "filebytes = BytesIO(content)"
   ]
  },
  {
   "cell_type": "code",
   "execution_count": null,
   "id": "20cd6c0e",
   "metadata": {},
   "outputs": [],
   "source": [
    "df = pd.read_csv(filebytes, delimiter=\";\", index_col=False, skiprows=3, names=cols, encoding=\"latin-1\")\n",
    "df.drop([\"unit\"], axis=1, inplace=True)\n",
    "df.dropna(inplace=True)\n",
    "\n",
    "df[\"price\"] = df[\"price\"].str.replace(\".\", \"\").str.replace(\",\", \".\").astype(float)\n",
    "df[\"energy\"] = df[\"energy\"].str.replace(\".\", \"\").str.replace(\",\", \".\").astype(float)"
   ]
  },
  {
   "cell_type": "code",
   "execution_count": null,
   "id": "07f51acc",
   "metadata": {},
   "outputs": [],
   "source": [
    "df.dropna(axis=0, how=\"all\")"
   ]
  },
  {
   "cell_type": "code",
   "execution_count": null,
   "id": "7f88b0f9",
   "metadata": {},
   "outputs": [],
   "source": [
    "df_1 = df[df[\"hour\"] == 1]"
   ]
  },
  {
   "cell_type": "code",
   "execution_count": null,
   "id": "f4b5c306",
   "metadata": {},
   "outputs": [],
   "source": [
    "df_offer = df_1[(df_1[\"offer_type\"] == \"V\") & (df_1[\"status\"] == \"O\")].sort_values(\"price\")\n",
    "df_offer[\"agg_energy\"] = df_offer[\"energy\"].cumsum() "
   ]
  },
  {
   "cell_type": "code",
   "execution_count": null,
   "id": "dc6364c8",
   "metadata": {},
   "outputs": [],
   "source": [
    "df_demand = df_1[(df_1[\"offer_type\"] == \"C\") & (df_1[\"status\"] == \"O\")].sort_values(\"price\", ascending=False)\n",
    "df_demand[\"agg_energy\"] = df_demand[\"energy\"].cumsum()"
   ]
  },
  {
   "cell_type": "code",
   "execution_count": null,
   "id": "dc51dd67",
   "metadata": {},
   "outputs": [],
   "source": [
    "fig, ax = plt.subplots(figsize=(10, 7))\n",
    "df_offer.plot(x=\"agg_energy\", y=\"price\", ax=ax, label=\"ask\")\n",
    "df_demand.plot(x=\"agg_energy\", y=\"price\", ax=ax, label=\"bid\")\n",
    "ax.set_xlim(11000, 24000)\n",
    "ax.set_ylim(-10, 300)"
   ]
  },
  {
   "cell_type": "code",
   "execution_count": null,
   "id": "cae00ff6",
   "metadata": {},
   "outputs": [],
   "source": [
    "df_units = pd.read_csv(\"curva_pbc_uof_20211001.1\", delimiter=\";\", index_col=False, skiprows=3, encoding=\"latin-1\",\n",
    "                      names=cols)\n",
    "#df_units.dropna(inplace=True)\n",
    "\n",
    "df_units[\"price\"] = df_units[\"price\"].str.replace(\".\", \"\").str.replace(\",\", \".\").astype(float)\n",
    "df_units[\"energy\"] = df_units[\"energy\"].str.replace(\".\", \"\").str.replace(\",\", \".\").astype(float)"
   ]
  },
  {
   "cell_type": "code",
   "execution_count": null,
   "id": "6d1428da",
   "metadata": {},
   "outputs": [],
   "source": [
    "df_units"
   ]
  },
  {
   "cell_type": "code",
   "execution_count": null,
   "id": "6dbc8bbc",
   "metadata": {},
   "outputs": [],
   "source": [
    "df_units_offer = df_units[\n",
    "    (df_units[\"hour\"] == 1) & (df_units[\"offer_type\"] == \"V\") & (df_units[\"status\"] == \"O\")\n",
    "].sort_values(\"price\")"
   ]
  },
  {
   "cell_type": "code",
   "execution_count": null,
   "id": "655894cc",
   "metadata": {},
   "outputs": [],
   "source": [
    "df_offer"
   ]
  },
  {
   "cell_type": "code",
   "execution_count": null,
   "id": "69c2c8e9",
   "metadata": {},
   "outputs": [],
   "source": [
    "df_units_offer.head(50)"
   ]
  },
  {
   "cell_type": "code",
   "execution_count": null,
   "id": "33777ff0",
   "metadata": {},
   "outputs": [],
   "source": [
    "filename = \"curva_pbc_uof\"\n",
    "year = 2016\n",
    "month = 1\n",
    "year_month = f\"{year}{month:02d}\"\n",
    "\n",
    "date_file_pattern = f\"{filename}_{year_month}\"\n",
    "filename_zip = date_file_pattern + \".zip\""
   ]
  },
  {
   "cell_type": "code",
   "execution_count": null,
   "id": "0f48ade6",
   "metadata": {},
   "outputs": [],
   "source": [
    "content = Omie._download_content(family_file=filename, filename=filename_zip)"
   ]
  },
  {
   "cell_type": "code",
   "execution_count": null,
   "id": "a036b071",
   "metadata": {},
   "outputs": [],
   "source": [
    "type(content)"
   ]
  },
  {
   "cell_type": "code",
   "execution_count": null,
   "id": "09c1d66f",
   "metadata": {},
   "outputs": [],
   "source": [
    "unzip_file = Omie._decompress_zip(zip_content=content)"
   ]
  },
  {
   "cell_type": "code",
   "execution_count": null,
   "id": "c62dc0b2",
   "metadata": {},
   "outputs": [],
   "source": [
    "d = pd.to_datetime(f'{year}-{month}')\n",
    "dates = pd.date_range(start=d.strftime(\"%Y-%m-%d\"), periods=d.daysinmonth, freq=\"D\")  \n",
    "\n",
    "df_units_list = []\n",
    "for d in dates:\n",
    "    file_pattern = Omie.date_file_pattern.format(filename=filename, date_str=d.strftime(\"%Y%m%d\"))\n",
    "    file_list = [s for s in unzip_file.namelist() if file_pattern in s]\n",
    "    \n",
    "    if len(file_list) > 1:\n",
    "        print(f\"There are multiple files for {file_pattern}: {len(file_list)}\")\n",
    "    \n",
    "    file = file_list[-1]\n",
    "\n",
    "    filebytes = unzip_file.open(name=file, mode=\"r\")\n",
    "    \n",
    "    df = pd.read_csv(filepath_or_buffer=filebytes, \n",
    "                     delimiter=\";\", index_col=False, skiprows=3, encoding=\"latin-1\",\n",
    "                     names=cols)\n",
    "    df = Omie._parse_floats(df=df, col_name=\"price\")\n",
    "    df = Omie._parse_floats(df=df, col_name=\"energy\")\n",
    "    df.dropna(inplace=True)\n",
    "    \n",
    "    df_units_list.append(df)"
   ]
  },
  {
   "cell_type": "code",
   "execution_count": null,
   "id": "1055f1fe",
   "metadata": {},
   "outputs": [],
   "source": [
    "df_curves_month = pd.concat(df_units_list, ignore_index=True)"
   ]
  },
  {
   "cell_type": "code",
   "execution_count": null,
   "id": "c45d0891",
   "metadata": {},
   "outputs": [],
   "source": [
    "df_curves_month"
   ]
  },
  {
   "cell_type": "code",
   "execution_count": null,
   "id": "b2147bde",
   "metadata": {},
   "outputs": [],
   "source": [
    "pd.to_datetime(df_curves_month[\"date\"], format=\"%d/%m/%Y\")"
   ]
  },
  {
   "cell_type": "code",
   "execution_count": null,
   "id": "8b275585",
   "metadata": {},
   "outputs": [],
   "source": [
    "cc_unit_offers = df_curves_month[(df_curves_month[\"unit\"] == \"SBO3\") & \n",
    "                (df_curves_month[\"status\"] == \"O\")].sort_values([\"date\", \"hour\"])"
   ]
  },
  {
   "cell_type": "code",
   "execution_count": null,
   "id": "9349b53e",
   "metadata": {},
   "outputs": [],
   "source": [
    "cc_unit_offers[\"total_enegy\"] = cc_unit_offers.groupby(['date', \"hour\"])['energy'].transform('sum')\n",
    "cc_unit_offers[\"weighted_price\"] = (cc_unit_offers[\"price\"] * cc_unit_offers[\"energy\"]) /\\\n",
    "                                    cc_unit_offers[\"total_enegy\"]"
   ]
  },
  {
   "cell_type": "code",
   "execution_count": null,
   "id": "743b565b",
   "metadata": {},
   "outputs": [],
   "source": [
    "cc_unit_offers"
   ]
  },
  {
   "cell_type": "code",
   "execution_count": null,
   "id": "8cb0c9aa",
   "metadata": {},
   "outputs": [],
   "source": [
    "cc_unit_offers.groupby([\"date\", \"hour\"])[\"weighted_price\"].sum().plot(figsize=(20, 7))"
   ]
  },
  {
   "cell_type": "code",
   "execution_count": null,
   "id": "73b18747",
   "metadata": {
    "scrolled": false
   },
   "outputs": [],
   "source": [
    "cc_unit_offers.groupby([\"date\", \"hour\"])[\"weighted_price\"].sum().head(50)"
   ]
  },
  {
   "cell_type": "code",
   "execution_count": null,
   "id": "c53e5f5a",
   "metadata": {},
   "outputs": [],
   "source": [
    "cc_unit_offers.head(50)"
   ]
  },
  {
   "cell_type": "code",
   "execution_count": null,
   "id": "f37c5f0d",
   "metadata": {},
   "outputs": [],
   "source": []
  },
  {
   "cell_type": "code",
   "execution_count": null,
   "id": "537b9021",
   "metadata": {},
   "outputs": [],
   "source": [
    "df = Omie.download_year_file(omie_parameter=MarginalPriceParams, year=2020)"
   ]
  },
  {
   "cell_type": "code",
   "execution_count": null,
   "id": "a70218cc",
   "metadata": {},
   "outputs": [],
   "source": [
    "Omie.download_year_file(omie_parameter=OfferCurvesParams, year=2020)"
   ]
  },
  {
   "cell_type": "code",
   "execution_count": null,
   "id": "86bdbfcc",
   "metadata": {},
   "outputs": [],
   "source": [
    "df_2[\"status\"].value_counts()"
   ]
  },
  {
   "cell_type": "code",
   "execution_count": null,
   "id": "f5f20eb2",
   "metadata": {},
   "outputs": [],
   "source": [
    "df_2 = df_2[df_2[\"status\"] == OfferCurvesParams.OfferStatus.offered]"
   ]
  },
  {
   "cell_type": "code",
   "execution_count": null,
   "id": "efba26a4",
   "metadata": {},
   "outputs": [],
   "source": [
    "df = pd.read_csv(\"test_cves_2020.csv\", nrows=200)"
   ]
  },
  {
   "cell_type": "code",
   "execution_count": null,
   "id": "c55eb424",
   "metadata": {},
   "outputs": [],
   "source": [
    "df.head()"
   ]
  },
  {
   "cell_type": "code",
   "execution_count": null,
   "id": "28e33e84",
   "metadata": {},
   "outputs": [],
   "source": []
  },
  {
   "cell_type": "code",
   "execution_count": 8,
   "id": "e5dac8e9",
   "metadata": {},
   "outputs": [
    {
     "name": "stdout",
     "output_type": "stream",
     "text": [
      "=============== 2016 ===============\n"
     ]
    },
    {
     "name": "stderr",
     "output_type": "stream",
     "text": [
      "2022-02-17 21:18:07,548|root|INFO|Uploading batch 30 to BigQuery ...\n",
      "2022-02-17 21:18:21,888|root|INFO|Uploading batch 60 to BigQuery ...\n",
      "2022-02-17 21:18:45,150|root|INFO|Uploading batch 90 to BigQuery ...\n",
      "2022-02-17 21:19:09,331|root|INFO|Uploading batch 120 to BigQuery ...\n",
      "2022-02-17 21:19:27,685|root|INFO|Uploading batch 150 to BigQuery ...\n",
      "2022-02-17 21:19:50,227|root|INFO|Uploading batch 180 to BigQuery ...\n",
      "2022-02-17 21:20:05,767|root|INFO|Uploading batch 210 to BigQuery ...\n",
      "2022-02-17 21:20:19,303|root|INFO|Uploading batch 240 to BigQuery ...\n",
      "2022-02-17 21:20:33,433|root|INFO|Uploading batch 270 to BigQuery ...\n",
      "2022-02-17 21:20:46,790|root|INFO|Uploading batch 300 to BigQuery ...\n",
      "2022-02-17 21:21:03,217|root|INFO|Uploading batch 330 to BigQuery ...\n",
      "2022-02-17 21:21:17,477|root|INFO|Uploading batch 360 to BigQuery ...\n",
      "2022-02-17 21:21:24,400|root|INFO|Uploading batch 365 to BigQuery ...\n"
     ]
    },
    {
     "name": "stdout",
     "output_type": "stream",
     "text": [
      "=============== 2017 ===============\n"
     ]
    },
    {
     "name": "stderr",
     "output_type": "stream",
     "text": [
      "2022-02-17 21:23:28,309|root|INFO|Uploading batch 30 to BigQuery ...\n",
      "2022-02-17 21:23:41,253|root|INFO|Uploading batch 60 to BigQuery ...\n",
      "2022-02-17 21:23:54,305|root|INFO|Uploading batch 90 to BigQuery ...\n",
      "2022-02-17 21:24:08,496|root|INFO|Uploading batch 120 to BigQuery ...\n",
      "2022-02-17 21:24:20,195|root|INFO|Uploading batch 150 to BigQuery ...\n",
      "2022-02-17 21:24:32,614|root|INFO|Uploading batch 180 to BigQuery ...\n",
      "2022-02-17 21:24:45,573|root|INFO|Uploading batch 210 to BigQuery ...\n",
      "2022-02-17 21:24:58,536|root|INFO|Uploading batch 240 to BigQuery ...\n",
      "2022-02-17 21:25:12,030|root|INFO|Uploading batch 270 to BigQuery ...\n",
      "2022-02-17 21:25:25,859|root|INFO|Uploading batch 300 to BigQuery ...\n",
      "2022-02-17 21:25:39,828|root|INFO|Uploading batch 330 to BigQuery ...\n",
      "2022-02-17 21:25:53,945|root|INFO|Uploading batch 360 to BigQuery ...\n",
      "2022-02-17 21:26:00,142|root|INFO|Uploading batch 365 to BigQuery ...\n"
     ]
    },
    {
     "name": "stdout",
     "output_type": "stream",
     "text": [
      "=============== 2018 ===============\n"
     ]
    },
    {
     "name": "stderr",
     "output_type": "stream",
     "text": [
      "2022-02-17 21:29:49,442|root|INFO|Uploading batch 30 to BigQuery ...\n",
      "2022-02-17 21:30:00,705|root|INFO|Uploading batch 60 to BigQuery ...\n",
      "2022-02-17 21:30:12,540|root|INFO|Uploading batch 90 to BigQuery ...\n",
      "2022-02-17 21:30:24,400|root|INFO|Uploading batch 120 to BigQuery ...\n",
      "2022-02-17 21:30:37,034|root|INFO|Uploading batch 150 to BigQuery ...\n",
      "2022-02-17 21:30:49,451|root|INFO|Uploading batch 180 to BigQuery ...\n",
      "2022-02-17 21:31:04,009|root|INFO|Uploading batch 210 to BigQuery ...\n",
      "2022-02-17 21:31:20,660|root|INFO|Uploading batch 240 to BigQuery ...\n",
      "2022-02-17 21:31:35,494|root|INFO|Uploading batch 270 to BigQuery ...\n",
      "2022-02-17 21:31:50,484|root|INFO|Uploading batch 300 to BigQuery ...\n",
      "2022-02-17 21:32:05,502|root|INFO|Uploading batch 330 to BigQuery ...\n",
      "2022-02-17 21:32:36,121|root|INFO|Uploading batch 360 to BigQuery ...\n",
      "2022-02-17 21:32:47,146|root|INFO|Uploading batch 365 to BigQuery ...\n"
     ]
    },
    {
     "name": "stdout",
     "output_type": "stream",
     "text": [
      "=============== 2019 ===============\n"
     ]
    },
    {
     "name": "stderr",
     "output_type": "stream",
     "text": [
      "2022-02-17 21:34:24,433|root|INFO|Uploading batch 30 to BigQuery ...\n",
      "2022-02-17 21:34:40,411|root|INFO|Uploading batch 60 to BigQuery ...\n",
      "2022-02-17 21:34:54,326|root|INFO|Uploading batch 90 to BigQuery ...\n",
      "2022-02-17 21:35:09,852|root|INFO|Uploading batch 120 to BigQuery ...\n",
      "2022-02-17 21:35:28,629|root|INFO|Uploading batch 150 to BigQuery ...\n",
      "2022-02-17 21:35:43,927|root|INFO|Uploading batch 180 to BigQuery ...\n",
      "2022-02-17 21:35:58,314|root|INFO|Uploading batch 210 to BigQuery ...\n",
      "2022-02-17 21:36:11,892|root|INFO|Uploading batch 240 to BigQuery ...\n",
      "2022-02-17 21:36:26,077|root|INFO|Uploading batch 270 to BigQuery ...\n",
      "2022-02-17 21:36:41,449|root|INFO|Uploading batch 300 to BigQuery ...\n",
      "2022-02-17 21:36:56,185|root|INFO|Uploading batch 330 to BigQuery ...\n",
      "2022-02-17 21:37:09,636|root|INFO|Uploading batch 360 to BigQuery ...\n",
      "2022-02-17 21:37:16,751|root|INFO|Uploading batch 365 to BigQuery ...\n"
     ]
    }
   ],
   "source": [
    "job_config = bigquery.job.LoadJobConfig()\n",
    "job_config.autodetect = True\n",
    "job_config.create_disposition = bigquery.job.CreateDisposition.CREATE_IF_NEEDED\n",
    "job_config.write_disposition = bigquery.job.WriteDisposition.WRITE_APPEND\n",
    "\n",
    "for year in range(2016, 2020):\n",
    "    print(\"=\"*15 +  f\" {year} \" + \"=\"*15)\n",
    "    Omie.upload_year_file_gcp(omie_parameter=OfferCurvesParams, year=2020, job_config=job_config)"
   ]
  },
  {
   "cell_type": "code",
   "execution_count": 15,
   "id": "5b24495d",
   "metadata": {},
   "outputs": [
    {
     "name": "stdout",
     "output_type": "stream",
     "text": [
      "2021-01-04 00:00:00\n",
      "2021-01-05 00:00:00\n",
      "2021-01-06 00:00:00\n",
      "2021-01-07 00:00:00\n",
      "2021-01-08 00:00:00\n",
      "2021-01-09 00:00:00\n",
      "2021-01-10 00:00:00\n",
      "2021-01-11 00:00:00\n",
      "2021-01-12 00:00:00\n",
      "2021-01-13 00:00:00\n",
      "2021-01-14 00:00:00\n",
      "2021-01-15 00:00:00\n",
      "2021-01-16 00:00:00\n",
      "2021-01-17 00:00:00\n",
      "2021-01-18 00:00:00\n",
      "2021-01-19 00:00:00\n",
      "2021-01-20 00:00:00\n",
      "2021-01-21 00:00:00\n",
      "2021-01-22 00:00:00\n",
      "2021-01-23 00:00:00\n",
      "2021-01-24 00:00:00\n",
      "2021-01-25 00:00:00\n",
      "2021-01-26 00:00:00\n",
      "2021-01-27 00:00:00\n",
      "2021-01-28 00:00:00\n",
      "2021-01-29 00:00:00\n",
      "2021-01-30 00:00:00\n",
      "2021-01-31 00:00:00\n",
      "2021-02-01 00:00:00\n",
      "2021-02-02 00:00:00\n",
      "2021-02-03 00:00:00\n",
      "2021-02-04 00:00:00\n",
      "2021-02-05 00:00:00\n",
      "2021-02-06 00:00:00\n",
      "2021-02-07 00:00:00\n",
      "2021-02-08 00:00:00\n",
      "2021-02-09 00:00:00\n",
      "2021-02-10 00:00:00\n",
      "2021-02-11 00:00:00\n",
      "2021-02-12 00:00:00\n",
      "2021-02-13 00:00:00\n",
      "2021-02-14 00:00:00\n",
      "2021-02-15 00:00:00\n",
      "2021-02-16 00:00:00\n",
      "2021-02-17 00:00:00\n",
      "2021-02-18 00:00:00\n",
      "2021-02-19 00:00:00\n",
      "2021-02-20 00:00:00\n",
      "2021-02-21 00:00:00\n",
      "2021-02-22 00:00:00\n",
      "2021-02-23 00:00:00\n",
      "2021-02-24 00:00:00\n",
      "2021-02-25 00:00:00\n",
      "2021-02-26 00:00:00\n",
      "2021-02-27 00:00:00\n",
      "2021-02-28 00:00:00\n",
      "2021-03-01 00:00:00\n",
      "2021-03-02 00:00:00\n",
      "2021-03-03 00:00:00\n",
      "2021-03-04 00:00:00\n",
      "2021-03-05 00:00:00\n",
      "2021-03-06 00:00:00\n",
      "2021-03-07 00:00:00\n",
      "2021-03-08 00:00:00\n",
      "2021-03-09 00:00:00\n",
      "2021-03-10 00:00:00\n",
      "2021-03-11 00:00:00\n",
      "2021-03-12 00:00:00\n",
      "2021-03-13 00:00:00\n",
      "2021-03-14 00:00:00\n",
      "2021-03-15 00:00:00\n",
      "2021-03-16 00:00:00\n",
      "2021-03-17 00:00:00\n",
      "2021-03-18 00:00:00\n",
      "2021-03-19 00:00:00\n",
      "2021-03-20 00:00:00\n",
      "2021-03-21 00:00:00\n",
      "2021-03-22 00:00:00\n",
      "2021-03-23 00:00:00\n",
      "2021-03-24 00:00:00\n",
      "2021-03-25 00:00:00\n",
      "2021-03-26 00:00:00\n",
      "2021-03-27 00:00:00\n",
      "2021-03-28 00:00:00\n",
      "2021-03-29 00:00:00\n",
      "2021-03-30 00:00:00\n",
      "2021-03-31 00:00:00\n",
      "2021-04-01 00:00:00\n",
      "2021-04-02 00:00:00\n",
      "2021-04-03 00:00:00\n",
      "2021-04-04 00:00:00\n",
      "2021-04-05 00:00:00\n",
      "2021-04-06 00:00:00\n",
      "2021-04-07 00:00:00\n",
      "2021-04-08 00:00:00\n",
      "2021-04-09 00:00:00\n",
      "2021-04-10 00:00:00\n",
      "2021-04-11 00:00:00\n",
      "2021-04-12 00:00:00\n",
      "2021-04-13 00:00:00\n",
      "2021-04-14 00:00:00\n",
      "2021-04-15 00:00:00\n",
      "2021-04-16 00:00:00\n",
      "2021-04-17 00:00:00\n",
      "2021-04-18 00:00:00\n",
      "2021-04-19 00:00:00\n",
      "2021-04-20 00:00:00\n",
      "2021-04-21 00:00:00\n",
      "2021-04-22 00:00:00\n",
      "2021-04-23 00:00:00\n",
      "2021-04-24 00:00:00\n",
      "2021-04-25 00:00:00\n",
      "2021-04-26 00:00:00\n",
      "2021-04-27 00:00:00\n",
      "2021-04-28 00:00:00\n",
      "2021-04-29 00:00:00\n",
      "2021-04-30 00:00:00\n",
      "2021-05-01 00:00:00\n",
      "2021-05-02 00:00:00\n",
      "2021-05-03 00:00:00\n",
      "2021-05-04 00:00:00\n",
      "2021-05-05 00:00:00\n",
      "2021-05-06 00:00:00\n",
      "2021-05-07 00:00:00\n",
      "2021-05-08 00:00:00\n",
      "2021-05-09 00:00:00\n",
      "2021-05-10 00:00:00\n",
      "2021-05-11 00:00:00\n",
      "2021-05-12 00:00:00\n",
      "2021-05-13 00:00:00\n",
      "2021-05-14 00:00:00\n",
      "2021-05-15 00:00:00\n",
      "2021-05-16 00:00:00\n",
      "2021-05-17 00:00:00\n",
      "2021-05-18 00:00:00\n",
      "2021-05-19 00:00:00\n",
      "2021-05-20 00:00:00\n",
      "2021-05-21 00:00:00\n",
      "2021-05-22 00:00:00\n",
      "2021-05-23 00:00:00\n",
      "2021-05-24 00:00:00\n",
      "2021-05-25 00:00:00\n",
      "2021-05-26 00:00:00\n",
      "2021-05-27 00:00:00\n",
      "2021-05-28 00:00:00\n",
      "2021-05-29 00:00:00\n",
      "2021-05-30 00:00:00\n",
      "2021-05-31 00:00:00\n",
      "2021-06-01 00:00:00\n",
      "2021-06-02 00:00:00\n",
      "2021-06-03 00:00:00\n",
      "2021-06-04 00:00:00\n",
      "2021-06-05 00:00:00\n",
      "2021-06-06 00:00:00\n",
      "2021-06-07 00:00:00\n",
      "2021-06-08 00:00:00\n",
      "2021-06-09 00:00:00\n",
      "2021-06-10 00:00:00\n",
      "2021-06-11 00:00:00\n",
      "2021-06-12 00:00:00\n",
      "2021-06-13 00:00:00\n",
      "2021-06-14 00:00:00\n",
      "2021-06-15 00:00:00\n",
      "2021-06-16 00:00:00\n",
      "2021-06-17 00:00:00\n",
      "2021-06-18 00:00:00\n",
      "2021-06-19 00:00:00\n",
      "2021-06-20 00:00:00\n",
      "2021-06-21 00:00:00\n",
      "2021-06-22 00:00:00\n",
      "2021-06-23 00:00:00\n",
      "2021-06-24 00:00:00\n",
      "2021-06-25 00:00:00\n",
      "2021-06-26 00:00:00\n",
      "2021-06-27 00:00:00\n",
      "2021-06-28 00:00:00\n",
      "2021-06-29 00:00:00\n",
      "2021-06-30 00:00:00\n",
      "2021-07-01 00:00:00\n",
      "2021-07-02 00:00:00\n",
      "2021-07-03 00:00:00\n",
      "2021-07-04 00:00:00\n",
      "2021-07-05 00:00:00\n",
      "2021-07-06 00:00:00\n",
      "2021-07-07 00:00:00\n",
      "2021-07-08 00:00:00\n",
      "2021-07-09 00:00:00\n",
      "2021-07-10 00:00:00\n",
      "2021-07-11 00:00:00\n",
      "2021-07-12 00:00:00\n",
      "2021-07-13 00:00:00\n",
      "2021-07-14 00:00:00\n",
      "2021-07-15 00:00:00\n",
      "2021-07-16 00:00:00\n",
      "2021-07-17 00:00:00\n",
      "2021-07-18 00:00:00\n",
      "2021-07-19 00:00:00\n",
      "2021-07-20 00:00:00\n",
      "2021-07-21 00:00:00\n",
      "2021-07-22 00:00:00\n",
      "2021-07-23 00:00:00\n",
      "2021-07-24 00:00:00\n",
      "2021-07-25 00:00:00\n",
      "2021-07-26 00:00:00\n",
      "2021-07-27 00:00:00\n",
      "2021-07-28 00:00:00\n",
      "2021-07-29 00:00:00\n",
      "2021-07-30 00:00:00\n",
      "2021-07-31 00:00:00\n",
      "2021-08-01 00:00:00\n",
      "2021-08-02 00:00:00\n",
      "2021-08-03 00:00:00\n",
      "2021-08-04 00:00:00\n",
      "2021-08-05 00:00:00\n",
      "2021-08-06 00:00:00\n",
      "2021-08-07 00:00:00\n",
      "2021-08-08 00:00:00\n",
      "2021-08-09 00:00:00\n",
      "2021-08-10 00:00:00\n",
      "2021-08-11 00:00:00\n",
      "2021-08-12 00:00:00\n",
      "2021-08-13 00:00:00\n",
      "2021-08-14 00:00:00\n",
      "2021-08-15 00:00:00\n",
      "2021-08-16 00:00:00\n",
      "2021-08-17 00:00:00\n",
      "2021-08-18 00:00:00\n",
      "2021-08-19 00:00:00\n",
      "2021-08-20 00:00:00\n",
      "2021-08-21 00:00:00\n",
      "2021-08-22 00:00:00\n",
      "2021-08-23 00:00:00\n",
      "2021-08-24 00:00:00\n",
      "2021-08-25 00:00:00\n",
      "2021-08-26 00:00:00\n",
      "2021-08-27 00:00:00\n",
      "2021-08-28 00:00:00\n",
      "2021-08-29 00:00:00\n",
      "2021-08-30 00:00:00\n",
      "2021-08-31 00:00:00\n",
      "2021-09-01 00:00:00\n",
      "2021-09-02 00:00:00\n",
      "2021-09-03 00:00:00\n",
      "2021-09-04 00:00:00\n",
      "2021-09-05 00:00:00\n",
      "2021-09-06 00:00:00\n",
      "2021-09-07 00:00:00\n",
      "2021-09-08 00:00:00\n",
      "2021-09-09 00:00:00\n",
      "2021-09-10 00:00:00\n",
      "2021-09-11 00:00:00\n",
      "2021-09-12 00:00:00\n",
      "2021-09-13 00:00:00\n",
      "2021-09-14 00:00:00\n",
      "2021-09-15 00:00:00\n",
      "2021-09-16 00:00:00\n",
      "2021-09-17 00:00:00\n",
      "2021-09-18 00:00:00\n",
      "2021-09-19 00:00:00\n",
      "2021-09-20 00:00:00\n",
      "2021-09-21 00:00:00\n",
      "2021-09-22 00:00:00\n",
      "2021-09-23 00:00:00\n",
      "2021-09-24 00:00:00\n",
      "2021-09-25 00:00:00\n",
      "2021-09-26 00:00:00\n",
      "2021-09-27 00:00:00\n",
      "2021-09-28 00:00:00\n",
      "2021-09-29 00:00:00\n",
      "2021-09-30 00:00:00\n",
      "2021-10-01 00:00:00\n",
      "2021-10-02 00:00:00\n",
      "2021-10-03 00:00:00\n",
      "2021-10-04 00:00:00\n",
      "2021-10-05 00:00:00\n",
      "2021-10-06 00:00:00\n",
      "2021-10-07 00:00:00\n",
      "2021-10-08 00:00:00\n",
      "2021-10-09 00:00:00\n",
      "2021-10-10 00:00:00\n",
      "2021-10-11 00:00:00\n",
      "2021-10-12 00:00:00\n",
      "2021-10-13 00:00:00\n",
      "2021-10-14 00:00:00\n",
      "2021-10-15 00:00:00\n",
      "2021-10-16 00:00:00\n",
      "2021-10-17 00:00:00\n",
      "2021-10-18 00:00:00\n",
      "2021-10-19 00:00:00\n",
      "2021-10-20 00:00:00\n",
      "2021-10-21 00:00:00\n",
      "2021-10-22 00:00:00\n",
      "2021-10-23 00:00:00\n",
      "2021-10-24 00:00:00\n",
      "2021-10-25 00:00:00\n",
      "2021-10-26 00:00:00\n",
      "2021-10-27 00:00:00\n",
      "2021-10-28 00:00:00\n",
      "2021-10-29 00:00:00\n",
      "2021-10-30 00:00:00\n",
      "2021-10-31 00:00:00\n",
      "2021-11-01 00:00:00\n",
      "2021-11-02 00:00:00\n",
      "2021-11-03 00:00:00\n",
      "2021-11-04 00:00:00\n",
      "2021-11-05 00:00:00\n",
      "2021-11-06 00:00:00\n",
      "2021-11-07 00:00:00\n",
      "2021-11-08 00:00:00\n",
      "2021-11-09 00:00:00\n",
      "2021-11-10 00:00:00\n",
      "2021-11-11 00:00:00\n",
      "2021-11-12 00:00:00\n",
      "2021-11-13 00:00:00\n",
      "2021-11-14 00:00:00\n",
      "2021-11-15 00:00:00\n",
      "2021-11-16 00:00:00\n",
      "2021-11-17 00:00:00\n",
      "2021-11-18 00:00:00\n",
      "2021-11-19 00:00:00\n",
      "2021-11-20 00:00:00\n",
      "2021-11-21 00:00:00\n",
      "2021-11-22 00:00:00\n",
      "2021-11-23 00:00:00\n",
      "2021-11-24 00:00:00\n",
      "2021-11-25 00:00:00\n",
      "2021-11-26 00:00:00\n",
      "2021-11-27 00:00:00\n",
      "2021-11-28 00:00:00\n",
      "2021-11-29 00:00:00\n",
      "2021-11-30 00:00:00\n",
      "2021-12-01 00:00:00\n",
      "2021-12-02 00:00:00\n",
      "2021-12-03 00:00:00\n",
      "2021-12-04 00:00:00\n",
      "2021-12-05 00:00:00\n",
      "2021-12-06 00:00:00\n",
      "2021-12-07 00:00:00\n",
      "2021-12-08 00:00:00\n",
      "2021-12-09 00:00:00\n",
      "2021-12-10 00:00:00\n",
      "2021-12-11 00:00:00\n",
      "2021-12-12 00:00:00\n",
      "2021-12-13 00:00:00\n",
      "2021-12-14 00:00:00\n",
      "2021-12-15 00:00:00\n",
      "2021-12-16 00:00:00\n",
      "2021-12-17 00:00:00\n",
      "2021-12-18 00:00:00\n",
      "2021-12-19 00:00:00\n",
      "2021-12-20 00:00:00\n",
      "2021-12-21 00:00:00\n",
      "2021-12-22 00:00:00\n",
      "2021-12-23 00:00:00\n",
      "2021-12-24 00:00:00\n",
      "2021-12-25 00:00:00\n",
      "2021-12-26 00:00:00\n",
      "2021-12-27 00:00:00\n",
      "2021-12-28 00:00:00\n",
      "2021-12-29 00:00:00\n",
      "2021-12-30 00:00:00\n",
      "2021-12-31 00:00:00\n",
      "2022-01-01 00:00:00\n",
      "2022-01-02 00:00:00\n",
      "2022-01-03 00:00:00\n",
      "2022-01-04 00:00:00\n",
      "2022-01-05 00:00:00\n",
      "2022-01-06 00:00:00\n",
      "2022-01-07 00:00:00\n",
      "2022-01-08 00:00:00\n",
      "2022-01-09 00:00:00\n",
      "2022-01-10 00:00:00\n",
      "2022-01-11 00:00:00\n",
      "2022-01-12 00:00:00\n",
      "2022-01-13 00:00:00\n",
      "2022-01-14 00:00:00\n",
      "2022-01-15 00:00:00\n",
      "2022-01-16 00:00:00\n",
      "2022-01-17 00:00:00\n",
      "2022-01-18 00:00:00\n",
      "2022-01-19 00:00:00\n",
      "2022-01-20 00:00:00\n",
      "2022-01-21 00:00:00\n",
      "2022-01-22 00:00:00\n",
      "2022-01-23 00:00:00\n",
      "2022-01-24 00:00:00\n",
      "2022-01-25 00:00:00\n",
      "2022-01-26 00:00:00\n",
      "2022-01-27 00:00:00\n",
      "2022-01-28 00:00:00\n",
      "2022-01-29 00:00:00\n",
      "2022-01-30 00:00:00\n",
      "2022-01-31 00:00:00\n",
      "2022-02-01 00:00:00\n",
      "2022-02-02 00:00:00\n",
      "2022-02-03 00:00:00\n",
      "2022-02-04 00:00:00\n",
      "2022-02-05 00:00:00\n",
      "2022-02-06 00:00:00\n",
      "2022-02-07 00:00:00\n",
      "2022-02-08 00:00:00\n",
      "2022-02-09 00:00:00\n",
      "2022-02-10 00:00:00\n",
      "2022-02-11 00:00:00\n",
      "2022-02-12 00:00:00\n",
      "2022-02-13 00:00:00\n",
      "2022-02-14 00:00:00\n",
      "2022-02-15 00:00:00\n",
      "2022-02-16 00:00:00\n",
      "2022-02-17 00:00:00\n"
     ]
    },
    {
     "name": "stdout",
     "output_type": "stream",
     "text": [
      "2022-02-18 00:00:00\n"
     ]
    }
   ],
   "source": [
    "job_config = bigquery.job.LoadJobConfig()\n",
    "job_config.autodetect = True\n",
    "job_config.create_disposition = bigquery.job.CreateDisposition.CREATE_IF_NEEDED\n",
    "job_config.write_disposition = bigquery.job.WriteDisposition.WRITE_APPEND\n",
    "dates = pd.date_range(start=\"2021-01-04\", end=\"2022-02-18\", freq=\"D\")\n",
    "\n",
    "for date in dates:\n",
    "    print(date)\n",
    "    Omie.upload_date_file_gcp(omie_parameter=OfferCurvesParams, \n",
    "                              date=date.strftime(\"%Y-%m-%d\"), \n",
    "                              job_config=job_config)"
   ]
  },
  {
   "cell_type": "code",
   "execution_count": null,
   "id": "16137cce",
   "metadata": {},
   "outputs": [],
   "source": []
  }
 ],
 "metadata": {
  "kernelspec": {
   "display_name": "Python 3 (ipykernel)",
   "language": "python",
   "name": "python3"
  },
  "language_info": {
   "codemirror_mode": {
    "name": "ipython",
    "version": 3
   },
   "file_extension": ".py",
   "mimetype": "text/x-python",
   "name": "python",
   "nbconvert_exporter": "python",
   "pygments_lexer": "ipython3",
   "version": "3.8.11"
  }
 },
 "nbformat": 4,
 "nbformat_minor": 5
}
