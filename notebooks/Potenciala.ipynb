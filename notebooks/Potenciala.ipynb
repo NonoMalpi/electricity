{
 "cells": [
  {
   "cell_type": "code",
   "execution_count": 1,
   "id": "pending-gospel",
   "metadata": {},
   "outputs": [],
   "source": [
    "import os\n",
    "import sys\n",
    "module_path = os.path.abspath(os.path.join('..'))\n",
    "if module_path not in sys.path:\n",
    "    sys.path.append(module_path)"
   ]
  },
  {
   "cell_type": "code",
   "execution_count": 2,
   "id": "similar-hughes",
   "metadata": {},
   "outputs": [],
   "source": [
    "import warnings\n",
    "warnings.filterwarnings('ignore')\n",
    "\n",
    "import matplotlib.pyplot as plt\n",
    "import numpy as np\n",
    "import pandas as pd\n",
    "\n",
    "from data_collector import Omie\n",
    "\n",
    "from potenciala import BucketMethod, Potenciala"
   ]
  },
  {
   "cell_type": "code",
   "execution_count": 3,
   "id": "valued-survivor",
   "metadata": {},
   "outputs": [],
   "source": [
    "# uncomment this to obtain most up-to-date day ahead market timeseries\n",
    "#df = Omie.download_period_file(filename=\"marginalpdbc\", start_year=2016, end_year=2021)\n",
    "#df = Omie.include_old_file(df=df, filename=\"marginalpdbc_2002_2015.csv\")"
   ]
  },
  {
   "cell_type": "code",
   "execution_count": 4,
   "id": "athletic-assault",
   "metadata": {},
   "outputs": [],
   "source": [
    "df = pd.read_csv(\"day_ahead_market_20210903.csv\")"
   ]
  },
  {
   "cell_type": "markdown",
   "id": "narrative-vocabulary",
   "metadata": {},
   "source": [
    "### Decide x_value resolution: 0.25 or 1\n",
    "### Issue with time change: 23, 24 and 25 hours -> Solved through no_time_change parameter"
   ]
  },
  {
   "cell_type": "code",
   "execution_count": null,
   "id": "roman-space",
   "metadata": {},
   "outputs": [],
   "source": [
    "s_1 = Potenciala(df=df, signal_name=\"spain\", metric_lag_time=[1, 24, 168], bucket_method=BucketMethod.Round, bin_size=1)\n",
    "s_025 = Potenciala(df=df, signal_name=\"spain\", metric_lag_time=[1, 24, 168], bucket_method=BucketMethod.Cut, bin_size=0.25)"
   ]
  },
  {
   "cell_type": "code",
   "execution_count": null,
   "id": "cheap-newport",
   "metadata": {
    "scrolled": false
   },
   "outputs": [],
   "source": [
    "fig, (ax0, ax1) = plt.subplots(1, 2, figsize=(20, 7))\n",
    "s_1.potential.loc[:120].plot(ax=ax0)\n",
    "s_025.potential.loc[:120].plot(ax=ax1)\n",
    "ax0.set_title(\"1 €/MW resolution\")\n",
    "ax1.set_title(\"0.25 €/MW resolution\")\n",
    "plt.show()"
   ]
  },
  {
   "cell_type": "markdown",
   "id": "invalid-proof",
   "metadata": {},
   "source": [
    "### Include all history or last n years"
   ]
  },
  {
   "cell_type": "code",
   "execution_count": null,
   "id": "specialized-postage",
   "metadata": {
    "scrolled": true
   },
   "outputs": [],
   "source": [
    "# Compare potential across different years\n",
    "fig, axis = plt.subplots(3, 1, figsize=(10, 30))\n",
    "years = range(2010, 2022)\n",
    "for year in years:\n",
    "    df_year = df[df[\"year\"] == year]\n",
    "    s_year = Potenciala(df=df_year, signal_name=\"spain\", metric_lag_time=[1, 24, 168], bucket_method=BucketMethod.Cut, bin_size=0.25)\n",
    "    for ax, col in zip(axis, s_year.drift_cols):\n",
    "        s_year.potential[col].loc[:100].plot(ax=ax)\n",
    "for ax, col in zip(axis, s_year.drift_cols):\n",
    "    ax.legend(years)\n",
    "    ax.set_title(col)"
   ]
  },
  {
   "cell_type": "code",
   "execution_count": null,
   "id": "executive-disease",
   "metadata": {
    "scrolled": true
   },
   "outputs": [],
   "source": [
    "# Compare potential across different years with minimum\n",
    "fig, axis = plt.subplots(3, 1, figsize=(10, 30))\n",
    "years = range(2010, 2022)\n",
    "for year in years:\n",
    "    df_year = df[df[\"year\"] == year]\n",
    "    s_year = Potenciala(df=df_year, signal_name=\"spain\", metric_lag_time=[1, 24, 168], bucket_method=BucketMethod.Cut, bin_size=0.25)\n",
    "    for ax, col in zip(axis, s_year.drift_cols):\n",
    "        (s_year.potential[col] / s_year.potential[col].min()).loc[:100].plot(ax=ax)\n",
    "for ax, col in zip(axis, s_year.drift_cols):\n",
    "    ax.legend(years)\n",
    "    ax.set_title(col)"
   ]
  },
  {
   "cell_type": "code",
   "execution_count": null,
   "id": "gothic-musician",
   "metadata": {
    "scrolled": true
   },
   "outputs": [],
   "source": [
    "# Compute accumulative years\n",
    "fig, axis = plt.subplots(3, 1, figsize=(10, 30))\n",
    "years = range(2010, 2022)\n",
    "years = years[::-1]\n",
    "for year in years:\n",
    "    df_year = df[df[\"year\"] >= year]\n",
    "    s_year = Potenciala(df=df_year, signal_name=\"spain\", metric_lag_time=[1, 24, 168], bucket_method=BucketMethod.Cut, bin_size=0.25)\n",
    "    for ax, col in zip(axis, s_year.drift_cols):\n",
    "        s_year.potential[col].loc[:100].plot(ax=ax)\n",
    "for ax, col in zip(axis, s_year.drift_cols):\n",
    "    ax.legend(years)\n",
    "    ax.set_title(col)"
   ]
  },
  {
   "cell_type": "code",
   "execution_count": null,
   "id": "impressive-string",
   "metadata": {
    "scrolled": true
   },
   "outputs": [],
   "source": [
    "# Compute accumulative years with minimum\n",
    "fig, axis = plt.subplots(3, 1, figsize=(10, 30))\n",
    "years = range(2010, 2022)\n",
    "years = years[::-1]\n",
    "for year in years:\n",
    "    df_year = df[df[\"year\"] >= year]\n",
    "    s_year = Potenciala(df=df_year, signal_name=\"spain\", metric_lag_time=[1, 24, 168], bucket_method=BucketMethod.Cut, bin_size=0.25)\n",
    "    for ax, col in zip(axis, s_year.drift_cols):\n",
    "        (s_year.potential[col] / s_year.potential[col].min()).loc[:100].plot(ax=ax)\n",
    "for ax, col in zip(axis, s_year.drift_cols):\n",
    "    ax.legend(years)\n",
    "    ax.set_title(col)"
   ]
  },
  {
   "cell_type": "code",
   "execution_count": null,
   "id": "portable-polyester",
   "metadata": {
    "scrolled": true
   },
   "outputs": [],
   "source": [
    "# Check n-year period\n",
    "n = 4\n",
    "fig, axis = plt.subplots(3, 1, figsize=(10, 30))\n",
    "years = range(2002, 2022, n)\n",
    "for year in years:\n",
    "    df_year = df[(df[\"year\"] >= year) & (df[\"year\"] < year + n)]\n",
    "    s_year = Potenciala(df=df_year, signal_name=\"spain\", metric_lag_time=[1, 24, 168], bucket_method=BucketMethod.Cut, bin_size=0.25)\n",
    "    for ax, col in zip(axis, s_year.drift_cols):\n",
    "        s_year.potential[col].loc[:100].plot(ax=ax)\n",
    "for ax, col in zip(axis, s_year.drift_cols):\n",
    "    ax.legend(years)\n",
    "    ax.set_title(col)"
   ]
  },
  {
   "cell_type": "code",
   "execution_count": null,
   "id": "fiscal-progress",
   "metadata": {
    "scrolled": true
   },
   "outputs": [],
   "source": [
    "# Check n-year period divided by minimum\n",
    "n = 4\n",
    "fig, axis = plt.subplots(3, 1, figsize=(10, 30))\n",
    "years = range(2002, 2022, n)\n",
    "for year in years:\n",
    "    df_year = df[(df[\"year\"] >= year) & (df[\"year\"] < year + n)]\n",
    "    s_year = Potenciala(df=df_year, signal_name=\"spain\", metric_lag_time=[1, 24, 168], bucket_method=BucketMethod.Cut, bin_size=0.25)\n",
    "    for ax, col in zip(axis, s_year.drift_cols):\n",
    "        (s_year.potential[col] / s_year.potential[col].min()).loc[:100].plot(ax=ax)\n",
    "for ax, col in zip(axis, s_year.drift_cols):\n",
    "    ax.legend(years)\n",
    "    ax.set_title(col)"
   ]
  },
  {
   "cell_type": "markdown",
   "id": "known-heater",
   "metadata": {},
   "source": [
    "### Ito stochastic differential equation (SDE)\n",
    "\n",
    "An Ito process $X = \\{X_t, t \\ge 0\\}$ has the form\n",
    "$$ \n",
    "    X_t = X_0 + \\int_{0}^{t} a(X_s)ds + \\int_{0}^{t}b(X_s)dW_s\n",
    "$$ \\\n",
    "for $t \\ge 0$. In differential (SDE) form\n",
    "$$ \n",
    "    dX_t = a(X_t)dt + b(X_t)dW_t\n",
    "$$ \\\n",
    "where $a$ is called the *drift* of the diffusion process and $b$ the *diffusion coefficient*. $W$ is a Wiener process $W = \\{W_t, t \\ge 0\\}$.\n",
    "\\\n",
    "\\\n",
    "Consider a time discretisation $(\\tau)_{\\delta}$ of a time interval $[0, T]$ with\n",
    "$$ \n",
    "    0 = \\tau_0 < \\tau_1 < \\cdots < \\tau_n < \\cdots < \\tau_N = T\n",
    "$$\n",
    "\\\n",
    "where the step size is\n",
    "$$\n",
    "    \\delta = \\frac{T}{N}\n",
    "$$\n",
    "\\\n",
    "The *Euler-Maruyama approximation* for the SDE\n",
    "$$ \n",
    "    Y_{n+1} = Y_n + a(Y_n)\\Delta_{n} + b(Y_n)\\Delta W_n\n",
    "$$\n",
    "\\\n",
    "for $ n = 0, 1, ..., N-1 $ with initial value\n",
    "$$ \n",
    "    Y_0 = x_0\n",
    "$$\n",
    "\\\n",
    "where \n",
    "\\begin{align}\n",
    "    \\Delta_n &= \\tau_{n+1} - \\tau_{n} = \\delta \\\\\n",
    "    \\Delta W_{n} &= W_{\\tau_{n+1}} - W_{\\tau_{n}} \\quad \\Delta W_{n} \\sim N(0;\\Delta_{n})\n",
    "\\end{align}\n"
   ]
  },
  {
   "cell_type": "code",
   "execution_count": null,
   "id": "assigned-edgar",
   "metadata": {},
   "outputs": [],
   "source": [
    "# plot mean drift and diffusion\n",
    "_ = s_1.drift.mean[\"drift_1\"].iloc[:120].plot()"
   ]
  },
  {
   "cell_type": "code",
   "execution_count": null,
   "id": "national-shoot",
   "metadata": {},
   "outputs": [],
   "source": [
    "_ = s_1.diffusion.mean[\"diffusion_1\"].iloc[:120].plot()"
   ]
  },
  {
   "cell_type": "code",
   "execution_count": null,
   "id": "different-indie",
   "metadata": {},
   "outputs": [],
   "source": [
    "a = s_1.drift.mean[\"drift_1\"]\n",
    "b = s_1.diffusion.mean[\"diffusion_1\"]"
   ]
  },
  {
   "cell_type": "code",
   "execution_count": null,
   "id": "latin-communist",
   "metadata": {},
   "outputs": [],
   "source": [
    "x_df = s_1.df[(s_1.df[\"date\"] >= \"2021-03-01\")].iloc[:48]\n",
    "y_0 = x_df[\"spain\"].iloc[0]"
   ]
  },
  {
   "cell_type": "code",
   "execution_count": null,
   "id": "bottom-minute",
   "metadata": {},
   "outputs": [],
   "source": [
    "# first draft: simulate n paths\n",
    "np.random.seed(seed=72)\n",
    "n = 1000\n",
    "T = 48\n",
    "delta = 1\n",
    "nu = 0\n",
    "sim_df = pd.DataFrame()\n",
    "for i in range(n):\n",
    "    y = np.zeros(48)\n",
    "    y[0] = y_0\n",
    "    for t in range(1, T):\n",
    "        y_t_1 = y[t-1]\n",
    "        y_t_1_round = y_t_1.round()\n",
    "        y[t] = y_t_1 + a.loc[y_t_1_round]*delta + np.sqrt(b.loc[y_t_1_round])*np.random.normal(loc=nu, scale=delta)\n",
    "        if y[t] < 0:\n",
    "            y[t] = 0\n",
    "    sim_df[i] = y"
   ]
  },
  {
   "cell_type": "code",
   "execution_count": null,
   "id": "small-election",
   "metadata": {},
   "outputs": [],
   "source": [
    "fig, ax = plt.subplots(1,1, figsize=(15, 10))\n",
    "sim_df.plot(alpha=0.1, ax=ax, legend=False)\n",
    "sim_df.mean(axis=1).plot(lw=1.5, color=\"black\", ax=ax)\n",
    "x_df.reset_index()[\"spain\"].plot(lw=1.5, color=\"blue\", ax=ax)\n",
    "sim_df.quantile(q=[0.1, 0.25, 0.75, 0.9], axis=1).T.plot(lw=1.5, ls=\"--\", ax=ax, legend=False)\n",
    "plt.show()"
   ]
  }
 ],
 "metadata": {
  "kernelspec": {
   "display_name": "Python 3",
   "language": "python",
   "name": "python3"
  },
  "language_info": {
   "codemirror_mode": {
    "name": "ipython",
    "version": 3
   },
   "file_extension": ".py",
   "mimetype": "text/x-python",
   "name": "python",
   "nbconvert_exporter": "python",
   "pygments_lexer": "ipython3",
   "version": "3.7.10"
  }
 },
 "nbformat": 4,
 "nbformat_minor": 5
}
