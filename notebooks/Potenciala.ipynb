{
 "cells": [
  {
   "cell_type": "code",
   "execution_count": 1,
   "id": "pending-gospel",
   "metadata": {},
   "outputs": [],
   "source": [
    "import os\n",
    "import sys\n",
    "module_path = os.path.abspath(os.path.join('..'))\n",
    "if module_path not in sys.path:\n",
    "    sys.path.append(module_path)"
   ]
  },
  {
   "cell_type": "code",
   "execution_count": 3,
   "id": "similar-hughes",
   "metadata": {},
   "outputs": [],
   "source": [
    "import pickle\n",
    "import warnings\n",
    "warnings.filterwarnings('ignore')\n",
    "\n",
    "import matplotlib.pyplot as plt\n",
    "import numpy as np\n",
    "import pandas as pd\n",
    "import seaborn as sns\n",
    "\n",
    "from data_collector import Omie\n",
    "\n",
    "from ml import GaussianKernel, ComputationMode, load_kernels_dict\n",
    "from potenciala import BucketMethod, FigureShape, SingleTimeSeries, VectorTimeSeries\n",
    "from stochastic import (EulerMaruyama, ConstantDiffusionMultivariate, SpatialDifferenceDriftMultivariate, \n",
    "                        SpatialDiffusionUnivariate, SpatialDriftMultivariate, SpatialNearestDriftMultivariate)"
   ]
  },
  {
   "cell_type": "code",
   "execution_count": 4,
   "id": "valued-survivor",
   "metadata": {},
   "outputs": [],
   "source": [
    "# uncomment this to obtain most up-to-date day ahead market timeseries\n",
    "#df = Omie.download_period_file(filename=\"marginalpdbc\", start_year=2016, end_year=2021)\n",
    "#df = Omie.include_old_file(df=df, filename=\"marginalpdbc_2002_2015.csv\")"
   ]
  },
  {
   "cell_type": "code",
   "execution_count": 5,
   "id": "athletic-assault",
   "metadata": {},
   "outputs": [],
   "source": [
    "df_raw = pd.read_csv(\"day_ahead_market_20211005.csv\")\n",
    "df_raw[\"spain\"] = df_raw[\"spain\"].round(decimals=2)"
   ]
  },
  {
   "cell_type": "code",
   "execution_count": 6,
   "id": "db1c6f53",
   "metadata": {},
   "outputs": [],
   "source": [
    "# filter data before 2004 (missing dates in 2003) and beyond 2021\n",
    "df = df_raw.query(\"year >= 2004 & year <= 2020\")"
   ]
  },
  {
   "cell_type": "markdown",
   "id": "narrative-vocabulary",
   "metadata": {},
   "source": [
    "### Univariate timeseries"
   ]
  },
  {
   "cell_type": "code",
   "execution_count": null,
   "id": "roman-space",
   "metadata": {},
   "outputs": [],
   "source": [
    "s_1 = SingleTimeSeries(df=df, signal_name=\"spain\", metric_lag_time=[1, 24, 168], bucket_method=BucketMethod.Round, bin_size=1)\n",
    "s_025 = SingleTimeSeries(df=df, signal_name=\"spain\", metric_lag_time=[1, 24, 168], bucket_method=BucketMethod.Cut, bin_size=0.25)"
   ]
  },
  {
   "cell_type": "code",
   "execution_count": null,
   "id": "43463b06",
   "metadata": {},
   "outputs": [],
   "source": [
    "s_1.plot_ts()"
   ]
  },
  {
   "cell_type": "code",
   "execution_count": null,
   "id": "cheap-newport",
   "metadata": {
    "scrolled": false
   },
   "outputs": [],
   "source": [
    "fig, (ax0, ax1) = plt.subplots(1, 2, figsize=(20, 7))\n",
    "s_1.potential.loc[:120].plot(ax=ax0)\n",
    "s_025.potential.loc[:120].plot(ax=ax1)\n",
    "ax0.set_title(\"1 €/MW resolution\")\n",
    "ax1.set_title(\"0.25 €/MW resolution\")\n",
    "plt.show()"
   ]
  },
  {
   "cell_type": "markdown",
   "id": "invalid-proof",
   "metadata": {},
   "source": [
    "### Include all history or last n years"
   ]
  },
  {
   "cell_type": "code",
   "execution_count": null,
   "id": "specialized-postage",
   "metadata": {
    "scrolled": false
   },
   "outputs": [],
   "source": [
    "# Compare potential across different years\n",
    "fig, axis = plt.subplots(3, 1, figsize=(10, 30))\n",
    "years = range(2010, 2021)\n",
    "for year in years:\n",
    "    df_year = df[df[\"year\"] == year]\n",
    "    s_year = SingleTimeSeries(df=df_year, signal_name=\"spain\", metric_lag_time=[1, 24, 168], bucket_method=BucketMethod.Cut, bin_size=0.25)\n",
    "    for ax, col in zip(axis, s_year.potential_cols):\n",
    "        s_year.potential[col].loc[:100].plot(ax=ax)\n",
    "for ax, col in zip(axis, s_year.potential_cols):\n",
    "    ax.legend(years)\n",
    "    ax.set_title(col)"
   ]
  },
  {
   "cell_type": "code",
   "execution_count": null,
   "id": "executive-disease",
   "metadata": {
    "scrolled": false
   },
   "outputs": [],
   "source": [
    "# Compare potential across different years with minimum\n",
    "fig, axis = plt.subplots(3, 1, figsize=(10, 30))\n",
    "years = range(2010, 2021)\n",
    "for year in years:\n",
    "    df_year = df[df[\"year\"] == year]\n",
    "    s_year = SingleTimeSeries(df=df_year, signal_name=\"spain\", metric_lag_time=[1, 24, 168], bucket_method=BucketMethod.Cut, bin_size=0.25)\n",
    "    for ax, col in zip(axis, s_year.potential_cols):\n",
    "        (s_year.potential[col] / s_year.potential[col].min()).loc[:100].plot(ax=ax)\n",
    "for ax, col in zip(axis, s_year.potential_cols):\n",
    "    ax.legend(years)\n",
    "    ax.set_title(col)"
   ]
  },
  {
   "cell_type": "code",
   "execution_count": null,
   "id": "gothic-musician",
   "metadata": {
    "scrolled": false
   },
   "outputs": [],
   "source": [
    "# Compute accumulative years\n",
    "fig, axis = plt.subplots(3, 1, figsize=(10, 30))\n",
    "years = range(2010, 2021)\n",
    "years = years[::-1]\n",
    "for year in years:\n",
    "    df_year = df[df[\"year\"] >= year]\n",
    "    s_year = SingleTimeSeries(df=df_year, signal_name=\"spain\", metric_lag_time=[1, 24, 168], bucket_method=BucketMethod.Cut, bin_size=0.25)\n",
    "    for ax, col in zip(axis, s_year.potential_cols):\n",
    "        s_year.potential[col].loc[:100].plot(ax=ax)\n",
    "for ax, col in zip(axis, s_year.potential_cols):\n",
    "    ax.legend(years)\n",
    "    ax.set_title(col)"
   ]
  },
  {
   "cell_type": "code",
   "execution_count": null,
   "id": "impressive-string",
   "metadata": {
    "scrolled": false
   },
   "outputs": [],
   "source": [
    "# Compute accumulative years with minimum\n",
    "fig, axis = plt.subplots(3, 1, figsize=(10, 30))\n",
    "years = range(2010, 2021)\n",
    "years = years[::-1]\n",
    "for year in years:\n",
    "    df_year = df[df[\"year\"] >= year]\n",
    "    s_year = SingleTimeSeries(df=df_year, signal_name=\"spain\", metric_lag_time=[1, 24, 168], bucket_method=BucketMethod.Cut, bin_size=0.25)\n",
    "    for ax, col in zip(axis, s_year.potential_cols):\n",
    "        (s_year.potential[col] / s_year.potential[col].min()).loc[:100].plot(ax=ax)\n",
    "for ax, col in zip(axis, s_year.potential_cols):\n",
    "    ax.legend(years)\n",
    "    ax.set_title(col)"
   ]
  },
  {
   "cell_type": "code",
   "execution_count": null,
   "id": "portable-polyester",
   "metadata": {
    "scrolled": false
   },
   "outputs": [],
   "source": [
    "# Check n-year period\n",
    "n = 4\n",
    "fig, axis = plt.subplots(3, 1, figsize=(10, 30))\n",
    "years = range(2002, 2022, n)\n",
    "for year in years:\n",
    "    df_year = df[(df[\"year\"] >= year) & (df[\"year\"] < year + n)]\n",
    "    s_year = SingleTimeSeries(df=df_year, signal_name=\"spain\", metric_lag_time=[1, 24, 168], bucket_method=BucketMethod.Cut, bin_size=0.25)\n",
    "    for ax, col in zip(axis, s_year.potential_cols):\n",
    "        s_year.potential[col].loc[:100].plot(ax=ax)\n",
    "for ax, col in zip(axis, s_year.potential_cols):\n",
    "    ax.legend(years)\n",
    "    ax.set_title(col)"
   ]
  },
  {
   "cell_type": "code",
   "execution_count": null,
   "id": "fiscal-progress",
   "metadata": {
    "scrolled": false
   },
   "outputs": [],
   "source": [
    "# Check n-year period divided by minimum\n",
    "n = 4\n",
    "fig, axis = plt.subplots(3, 1, figsize=(10, 30))\n",
    "years = range(2002, 2022, n)\n",
    "for year in years:\n",
    "    df_year = df[(df[\"year\"] >= year) & (df[\"year\"] < year + n)]\n",
    "    s_year = SingleTimeSeries(df=df_year, signal_name=\"spain\", metric_lag_time=[1, 24, 168], bucket_method=BucketMethod.Cut, bin_size=0.25)\n",
    "    for ax, col in zip(axis, s_year.potential_cols):\n",
    "        (s_year.potential[col] / s_year.potential[col].min()).loc[:100].plot(ax=ax)\n",
    "for ax, col in zip(axis, s_year.potential_cols):\n",
    "    ax.legend(years)\n",
    "    ax.set_title(col)"
   ]
  },
  {
   "cell_type": "code",
   "execution_count": null,
   "id": "assigned-edgar",
   "metadata": {},
   "outputs": [],
   "source": [
    "# plot mean drift and diffusion\n",
    "_ = s_1.drift.mean[\"drift_1\"].iloc[:120].plot()"
   ]
  },
  {
   "cell_type": "code",
   "execution_count": null,
   "id": "national-shoot",
   "metadata": {},
   "outputs": [],
   "source": [
    "_ = s_1.diffusion.mean[\"diffusion_1\"].iloc[:120].plot()"
   ]
  },
  {
   "cell_type": "code",
   "execution_count": null,
   "id": "different-indie",
   "metadata": {},
   "outputs": [],
   "source": [
    "a = s_1.drift.mean[\"drift_1\"]\n",
    "a = a.reindex(np.arange(0, a.index.max() + 20)).fillna(0)\n",
    "b = s_1.diffusion.mean[\"diffusion_1\"]\n",
    "b = b.reindex(np.arange(0, b.index.max() + 20)).fillna(0)\n",
    "\n",
    "x_df = s_1.df[(s_1.df[\"date\"] >= \"2020-12-10\")].iloc[:24*6]\n",
    "x_0 = x_df[\"spain\"].iloc[0]"
   ]
  },
  {
   "cell_type": "code",
   "execution_count": null,
   "id": "d7112004",
   "metadata": {},
   "outputs": [],
   "source": [
    "drift = SpatialDriftMultivariate(df=a.to_frame())\n",
    "diffusion = SpatialDiffusionUnivariate(df=b.to_frame())\n",
    "\n",
    "em_1 = EulerMaruyama(num_sim=1000, period=24*6, delta_t=1, nu=0, drift=drift, diffusion=diffusion)"
   ]
  },
  {
   "cell_type": "code",
   "execution_count": null,
   "id": "bf38cfbf",
   "metadata": {},
   "outputs": [],
   "source": [
    "sim_df = em_1.simulate(x0=np.array([x_0]), random_seed=124)"
   ]
  },
  {
   "cell_type": "code",
   "execution_count": null,
   "id": "small-election",
   "metadata": {},
   "outputs": [],
   "source": [
    "fig, ax = plt.subplots(1,1, figsize=(15, 10))\n",
    "sim_df.iloc[:,  :em_1.num_sim//2].plot(alpha=0.05, ax=ax, legend=False)\n",
    "sim_df.mean(axis=1).plot(lw=1.5, color=\"black\", ax=ax)\n",
    "x_df.reset_index()[\"spain\"].plot(lw=1.5, color=\"blue\", ax=ax)\n",
    "sim_df.quantile(q=[0.1, 0.25, 0.75, 0.9], axis=1).T.plot(lw=1.5, ls=\"--\", ax=ax, legend=False)\n",
    "plt.show()"
   ]
  },
  {
   "cell_type": "markdown",
   "id": "4f89d86b",
   "metadata": {},
   "source": [
    "### Multivariate  timeseries $D_{1}^h(X_{d}^h)$ "
   ]
  },
  {
   "cell_type": "code",
   "execution_count": null,
   "id": "a76cd2d3",
   "metadata": {},
   "outputs": [],
   "source": [
    "s = VectorTimeSeries(df=df, signal_name=\"spain\", bucket_method=BucketMethod.Round, bin_size=1, \n",
    "                     diff_matrix_xi_xj_computation=False)"
   ]
  },
  {
   "cell_type": "code",
   "execution_count": null,
   "id": "5463ad5f",
   "metadata": {},
   "outputs": [],
   "source": [
    "s.plot_hourly_boxplot()"
   ]
  },
  {
   "cell_type": "code",
   "execution_count": null,
   "id": "39d6fbc8",
   "metadata": {},
   "outputs": [],
   "source": [
    "fig, ax = plt.subplots(figsize=(20, 7))\n",
    "sns.heatmap(s.drift_hour_x.iloc[:, :100], ax=ax, cmap='flare', vmin=-50, vmax=50)\n",
    "ax.set_title(\"Mean 24-hour drift\")\n",
    "fig.show()"
   ]
  },
  {
   "cell_type": "code",
   "execution_count": null,
   "id": "c64dbe0f",
   "metadata": {},
   "outputs": [],
   "source": [
    "fig, ax = plt.subplots(figsize=(20, 7))\n",
    "sns.heatmap(s.potential_hour_x.iloc[:, :100], ax=ax, cmap='flare', vmin=-400, vmax=100)\n",
    "ax.set_title(\"Potential\")\n",
    "fig.show()"
   ]
  },
  {
   "cell_type": "code",
   "execution_count": null,
   "id": "6134b761",
   "metadata": {
    "scrolled": true
   },
   "outputs": [],
   "source": [
    "m = 6\n",
    "n = int(24/m)\n",
    "fig, ax = plt.subplots(n, 1, figsize=(20, 25))\n",
    "for i in range(n):\n",
    "    s.potential_hour_x.loc[i*m+1:(i+1)*m].T.plot(ax=ax[i])\n",
    "    ax[i].legend(loc=1)\n",
    "    ax[i].set_xlim(0, 180)\n",
    "    ax[i].set_ylim(-450, 150)\n",
    "ax[0].set_title(\"Potential\")\n",
    "fig.show()"
   ]
  },
  {
   "cell_type": "code",
   "execution_count": null,
   "id": "4282427b",
   "metadata": {},
   "outputs": [],
   "source": [
    "fig, axis = plt.subplots(4, 6, figsize=(40, 25))\n",
    "\n",
    "for i, ax_list in enumerate(axis):\n",
    "    for j, ax in enumerate(ax_list):\n",
    "        h = 1 + i*6+j\n",
    "        s.potential_hour_x.loc[h].plot(ax=ax)\n",
    "        ax.set_xlabel(\"\")\n",
    "        ax.set_title(f\"Hour = {h}\", fontsize=30)\n",
    "        ax.set_xlim(0, 100)\n",
    "        ax.set_ylim(-450, 50)\n",
    "        ax.tick_params(axis='both', labelsize=20)\n",
    "        ax.spines['right'].set_visible(False)\n",
    "        ax.spines['top'].set_visible(False)\n",
    "\n",
    "fig.text(0.5, 0.095, \"spot price $X_{t}^{i}$ [€/MWh]\", ha=\"center\", va=\"center\", fontdict={\"size\": 25})\n",
    "fig.text(0.1, 0.5, \"potential $[(€/MWh)^{2}/day]$\", ha=\"center\", va=\"center\",\n",
    "         fontdict={\"size\": 25}, rotation=90)"
   ]
  },
  {
   "cell_type": "code",
   "execution_count": null,
   "id": "4efb5b83",
   "metadata": {},
   "outputs": [],
   "source": [
    "fig, ax = plt.subplots(subplot_kw={\"projection\": \"3d\"}, figsize=(20, 10))\n",
    "potential = s.potential_hour_x.iloc[:, :100].stack().reset_index()\n",
    "ax.scatter(potential.iloc[:, 0], potential.iloc[:, 1], potential.iloc[:, 2])\n",
    "ax.set_xlabel(\"hour\")\n",
    "ax.set_ylabel(\"Spot price [€/Mwh]\")\n",
    "ax.set_zlabel(\"potential\")\n",
    "fig.show()"
   ]
  },
  {
   "cell_type": "code",
   "execution_count": null,
   "id": "2a7df6ee",
   "metadata": {},
   "outputs": [],
   "source": [
    "fig, ax = plt.subplots(figsize=(15, 10))\n",
    "mask = np.triu(np.ones_like(s.diffusion_matrix, dtype=bool), k=1)\n",
    "sns.heatmap(s.diffusion_matrix, cmap=\"flare\", mask=mask,\n",
    "            square=True, linewidths=.5, cbar_kws={\"shrink\": 0.85})\n",
    "ax.set_title(\"Mean diffusion\")\n",
    "fig.show()"
   ]
  },
  {
   "cell_type": "code",
   "execution_count": null,
   "id": "d1266ca4",
   "metadata": {},
   "outputs": [],
   "source": [
    "s.diffusion_matrix"
   ]
  },
  {
   "cell_type": "code",
   "execution_count": null,
   "id": "d16288ab",
   "metadata": {},
   "outputs": [],
   "source": [
    "fig, ax = plt.subplots(figsize=(15, 10))\n",
    "mask = np.triu(np.ones_like(s.sqrt_diff_matrix, dtype=bool), k=1)\n",
    "sns.heatmap(s.sqrt_diff_matrix, cmap=\"flare\", mask=mask,\n",
    "            square=True, linewidths=.5, cbar_kws={\"shrink\": 0.85})\n",
    "ax.set_title(\"Mean diffusion\")\n",
    "fig.show()"
   ]
  },
  {
   "cell_type": "markdown",
   "id": "caf7de27",
   "metadata": {},
   "source": [
    "#### Simulation with $D_{1}^h(X_{d}^h)$ and diagonal $D^{2}$"
   ]
  },
  {
   "cell_type": "code",
   "execution_count": null,
   "id": "cda55fbe",
   "metadata": {},
   "outputs": [],
   "source": [
    "x_df = s.df[(s.df[\"date\"] >= \"2020-12-10\")].iloc[:24*6]\n",
    "x_0 = x_df[\"spain\"].iloc[:24].values"
   ]
  },
  {
   "cell_type": "code",
   "execution_count": null,
   "id": "6544c724",
   "metadata": {},
   "outputs": [],
   "source": [
    "spatial_drift = SpatialDriftMultivariate(df=s.drift_hour_x)\n",
    "diag_diff_matrix = pd.DataFrame(np.sqrt(np.diag(np.diag(s.diffusion_matrix))))\n",
    "diag_diffusion = ConstantDiffusionMultivariate(df=diag_diff_matrix)\n",
    "\n",
    "em_2 = EulerMaruyama(num_sim=1000, period=6, delta_t=1, nu=0, drift=spatial_drift, diffusion=diag_diffusion)"
   ]
  },
  {
   "cell_type": "code",
   "execution_count": null,
   "id": "37a79158",
   "metadata": {},
   "outputs": [],
   "source": [
    "sim_df = em_2.simulate(x0=x_0, random_seed=124)"
   ]
  },
  {
   "cell_type": "code",
   "execution_count": null,
   "id": "8a06e35b",
   "metadata": {},
   "outputs": [],
   "source": [
    "fig, ax = plt.subplots(1,1, figsize=(15, 10))\n",
    "sim_df.iloc[24:, : em_2.num_sim//2].plot(alpha=0.05, ax=ax, legend=False)\n",
    "sim_df.mean(axis=1).plot(lw=1.5, color=\"black\", ax=ax)\n",
    "x_df.reset_index()[\"spain\"].plot(lw=1.5, color=\"blue\", ax=ax)\n",
    "sim_df.iloc[24:, :].quantile(q=[0.1, 0.25, 0.75, 0.9], axis=1).T.plot(lw=1.5, ls=\"--\", ax=ax, legend=False)\n",
    "ax.set_xlabel(\"hour\")\n",
    "ax.set_ylim(0, 120)\n",
    "ax.set_ylabel(\"€/MWh\")\n",
    "ax.set_title(\"Day ahead electricity price simulation with $D_1^{h}(X_d^h)$ and diagonal $D_2$\")\n",
    "plt.show()"
   ]
  },
  {
   "cell_type": "markdown",
   "id": "4b15f5f5",
   "metadata": {},
   "source": [
    "#### Simulation with $D_{1}^h(X_{d}^h)$ and non-diagonal constant $D^{2}$"
   ]
  },
  {
   "cell_type": "code",
   "execution_count": null,
   "id": "345fbe7d",
   "metadata": {},
   "outputs": [],
   "source": [
    "x_df = s.df[(s.df[\"date\"] >= \"2020-12-10\")].iloc[:24*6]\n",
    "x_0 = x_df[\"spain\"].iloc[:24].values"
   ]
  },
  {
   "cell_type": "code",
   "execution_count": null,
   "id": "0aa5f353",
   "metadata": {},
   "outputs": [],
   "source": [
    "spatial_drift = SpatialDriftMultivariate(df=s.drift_hour_x)\n",
    "cte_diffusion = ConstantDiffusionMultivariate(df=pd.DataFrame(s.sqrt_diff_matrix))\n",
    "\n",
    "em_3 = EulerMaruyama(num_sim=1000, period=6, delta_t=1, nu=0, drift=spatial_drift, diffusion=cte_diffusion)"
   ]
  },
  {
   "cell_type": "code",
   "execution_count": null,
   "id": "a84f3914",
   "metadata": {},
   "outputs": [],
   "source": [
    "sim_df = em_3.simulate(x0=x_0, random_seed=124)"
   ]
  },
  {
   "cell_type": "code",
   "execution_count": null,
   "id": "7806bd6c",
   "metadata": {},
   "outputs": [],
   "source": [
    "fig, ax = plt.subplots(1,1, figsize=(15, 10))\n",
    "sim_df.iloc[24:, : em_3.num_sim//2].plot(alpha=0.05, ax=ax, legend=False)\n",
    "sim_df.mean(axis=1).plot(lw=1.5, color=\"black\", ax=ax)\n",
    "x_df.reset_index()[\"spain\"].plot(lw=1.5, color=\"blue\", ax=ax)\n",
    "sim_df.iloc[24:, :].quantile(q=[0.1, 0.25, 0.75, 0.9], axis=1).T.plot(lw=1.5, ls=\"--\", ax=ax, legend=False)\n",
    "ax.set_xlabel(\"hour\")\n",
    "ax.set_ylim(0, 120)\n",
    "ax.set_ylabel(\"€/MWh\")\n",
    "ax.set_title(\"Day ahead electricity price simulation with $D_1^h(X_d^h)$ and non-diagonal $D_2$\")\n",
    "plt.show()"
   ]
  },
  {
   "cell_type": "markdown",
   "id": "84ed0ece",
   "metadata": {},
   "source": [
    "### Multivariate timeseries  - $D_{1}^{h}(X_{d}^h - X_{d-1}^h)$ "
   ]
  },
  {
   "cell_type": "code",
   "execution_count": null,
   "id": "81cb84b1",
   "metadata": {},
   "outputs": [],
   "source": [
    "s_back_drift = VectorTimeSeries(df=df, signal_name=\"spain\", bucket_method=BucketMethod.Round, bin_size=1, x_transformation=\"back_drift\")"
   ]
  },
  {
   "cell_type": "code",
   "execution_count": null,
   "id": "0c12c67a",
   "metadata": {},
   "outputs": [],
   "source": [
    "fig, ax = plt.subplots(figsize=(20, 7))\n",
    "sns.heatmap(s_back_drift.samples_hour_x.iloc[:, :200], ax=ax, cmap='flare')#, vmin=-40, vmax=40)\n",
    "ax.set_title(\"Samples 24-hour drift\")\n",
    "fig.show()"
   ]
  },
  {
   "cell_type": "code",
   "execution_count": null,
   "id": "80619ff1",
   "metadata": {
    "scrolled": false
   },
   "outputs": [],
   "source": [
    "fig, ax = plt.subplots(figsize=(20, 7))\n",
    "sns.heatmap(s_back_drift.drift_hour_x, ax=ax, cmap='flare')#, vmin=-40, vmax=40)\n",
    "ax.set_title(\"Mean 24-hour drift\")\n",
    "fig.show()"
   ]
  },
  {
   "cell_type": "code",
   "execution_count": null,
   "id": "465f2aa0",
   "metadata": {},
   "outputs": [],
   "source": [
    "fig, ax = plt.subplots(figsize=(20, 7))\n",
    "sns.heatmap(s_back_drift.potential_hour_x, ax=ax, cmap='flare')\n",
    "ax.set_title(\"Potential\")\n",
    "fig.show()"
   ]
  },
  {
   "cell_type": "code",
   "execution_count": null,
   "id": "22a5b507",
   "metadata": {
    "scrolled": true
   },
   "outputs": [],
   "source": [
    "m = 6\n",
    "n = int(24/m)\n",
    "fig, ax = plt.subplots(n, 1, figsize=(20, 25))\n",
    "for i in range(n):\n",
    "    s_back_drift.potential_hour_x.loc[i*m+1:(i+1)*m].T.plot(ax=ax[i])\n",
    "    ax[i].legend(loc=1)\n",
    "    ax[i].set_xlim(-80, 80)\n",
    "    #ax[i].set_ylim(-450, 150)\n",
    "ax[0].set_title(\"Potential\")\n",
    "fig.show()"
   ]
  },
  {
   "cell_type": "code",
   "execution_count": null,
   "id": "b4277512",
   "metadata": {},
   "outputs": [],
   "source": [
    "fig, axis = plt.subplots(4, 6, figsize=(40, 25))\n",
    "\n",
    "for i, ax_list in enumerate(axis):\n",
    "    for j, ax in enumerate(ax_list):\n",
    "        h = 1 + i*6+j\n",
    "        s_back_drift.potential_hour_x.loc[h].plot(ax=ax)\n",
    "        ax.set_xlabel(\"\")\n",
    "        ax.set_title(f\"Hour = {h}\", fontsize=30)\n",
    "        ax.set_xlim(-60, 60)\n",
    "        ax.set_ylim(-800, 50)\n",
    "        ax.tick_params(axis='both', labelsize=20)\n",
    "        ax.spines['right'].set_visible(False)\n",
    "        ax.spines['top'].set_visible(False)\n",
    "\n",
    "fig.text(0.5, 0.095, \"spot price difference $X_{t}^{i} - X_{t-1}^{i}$ [€/MWh]\", ha=\"center\", va=\"center\", fontdict={\"size\": 25})\n",
    "fig.text(0.1, 0.5, \"potential $[(€/MWh)^{2}/day]$\", ha=\"center\", va=\"center\",\n",
    "         fontdict={\"size\": 25}, rotation=90)"
   ]
  },
  {
   "cell_type": "code",
   "execution_count": null,
   "id": "05feb06c",
   "metadata": {},
   "outputs": [],
   "source": [
    "fig, ax = plt.subplots(subplot_kw={\"projection\": \"3d\"}, figsize=(20, 10))\n",
    "potential = s_back_drift.potential_hour_x.stack().reset_index()\n",
    "ax.scatter(potential.iloc[:, 0], potential.iloc[:, 1], potential.iloc[:, 2])\n",
    "ax.set_xlabel(\"hour\")\n",
    "ax.set_ylabel(\"X\")\n",
    "ax.set_zlabel(\"potential\")\n",
    "fig.show()"
   ]
  },
  {
   "cell_type": "code",
   "execution_count": null,
   "id": "9ebdbaa1",
   "metadata": {},
   "outputs": [],
   "source": [
    "fig, ax = plt.subplots(figsize=(15, 10))\n",
    "mask = np.triu(np.ones_like(s_back_drift.diffusion_matrix, dtype=bool), k=1)\n",
    "sns.heatmap(s_back_drift.diffusion_matrix, cmap=\"flare\", mask=mask,\n",
    "            square=True, linewidths=.5, cbar_kws={\"shrink\": 0.85})\n",
    "ax.set_title(\"Mean diffusion\")\n",
    "fig.show()"
   ]
  },
  {
   "cell_type": "markdown",
   "id": "7f2e24f2",
   "metadata": {},
   "source": [
    "#### Simulation with $D_{1}^h(X_{d}^h - X_{d-1}^h)$ and non-diagonal constant $D^{2}$"
   ]
  },
  {
   "cell_type": "code",
   "execution_count": null,
   "id": "6085b0fa",
   "metadata": {},
   "outputs": [],
   "source": [
    "x_df = s_back_drift.df[(s_back_drift.df[\"date\"] >= \"2020-12-09\")].iloc[:24*7]\n",
    "t_0 = x_df[\"spain\"].iloc[:24].values\n",
    "t_1 = x_df[\"spain\"].iloc[24:48].values\n",
    "x_0 = np.vstack([t_0, t_1]).T"
   ]
  },
  {
   "cell_type": "code",
   "execution_count": null,
   "id": "f278dc23",
   "metadata": {},
   "outputs": [],
   "source": [
    "spatial_diff_drift = SpatialDifferenceDriftMultivariate(df=s_back_drift.drift_hour_x)\n",
    "cte_diffusion = ConstantDiffusionMultivariate(df=pd.DataFrame(s_back_drift.sqrt_diff_matrix))\n",
    "\n",
    "em_4 = EulerMaruyama(num_sim=1000, period=7, delta_t=1, nu=0, drift=spatial_diff_drift, diffusion=cte_diffusion)"
   ]
  },
  {
   "cell_type": "code",
   "execution_count": null,
   "id": "cd889502",
   "metadata": {},
   "outputs": [],
   "source": [
    "sim_df = em_4.simulate(x0=x_0, random_seed=124)"
   ]
  },
  {
   "cell_type": "code",
   "execution_count": null,
   "id": "d840c6a6",
   "metadata": {},
   "outputs": [],
   "source": [
    "fig, ax = plt.subplots(1,1, figsize=(15, 10))\n",
    "sim_df.iloc[48:, : em_4.num_sim//2].plot(alpha=0.05, ax=ax, legend=False)\n",
    "sim_df.mean(axis=1).iloc[24:].plot(lw=1.5, color=\"black\", ax=ax)\n",
    "x_df.reset_index()[\"spain\"].iloc[24:].plot(lw=1.5, color=\"blue\", ax=ax)\n",
    "sim_df.iloc[48:, :].quantile(q=[0.1, 0.25, 0.75, 0.9], axis=1).T.plot(lw=1.5, ls=\"--\", ax=ax, legend=False)\n",
    "ax.set_xlabel(\"hour\")\n",
    "ax.set_ylim(0, 120)\n",
    "ax.set_ylabel(\"€/MWh\")\n",
    "ax.set_title(\"Day ahead electricity price simulation for $D_1^h(X_d^h - X_{d-1}^h)$ and non-diagonal $D_2$\")\n",
    "plt.show()"
   ]
  },
  {
   "cell_type": "markdown",
   "id": "b57d2452",
   "metadata": {},
   "source": [
    "## Gaussian kde"
   ]
  },
  {
   "cell_type": "code",
   "execution_count": 7,
   "id": "ce79e962",
   "metadata": {},
   "outputs": [],
   "source": [
    "from matplotlib.lines import Line2D"
   ]
  },
  {
   "cell_type": "code",
   "execution_count": 8,
   "id": "acf3cb0d",
   "metadata": {},
   "outputs": [],
   "source": [
    "s_kde = VectorTimeSeries(df=df, signal_name=\"spain\", bucket_method=BucketMethod.NoBucket)"
   ]
  },
  {
   "cell_type": "code",
   "execution_count": 9,
   "id": "1a76552c",
   "metadata": {},
   "outputs": [],
   "source": [
    "def compute_historical_mean(df: pd.DataFrame, x_label_col_name: str, value_col_name: str):\n",
    "    \n",
    "    aux_df = df.copy(deep=True)\n",
    "    aux_df[x_label_col_name] = aux_df[x_label_col_name].round(decimals=0)\n",
    "    mean_x = aux_df.groupby(x_label_col_name)[value_col_name].mean()\n",
    "    \n",
    "    return mean_x\n",
    "\n",
    "def plot_samples_kernel_mean_expected(ax: plt.axes, \n",
    "                                      gk: GaussianKernel, \n",
    "                                      historical_mean: pd.Series, \n",
    "                                      ymax_lim: float = None):\n",
    "\n",
    "    ax.plot(gk.samples[0], gk.samples[1], 'k.', markersize=2, alpha=0.2)\n",
    "    ax.plot(gk.expected_value_function[0, :], gk.expected_value_function[1, :], lw=2, color=\"blue\")\n",
    "    historical_mean.plot(ax=ax, lw=2, color=\"red\")\n",
    "    cs = ax.contourf(gk.grid[0], gk.grid[1], gk.p,\n",
    "                     levels=100, cmap=plt.cm.gist_earth_r, alpha=0.7, antialiased=True)\n",
    "    if ymax_lim:\n",
    "        ax.set_ylim(0, ymax_lim)\n",
    "\n",
    "def plot_potential(ax: plt.axis, gk: GaussianKernel, historical_mean: pd.Series):\n",
    "    \n",
    "    dx = gk.expected_value_function[0, 1] -  gk.expected_value_function[0, 0]\n",
    "    ax.plot(gk.expected_value_function[0, :], (-1)*np.cumsum(gk.expected_value_function[1, :]*dx), color=\"blue\")\n",
    "    ax.plot(historical_mean.index, (-1)*np.cumsum(historical_mean.values), color=\"red\")"
   ]
  },
  {
   "cell_type": "markdown",
   "id": "d58d77b4",
   "metadata": {},
   "source": [
    "$$D_1^{h}$$"
   ]
  },
  {
   "cell_type": "code",
   "execution_count": null,
   "id": "25f727e8",
   "metadata": {
    "scrolled": true
   },
   "outputs": [],
   "source": [
    "%%time\n",
    "d_1_dict = {}\n",
    "d_1_historical_mean_dict = {}\n",
    "for h in s_kde.df[\"hour\"].unique():\n",
    "    train_df = s_kde.df.query(f\"hour == {h}\")[[\"x_label\", \"drift_24\"]].dropna()\n",
    "    \n",
    "    gk = GaussianKernel(samples=train_df, grid_shape=(1000, 1000), xmax=120, \n",
    "                        computation_mode=ComputationMode.Numba, mesh_chunks=8)\n",
    "    historical_mean = compute_historical_mean(df=train_df, \n",
    "                                                x_label_col_name=\"x_label\", \n",
    "                                                value_col_name=\"drift_24\")\n",
    "        \n",
    "    d_1_dict[h] = gk\n",
    "    d_1_historical_mean_dict[h] = historical_mean\n",
    "    \n",
    "    fig, (ax0, ax1) = plt.subplots(1, 2, figsize=(15, 7), gridspec_kw={'width_ratios': [3, 1]})\n",
    "    \n",
    "    plot_samples_kernel_mean_expected(ax=ax0, gk=gk, historical_mean=historical_mean)\n",
    "    ax0.set_xlabel(f\"spot price, $X_d^{{{h}}}$ [€/MWh]\")\n",
    "    ax0.set_ylabel(f\"spot price difference $X_{{d+1}}^{{{h}}} - X_{{d}}^{{{h}}}$ [€/MWh]\")\n",
    "    ax0.set_title(f\"Drift hour = {h}\")\n",
    "    ax0.set_xlim(0, 120)\n",
    "    \n",
    "    plot_potential(ax=ax1, gk=gk, historical_mean=historical_mean)\n",
    "    ax1.set_title(f\"Potential hour = {h}\")\n",
    "    ax1.set_xlabel(f\"spot price, $X_d^{{{h}}}$ [€/MWh]\")\n",
    "    ax1.set_ylabel(f\"Potential\")\n",
    "    plt.show()"
   ]
  },
  {
   "cell_type": "code",
   "execution_count": null,
   "id": "16bca3e4",
   "metadata": {
    "scrolled": false
   },
   "outputs": [],
   "source": [
    "fig, axis = plt.subplots(6, 4, figsize=(25, 32))\n",
    "\n",
    "xnew = np.arange(0, 150) \n",
    "for i, ax_list in enumerate(axis):\n",
    "    for j, ax in enumerate(ax_list):\n",
    "        h = 1 + i*4+j\n",
    "        plot_samples_kernel_mean_expected(ax=ax, gk=d_1_dict[h], historical_mean=d_1_historical_mean_dict[h])\n",
    "        ax.set_xlabel(\"\")\n",
    "        ax.set_title(f\"Hour = {h}\")\n",
    "        ax.set_xlim(0, 100)\n",
    "        ax.set_ylim(-50, 50)\n",
    "\n",
    "fig.text(0.5, 0.11, \"spot price, $X_d^{h}$ [€/MWh]\", ha=\"center\", va=\"center\", fontdict={\"size\": 20})\n",
    "fig.text(0.1, 0.5, \"spot price difference $X_{d+1}^{h} - X_{d}^{h}$ [€/MWh]\", ha=\"center\", va=\"center\",\n",
    "         fontdict={\"size\": 20}, rotation=90)\n",
    "\n",
    "custom_lines = [Line2D([0], [0], color=\"red\", lw=2, alpha=0.7),\n",
    "                Line2D([0], [0], color=\"blue\", lw=2)]\n",
    "fig.legend(custom_lines, \n",
    "           [\"Empirical mean spot price difference\", \"Expected spot price difference from Gaussian KDE\"],\n",
    "           ncol=2, loc = (0.2, 0.935), prop={\"size\": 18})\n",
    "plt.show()"
   ]
  },
  {
   "cell_type": "code",
   "execution_count": null,
   "id": "bc82a72f",
   "metadata": {},
   "outputs": [],
   "source": [
    "for k,v in d_1_dict.items():\n",
    "    with open(f\"data/kde/d_1/d_1_{k}_1000_1000_coefficients.pkl\", \"wb\") as f:\n",
    "        pickle.dump(v, f)"
   ]
  },
  {
   "cell_type": "code",
   "execution_count": 10,
   "id": "2509e0db",
   "metadata": {},
   "outputs": [],
   "source": [
    "d_1_dict = load_kernels_dict(path=\"data/kde/d_1/\", pattern=\"d_1_(.*)_1000_1000\", dim_num=1)"
   ]
  },
  {
   "cell_type": "markdown",
   "id": "953789d5",
   "metadata": {},
   "source": [
    "$$ D_2^{h, j} $$"
   ]
  },
  {
   "cell_type": "markdown",
   "id": "d6aa7e82",
   "metadata": {},
   "source": [
    "#### Diagonal $D_2^{h, j} \\quad h=j$"
   ]
  },
  {
   "cell_type": "code",
   "execution_count": null,
   "id": "2e81ee6c",
   "metadata": {
    "scrolled": true
   },
   "outputs": [],
   "source": [
    "%%time\n",
    "d_2_diag_dict = {}\n",
    "d_2_diag_historical_mean_dict = {}\n",
    "for h in range(1, 25):\n",
    "    \n",
    "    x_label_col_name = s_kde.x_col_name\n",
    "    diff_col_name = s_kde.diffusion_cols[h-1]\n",
    "    \n",
    "    train_df = s_kde.df.query(f\"hour == {h}\")[[x_label_col_name, diff_col_name]].dropna()\n",
    "    gk = GaussianKernel(samples=train_df, grid_shape=(100, 5000), ymin=-100)\n",
    "    \n",
    "    historical_mean = compute_historical_mean(df=train_df, \n",
    "                                              x_label_col_name=x_label_col_name, \n",
    "                                              value_col_name=diff_col_name)\n",
    "    \n",
    "    d_2_diag_dict[h] = gk\n",
    "    d_2_diag_historical_mean_dict[h] = historical_mean\n",
    "    \n",
    "    fig, ax = plt.subplots(figsize=(10, 7))\n",
    "    plot_samples_kernel_mean_expected(\n",
    "        ax=ax, gk=d_2_diag_dict_v2[h], \n",
    "        historical_mean=d_2_diag_historical_mean_dict[h], ymax_lim=historical_mean.max()\n",
    "    )\n",
    "    ax.set_xlabel(f\"spot price, $X_d^{{{h}}}$ [€/MWh]\")\n",
    "    ax.set_ylabel(f\"Diffusion coefficient $(X_{{d+1}}^{{{h}}} - X_{{d}}^{{{h}}})^2$ [$(€/MWh)^2$]\")\n",
    "    ax.set_title(f\"Diffusion hour = {h}\")\n",
    "    plt.show()"
   ]
  },
  {
   "cell_type": "code",
   "execution_count": null,
   "id": "3e14206f",
   "metadata": {},
   "outputs": [],
   "source": [
    "for k,v in d_2_diag_dict.items():\n",
    "    with open(f\"data/kde/d_2_diag/d_2_diag_{k}_1000_1000_coefficients.pkl\", \"wb\") as f:\n",
    "        pickle.dump(v, f)"
   ]
  },
  {
   "cell_type": "code",
   "execution_count": 17,
   "id": "596ac00f",
   "metadata": {},
   "outputs": [],
   "source": [
    "d_2_diag_dict = load_kernels_dict(path=\"data/kde/d_2_diag/\", pattern=\"d_2_diag_(.*)_1000_1000\", dim_num=1)"
   ]
  },
  {
   "cell_type": "markdown",
   "id": "094a6a68",
   "metadata": {},
   "source": [
    "#### Non-diagonal $D_2^{h, j} \\quad h \\neq j$"
   ]
  },
  {
   "cell_type": "code",
   "execution_count": null,
   "id": "f80e7d89",
   "metadata": {},
   "outputs": [],
   "source": [
    "hour_i_list = []\n",
    "hour_j_list = []\n",
    "for i in np.arange(24, 1, -1):\n",
    "    for j in range(i-1, 0, -1):\n",
    "        hour_i_list.append(i)\n",
    "        hour_j_list.append(j)"
   ]
  },
  {
   "cell_type": "code",
   "execution_count": null,
   "id": "66b4548d",
   "metadata": {},
   "outputs": [],
   "source": [
    "def compute_diffusion_non_diagonal(vector_ts: VectorTimeSeries, hour_i: int, hour_j: int):\n",
    "    \n",
    "    x_label_col_name = vector_ts.x_col_name\n",
    "    x_label_col_name_2 = vector_ts.x_two_col_names[hour_j-1]\n",
    "    diff_col_name = vector_ts.diffusion_cols[hour_j-1] \n",
    "    \n",
    "    train_df = vector_ts.df.query(f\"hour == {hour_i}\")[[x_label_col_name, x_label_col_name_2, diff_col_name]]\n",
    "    train_df = train_df.dropna()\n",
    "    \n",
    "    gk = GaussianKernel(samples=train_df, grid_shape=(100, 100, 500), \n",
    "                        computation_mode=ComputationMode.Numba, \n",
    "                        mesh_chunks=8)\n",
    "    return gk"
   ]
  },
  {
   "cell_type": "code",
   "execution_count": 18,
   "id": "ffb84831",
   "metadata": {},
   "outputs": [],
   "source": [
    "d_2_non_diag_dict = load_kernels_dict(\n",
    "    path=\"data/kde/d_2_non_diag/\", pattern=\"d_2_non_diag_(.*)_100_100\", dim_num=2\n",
    ")"
   ]
  },
  {
   "cell_type": "markdown",
   "id": "95bfde33",
   "metadata": {},
   "source": [
    "### Drift coefficient"
   ]
  },
  {
   "cell_type": "code",
   "execution_count": 19,
   "id": "d28470f9",
   "metadata": {},
   "outputs": [],
   "source": [
    "drift_df_list = []\n",
    "hours = list(d_1_dict.keys())\n",
    "hours.sort()\n",
    "for h in hours:\n",
    "    drift_df_list.append(\n",
    "        pd.DataFrame(data={h: d_1_dict[h].expected_value_function[1, :]}).T\n",
    "    )\n",
    "\n",
    "expected_drift_df = pd.concat(drift_df_list)\n",
    "expected_drift_df.columns = d_1_dict[hours[0]].expected_value_function[0, :]"
   ]
  },
  {
   "cell_type": "code",
   "execution_count": 20,
   "id": "04aa875b",
   "metadata": {},
   "outputs": [
    {
     "data": {
      "text/html": [
       "<div>\n",
       "<style scoped>\n",
       "    .dataframe tbody tr th:only-of-type {\n",
       "        vertical-align: middle;\n",
       "    }\n",
       "\n",
       "    .dataframe tbody tr th {\n",
       "        vertical-align: top;\n",
       "    }\n",
       "\n",
       "    .dataframe thead th {\n",
       "        text-align: right;\n",
       "    }\n",
       "</style>\n",
       "<table border=\"1\" class=\"dataframe\">\n",
       "  <thead>\n",
       "    <tr style=\"text-align: right;\">\n",
       "      <th></th>\n",
       "      <th>0.000000</th>\n",
       "      <th>0.120120</th>\n",
       "      <th>0.240240</th>\n",
       "      <th>0.360360</th>\n",
       "      <th>0.480480</th>\n",
       "      <th>0.600601</th>\n",
       "      <th>0.720721</th>\n",
       "      <th>0.840841</th>\n",
       "      <th>0.960961</th>\n",
       "      <th>1.081081</th>\n",
       "      <th>...</th>\n",
       "      <th>118.918919</th>\n",
       "      <th>119.039039</th>\n",
       "      <th>119.159159</th>\n",
       "      <th>119.279279</th>\n",
       "      <th>119.399399</th>\n",
       "      <th>119.519520</th>\n",
       "      <th>119.639640</th>\n",
       "      <th>119.759760</th>\n",
       "      <th>119.879880</th>\n",
       "      <th>120.000000</th>\n",
       "    </tr>\n",
       "  </thead>\n",
       "  <tbody>\n",
       "    <tr>\n",
       "      <th>1</th>\n",
       "      <td>9.484425</td>\n",
       "      <td>9.525034</td>\n",
       "      <td>9.566958</td>\n",
       "      <td>9.610155</td>\n",
       "      <td>9.654577</td>\n",
       "      <td>9.700170</td>\n",
       "      <td>9.746872</td>\n",
       "      <td>9.794615</td>\n",
       "      <td>9.843322</td>\n",
       "      <td>9.892910</td>\n",
       "      <td>...</td>\n",
       "      <td>-27.968346</td>\n",
       "      <td>-27.989190</td>\n",
       "      <td>-28.010110</td>\n",
       "      <td>-28.031103</td>\n",
       "      <td>-28.052167</td>\n",
       "      <td>-28.073300</td>\n",
       "      <td>-28.094499</td>\n",
       "      <td>-28.115763</td>\n",
       "      <td>-28.137088</td>\n",
       "      <td>-28.158475</td>\n",
       "    </tr>\n",
       "    <tr>\n",
       "      <th>2</th>\n",
       "      <td>9.301392</td>\n",
       "      <td>9.294091</td>\n",
       "      <td>9.286891</td>\n",
       "      <td>9.279778</td>\n",
       "      <td>9.272738</td>\n",
       "      <td>9.265755</td>\n",
       "      <td>9.258811</td>\n",
       "      <td>9.251885</td>\n",
       "      <td>9.244959</td>\n",
       "      <td>9.238008</td>\n",
       "      <td>...</td>\n",
       "      <td>-49.243461</td>\n",
       "      <td>-49.267834</td>\n",
       "      <td>-49.292207</td>\n",
       "      <td>-49.316580</td>\n",
       "      <td>-49.340952</td>\n",
       "      <td>-49.365324</td>\n",
       "      <td>-49.389697</td>\n",
       "      <td>-49.414068</td>\n",
       "      <td>-49.438440</td>\n",
       "      <td>-49.462812</td>\n",
       "    </tr>\n",
       "    <tr>\n",
       "      <th>3</th>\n",
       "      <td>8.817859</td>\n",
       "      <td>8.828810</td>\n",
       "      <td>8.840823</td>\n",
       "      <td>8.853920</td>\n",
       "      <td>8.868123</td>\n",
       "      <td>8.883453</td>\n",
       "      <td>8.899930</td>\n",
       "      <td>8.917572</td>\n",
       "      <td>8.936395</td>\n",
       "      <td>8.956412</td>\n",
       "      <td>...</td>\n",
       "      <td>-48.197039</td>\n",
       "      <td>-48.215190</td>\n",
       "      <td>-48.233247</td>\n",
       "      <td>-48.251213</td>\n",
       "      <td>-48.269085</td>\n",
       "      <td>-48.286864</td>\n",
       "      <td>-48.304549</td>\n",
       "      <td>-48.322141</td>\n",
       "      <td>-48.339639</td>\n",
       "      <td>-48.357043</td>\n",
       "    </tr>\n",
       "    <tr>\n",
       "      <th>4</th>\n",
       "      <td>8.012234</td>\n",
       "      <td>8.021524</td>\n",
       "      <td>8.031663</td>\n",
       "      <td>8.042662</td>\n",
       "      <td>8.054533</td>\n",
       "      <td>8.067282</td>\n",
       "      <td>8.080919</td>\n",
       "      <td>8.095447</td>\n",
       "      <td>8.110873</td>\n",
       "      <td>8.127196</td>\n",
       "      <td>...</td>\n",
       "      <td>-47.615384</td>\n",
       "      <td>-47.642165</td>\n",
       "      <td>-47.668905</td>\n",
       "      <td>-47.695603</td>\n",
       "      <td>-47.722260</td>\n",
       "      <td>-47.748875</td>\n",
       "      <td>-47.775449</td>\n",
       "      <td>-47.801983</td>\n",
       "      <td>-47.828477</td>\n",
       "      <td>-47.854931</td>\n",
       "    </tr>\n",
       "    <tr>\n",
       "      <th>5</th>\n",
       "      <td>7.457943</td>\n",
       "      <td>7.473693</td>\n",
       "      <td>7.490464</td>\n",
       "      <td>7.508271</td>\n",
       "      <td>7.527124</td>\n",
       "      <td>7.547033</td>\n",
       "      <td>7.568004</td>\n",
       "      <td>7.590044</td>\n",
       "      <td>7.613155</td>\n",
       "      <td>7.637339</td>\n",
       "      <td>...</td>\n",
       "      <td>-31.496187</td>\n",
       "      <td>-31.521001</td>\n",
       "      <td>-31.545815</td>\n",
       "      <td>-31.570629</td>\n",
       "      <td>-31.595443</td>\n",
       "      <td>-31.620257</td>\n",
       "      <td>-31.645071</td>\n",
       "      <td>-31.669885</td>\n",
       "      <td>-31.694699</td>\n",
       "      <td>-31.719513</td>\n",
       "    </tr>\n",
       "  </tbody>\n",
       "</table>\n",
       "<p>5 rows × 1000 columns</p>\n",
       "</div>"
      ],
      "text/plain": [
       "   0.000000    0.120120    0.240240    0.360360    0.480480    0.600601    \\\n",
       "1    9.484425    9.525034    9.566958    9.610155    9.654577    9.700170   \n",
       "2    9.301392    9.294091    9.286891    9.279778    9.272738    9.265755   \n",
       "3    8.817859    8.828810    8.840823    8.853920    8.868123    8.883453   \n",
       "4    8.012234    8.021524    8.031663    8.042662    8.054533    8.067282   \n",
       "5    7.457943    7.473693    7.490464    7.508271    7.527124    7.547033   \n",
       "\n",
       "   0.720721    0.840841    0.960961    1.081081    ...  118.918919  \\\n",
       "1    9.746872    9.794615    9.843322    9.892910  ...  -27.968346   \n",
       "2    9.258811    9.251885    9.244959    9.238008  ...  -49.243461   \n",
       "3    8.899930    8.917572    8.936395    8.956412  ...  -48.197039   \n",
       "4    8.080919    8.095447    8.110873    8.127196  ...  -47.615384   \n",
       "5    7.568004    7.590044    7.613155    7.637339  ...  -31.496187   \n",
       "\n",
       "   119.039039  119.159159  119.279279  119.399399  119.519520  119.639640  \\\n",
       "1  -27.989190  -28.010110  -28.031103  -28.052167  -28.073300  -28.094499   \n",
       "2  -49.267834  -49.292207  -49.316580  -49.340952  -49.365324  -49.389697   \n",
       "3  -48.215190  -48.233247  -48.251213  -48.269085  -48.286864  -48.304549   \n",
       "4  -47.642165  -47.668905  -47.695603  -47.722260  -47.748875  -47.775449   \n",
       "5  -31.521001  -31.545815  -31.570629  -31.595443  -31.620257  -31.645071   \n",
       "\n",
       "   119.759760  119.879880  120.000000  \n",
       "1  -28.115763  -28.137088  -28.158475  \n",
       "2  -49.414068  -49.438440  -49.462812  \n",
       "3  -48.322141  -48.339639  -48.357043  \n",
       "4  -47.801983  -47.828477  -47.854931  \n",
       "5  -31.669885  -31.694699  -31.719513  \n",
       "\n",
       "[5 rows x 1000 columns]"
      ]
     },
     "execution_count": 20,
     "metadata": {},
     "output_type": "execute_result"
    }
   ],
   "source": [
    "expected_drift_df.head()"
   ]
  },
  {
   "cell_type": "code",
   "execution_count": 42,
   "id": "cf43a622",
   "metadata": {},
   "outputs": [],
   "source": [
    "x0 = s_kde.df.iloc[-48:-24][\"x_label\"].values"
   ]
  },
  {
   "cell_type": "code",
   "execution_count": 45,
   "id": "10d4e216",
   "metadata": {},
   "outputs": [
    {
     "data": {
      "text/plain": [
       "array([43.84, 40.43, 36.75, 34.31, 33.5 , 36.03, 43.31, 49.52, 53.01,\n",
       "       55.6 , 55.68, 53.7 , 51.86, 52.01, 50.45, 50.27, 52.36, 54.96,\n",
       "       59.96, 59.86, 56.5 , 52.95, 51.13, 47.64])"
      ]
     },
     "execution_count": 45,
     "metadata": {},
     "output_type": "execute_result"
    }
   ],
   "source": [
    "x0"
   ]
  },
  {
   "cell_type": "code",
   "execution_count": 58,
   "id": "a73ed78a",
   "metadata": {},
   "outputs": [],
   "source": [
    "drift = SpatialNearestDriftMultivariate(df=expected_drift_df)"
   ]
  },
  {
   "cell_type": "code",
   "execution_count": 59,
   "id": "10c65b54",
   "metadata": {},
   "outputs": [],
   "source": [
    "x = np.zeros((24, 1000))"
   ]
  },
  {
   "cell_type": "code",
   "execution_count": 60,
   "id": "800157b4",
   "metadata": {},
   "outputs": [],
   "source": [
    "x[:, 0] = x0"
   ]
  },
  {
   "cell_type": "code",
   "execution_count": 61,
   "id": "3bfde9ca",
   "metadata": {},
   "outputs": [
    {
     "data": {
      "text/plain": [
       "array([ 0.03050127, -0.17214051, -0.34440095, -0.30941537, -0.31967546,\n",
       "       -0.34562403, -0.78527469, -1.75056126, -2.4469215 , -2.36413228,\n",
       "       -1.82929016, -1.1895412 , -0.66420165, -0.69957929, -0.88119188,\n",
       "       -1.07927951, -1.52517821, -2.05339017, -2.34943505, -1.47772964,\n",
       "       -0.60740667,  0.27891975,  0.13988042, -0.05542836])"
      ]
     },
     "execution_count": 61,
     "metadata": {},
     "output_type": "execute_result"
    }
   ],
   "source": [
    "drfit.get_value(x=x, t=1)"
   ]
  },
  {
   "cell_type": "markdown",
   "id": "1b99a206",
   "metadata": {},
   "source": [
    "### Diffusion matrix"
   ]
  },
  {
   "cell_type": "code",
   "execution_count": 62,
   "id": "c56da0ab",
   "metadata": {},
   "outputs": [],
   "source": [
    "# fill diffusion matrix\n",
    "diff_matrix = np.zeros((24, 24))\n",
    "\n",
    "for k, v in d_2_non_diag_dict.items():\n",
    "    for k_j, v_j in v.items():\n",
    "        diff_matrix[k-1, k_j -1] = v_j.expected_value\n",
    "\n",
    "diff_matrix = diff_matrix + np.tril(diff_matrix, k=-1).T\n",
    "\n",
    "for k, v in d_2_diag_dict.items():\n",
    "    diff_matrix[k-1][k-1] = v.expected_value"
   ]
  },
  {
   "cell_type": "code",
   "execution_count": 63,
   "id": "6f48f8b5",
   "metadata": {},
   "outputs": [
    {
     "data": {
      "text/plain": [
       "array([ 1.05222599e+03,  3.92268209e+02,  2.14847920e+02,  1.00638054e+02,\n",
       "        7.29640753e+01,  5.39267131e+01, -1.54792207e+01,  4.87363678e+01,\n",
       "       -7.65727455e+00,  4.08188532e+01, -5.03574657e-01,  2.77388159e+00,\n",
       "        3.89129258e+00,  2.95961133e+01,  8.90565505e+00,  1.20850412e+01,\n",
       "        1.35800360e+01,  1.26991813e+01,  2.63111172e+01,  1.96315430e+01,\n",
       "        1.90601429e+01,  2.10964899e+01,  2.34198943e+01,  2.27780245e+01])"
      ]
     },
     "execution_count": 63,
     "metadata": {},
     "output_type": "execute_result"
    }
   ],
   "source": [
    "np.linalg.eigvals(diff_matrix)"
   ]
  },
  {
   "cell_type": "code",
   "execution_count": 64,
   "id": "d9acdb75",
   "metadata": {},
   "outputs": [],
   "source": [
    "from statsmodels.stats.correlation_tools import cov_nearest"
   ]
  },
  {
   "cell_type": "code",
   "execution_count": 65,
   "id": "0dd77f33",
   "metadata": {},
   "outputs": [],
   "source": [
    "nearest_diff_matrix = cov_nearest(cov=diff_matrix, threshold=1e-14)"
   ]
  },
  {
   "cell_type": "code",
   "execution_count": 66,
   "id": "bb3030b4",
   "metadata": {},
   "outputs": [
    {
     "data": {
      "text/plain": [
       "0.35136540220598533"
      ]
     },
     "execution_count": 66,
     "metadata": {},
     "output_type": "execute_result"
    }
   ],
   "source": [
    "np.max(nearest_diff_matrix - diff_matrix)"
   ]
  },
  {
   "cell_type": "code",
   "execution_count": 67,
   "id": "a97c010f",
   "metadata": {},
   "outputs": [
    {
     "data": {
      "text/plain": [
       "array([1.04526382e+03, 3.82303116e+02, 2.12225740e+02, 9.94795520e+01,\n",
       "       7.25999337e+01, 5.36465453e+01, 4.75313777e+01, 4.05603409e+01,\n",
       "       2.95792997e+01, 2.75767512e+00, 3.87206901e+00, 2.62411745e+01,\n",
       "       2.33190020e+01, 2.27439743e+01, 2.08991042e+01, 1.93853465e+01,\n",
       "       1.90529257e+01, 8.86152470e+00, 1.35705309e+01, 1.20416372e+01,\n",
       "       1.26798299e+01, 6.60566364e-13, 1.18178781e-12, 1.03392108e-12])"
      ]
     },
     "execution_count": 67,
     "metadata": {},
     "output_type": "execute_result"
    }
   ],
   "source": [
    "np.linalg.eigvals(nearest_diff_matrix)"
   ]
  },
  {
   "cell_type": "code",
   "execution_count": 68,
   "id": "f067a433",
   "metadata": {},
   "outputs": [],
   "source": [
    "from scipy.linalg import sqrtm"
   ]
  },
  {
   "cell_type": "code",
   "execution_count": 69,
   "id": "6b4f49c0",
   "metadata": {},
   "outputs": [],
   "source": [
    "sqrt_diff_matrix = sqrtm(nearest_diff_matrix)"
   ]
  },
  {
   "cell_type": "code",
   "execution_count": 70,
   "id": "12e95ad9",
   "metadata": {},
   "outputs": [],
   "source": [
    "diff = ConstantDiffusionMultivariate(df=pd.DataFrame(sqrt_diff_matrix))"
   ]
  },
  {
   "cell_type": "code",
   "execution_count": 71,
   "id": "e6e72c5e",
   "metadata": {},
   "outputs": [
    {
     "data": {
      "text/plain": [
       "array([[ 7.21076880e+00,  3.02966443e+00,  1.71146154e+00,\n",
       "         1.45467695e+00,  1.36820069e+00,  1.40526957e+00,\n",
       "         1.27071255e+00,  6.61804206e-01,  2.30469023e-01,\n",
       "         3.68296485e-01,  5.09047779e-01,  4.90802576e-01,\n",
       "         3.11081341e-01,  3.22204165e-01,  2.51584129e-01,\n",
       "         5.29985123e-02, -1.27846122e-01, -2.18826141e-01,\n",
       "        -2.19777087e-01, -3.21177982e-01, -2.39236601e-01,\n",
       "         2.30660724e-02,  6.42478909e-02,  1.55177348e-01],\n",
       "       [ 3.02966443e+00,  5.97416289e+00,  3.83111644e+00,\n",
       "         2.04337440e+00,  1.42301416e+00,  1.66421724e+00,\n",
       "         1.43840028e+00,  5.99555796e-01,  2.90434954e-01,\n",
       "         3.67304340e-01,  4.24691335e-01,  4.10463810e-01,\n",
       "         2.87971137e-01,  2.56606208e-01,  2.68954642e-01,\n",
       "         9.94496853e-02, -3.73949325e-02, -2.12423492e-01,\n",
       "        -2.86248286e-01, -3.33060328e-01, -2.28428683e-01,\n",
       "        -9.46623550e-02, -2.52430255e-02,  4.06442432e-02],\n",
       "       [ 1.71146154e+00,  3.83111644e+00,  5.83466730e+00,\n",
       "         3.22267325e+00,  2.29253745e+00,  2.20962278e+00,\n",
       "         1.32274028e+00,  6.20486111e-01,  3.01462614e-01,\n",
       "         3.51218063e-01,  4.09909239e-01,  3.78668752e-01,\n",
       "         2.47656613e-01,  2.58465004e-01,  2.52218156e-01,\n",
       "         2.00828444e-01,  6.75063594e-02, -1.04146402e-01,\n",
       "        -2.25622377e-01, -3.18409893e-01, -2.03894027e-01,\n",
       "        -9.27018547e-02,  1.57247086e-02,  7.06504688e-03],\n",
       "       [ 1.45467695e+00,  2.04337440e+00,  3.22267325e+00,\n",
       "         5.08647285e+00,  4.94549913e+00,  2.23923614e+00,\n",
       "         1.25503152e+00,  5.82839414e-01,  3.73436344e-01,\n",
       "         3.93513539e-01,  3.85069952e-01,  3.53071713e-01,\n",
       "         2.64818606e-01,  2.65705230e-01,  2.85048941e-01,\n",
       "         1.95163914e-01,  8.14902371e-02, -9.99024591e-02,\n",
       "        -1.85893751e-01, -2.11467180e-01, -1.77845384e-01,\n",
       "        -1.21641044e-01, -6.18373938e-03, -1.45479299e-02],\n",
       "       [ 1.36820069e+00,  1.42301416e+00,  2.29253745e+00,\n",
       "         4.94549913e+00,  5.11700381e+00,  2.68589988e+00,\n",
       "         1.59989731e+00,  7.95001691e-01,  5.45474804e-01,\n",
       "         4.97582386e-01,  4.80668002e-01,  4.68636050e-01,\n",
       "         3.65628342e-01,  3.79386938e-01,  4.07491415e-01,\n",
       "         2.80599778e-01,  1.69331198e-01, -3.48849966e-03,\n",
       "        -9.43015727e-02, -1.24443279e-01, -1.39628310e-01,\n",
       "        -1.09192630e-01, -8.75836826e-03, -2.48747324e-02],\n",
       "       [ 1.40526957e+00,  1.66421724e+00,  2.20962278e+00,\n",
       "         2.23923614e+00,  2.68589988e+00,  5.56238017e+00,\n",
       "         2.25111058e+00,  1.15719657e+00,  8.30685301e-01,\n",
       "         7.49699221e-01,  7.17485591e-01,  6.59409225e-01,\n",
       "         5.15248210e-01,  5.52104799e-01,  6.02673626e-01,\n",
       "         4.97412353e-01,  3.32563055e-01,  1.76882866e-01,\n",
       "         2.54558333e-02,  7.21981519e-03, -3.41631101e-02,\n",
       "        -8.09769346e-02,  1.13374134e-02, -1.53718488e-02],\n",
       "       [ 1.27071255e+00,  1.43840028e+00,  1.32274028e+00,\n",
       "         1.25503152e+00,  1.59989731e+00,  2.25111058e+00,\n",
       "         5.56100265e+00,  2.45724815e+00,  1.62808285e+00,\n",
       "         1.52215359e+00,  1.27954794e+00,  1.17350525e+00,\n",
       "         9.07926235e-01,  9.24365672e-01,  9.61270637e-01,\n",
       "         8.95694759e-01,  8.53900765e-01,  6.14910451e-01,\n",
       "         5.39459777e-01,  3.91424505e-01,  1.13773295e-01,\n",
       "        -1.59491222e-01, -1.62661368e-01, -1.42928527e-01],\n",
       "       [ 6.61804206e-01,  5.99555796e-01,  6.20486111e-01,\n",
       "         5.82839414e-01,  7.95001691e-01,  1.15719657e+00,\n",
       "         2.45724815e+00,  6.17369371e+00,  5.50167871e+00,\n",
       "         2.14196987e+00,  1.83779256e+00,  1.58200144e+00,\n",
       "         1.44459046e+00,  1.26499603e+00,  1.22646073e+00,\n",
       "         1.33368488e+00,  1.35764734e+00,  1.38713430e+00,\n",
       "         9.37821116e-01,  6.43282127e-01,  3.12048231e-01,\n",
       "        -1.55452429e-01, -2.44329180e-01, -1.22260575e-01],\n",
       "       [ 2.30469023e-01,  2.90434954e-01,  3.01462614e-01,\n",
       "         3.73436345e-01,  5.45474804e-01,  8.30685301e-01,\n",
       "         1.62808285e+00,  5.50167871e+00,  7.13189224e+00,\n",
       "         4.94953650e+00,  1.67428042e+00,  1.81354602e+00,\n",
       "         1.69855012e+00,  1.47354682e+00,  1.35319921e+00,\n",
       "         1.48184583e+00,  1.56021033e+00,  1.46052559e+00,\n",
       "         1.17158438e+00,  8.43384885e-01,  3.59567107e-01,\n",
       "        -1.05238268e-01, -2.47891642e-01, -1.86263657e-01],\n",
       "       [ 3.68296485e-01,  3.67304340e-01,  3.51218063e-01,\n",
       "         3.93513539e-01,  4.97582386e-01,  7.49699221e-01,\n",
       "         1.52215359e+00,  2.14196987e+00,  4.94953650e+00,\n",
       "         7.46557423e+00,  4.14776485e+00,  2.17807483e+00,\n",
       "         1.60899948e+00,  1.74807091e+00,  1.43726835e+00,\n",
       "         1.49265126e+00,  1.64819584e+00,  1.54713640e+00,\n",
       "         1.23069775e+00,  1.02987159e+00,  5.37258589e-01,\n",
       "        -2.92285117e-02, -2.21008796e-01, -2.25066591e-01],\n",
       "       [ 5.09047779e-01,  4.24691335e-01,  4.09909239e-01,\n",
       "         3.85069952e-01,  4.80668002e-01,  7.17485591e-01,\n",
       "         1.27954794e+00,  1.83779256e+00,  1.67428042e+00,\n",
       "         4.14776485e+00,  7.28888997e+00,  2.62636329e+00,\n",
       "         3.90370026e+00,  1.77683563e+00,  1.54471112e+00,\n",
       "         1.61987702e+00,  1.59674907e+00,  1.79107436e+00,\n",
       "         1.35029724e+00,  9.29712258e-01,  4.75836492e-01,\n",
       "         1.35095037e-01, -2.39289516e-01, -2.28648649e-01],\n",
       "       [ 4.90802576e-01,  4.10463810e-01,  3.78668752e-01,\n",
       "         3.53071713e-01,  4.68636050e-01,  6.59409225e-01,\n",
       "         1.17350525e+00,  1.58200144e+00,  1.81354602e+00,\n",
       "         2.17807483e+00,  2.62636329e+00,  7.62948957e+00,\n",
       "         3.29026505e+00,  2.37754150e+00,  1.96917116e+00,\n",
       "         1.92955986e+00,  1.75126457e+00,  1.79652683e+00,\n",
       "         1.47055455e+00,  1.09625194e+00,  5.53318707e-01,\n",
       "         1.61164108e-01, -1.65567159e-01, -1.33968121e-01],\n",
       "       [ 3.11081341e-01,  2.87971137e-01,  2.47656613e-01,\n",
       "         2.64818606e-01,  3.65628342e-01,  5.15248210e-01,\n",
       "         9.07926235e-01,  1.44459046e+00,  1.69855012e+00,\n",
       "         1.60899948e+00,  3.90370026e+00,  3.29026505e+00,\n",
       "         6.81934125e+00,  3.58352787e+00,  1.80084203e+00,\n",
       "         1.92881388e+00,  1.77216919e+00,  1.84271721e+00,\n",
       "         1.65981864e+00,  1.20834904e+00,  7.10182305e-01,\n",
       "         3.13411496e-01,  1.98648158e-02,  1.34979236e-03],\n",
       "       [ 3.22204165e-01,  2.56606208e-01,  2.58465004e-01,\n",
       "         2.65705230e-01,  3.79386938e-01,  5.52104799e-01,\n",
       "         9.24365672e-01,  1.26499603e+00,  1.47354682e+00,\n",
       "         1.74807091e+00,  1.77683563e+00,  2.37754150e+00,\n",
       "         3.58352787e+00,  6.57336097e+00,  2.76050196e+00,\n",
       "         2.12791189e+00,  1.74187875e+00,  1.67126262e+00,\n",
       "         1.80939202e+00,  1.24034235e+00,  8.39730989e-01,\n",
       "         4.48732897e-01,  1.79156765e-01,  1.50276084e-01],\n",
       "       [ 2.51584129e-01,  2.68954642e-01,  2.52218156e-01,\n",
       "         2.85048941e-01,  4.07491415e-01,  6.02673626e-01,\n",
       "         9.61270637e-01,  1.22646073e+00,  1.35319921e+00,\n",
       "         1.43726835e+00,  1.54471112e+00,  1.96917116e+00,\n",
       "         1.80084203e+00,  2.76050196e+00,  6.23517387e+00,\n",
       "         2.27796972e+00,  1.70863911e+00,  1.79391170e+00,\n",
       "         1.72069992e+00,  1.26349098e+00,  9.71941021e-01,\n",
       "         6.39118335e-01,  5.16464318e-01,  5.45909809e-01],\n",
       "       [ 5.29985124e-02,  9.94496853e-02,  2.00828444e-01,\n",
       "         1.95163915e-01,  2.80599776e-01,  4.97412353e-01,\n",
       "         8.95694759e-01,  1.33368488e+00,  1.48184583e+00,\n",
       "         1.49265126e+00,  1.61987702e+00,  1.92955986e+00,\n",
       "         1.92881388e+00,  2.12791189e+00,  2.27796972e+00,\n",
       "         5.75089395e+00,  4.36936409e+00,  2.23611641e+00,\n",
       "         1.99981880e+00,  1.45800568e+00,  1.05831666e+00,\n",
       "         6.43248403e-01,  4.75963563e-01,  5.40173946e-01],\n",
       "       [-1.27846122e-01, -3.73949325e-02,  6.75063599e-02,\n",
       "         8.14902349e-02,  1.69331200e-01,  3.32563055e-01,\n",
       "         8.53900765e-01,  1.35764734e+00,  1.56021033e+00,\n",
       "         1.64819584e+00,  1.59674907e+00,  1.75126457e+00,\n",
       "         1.77216919e+00,  1.74187875e+00,  1.70863911e+00,\n",
       "         4.36936409e+00,  5.23880268e+00,  4.89305212e+00,\n",
       "         2.44290296e+00,  1.67539701e+00,  1.14057621e+00,\n",
       "         6.75362439e-01,  5.20544928e-01,  4.97640914e-01],\n",
       "       [-2.18826141e-01, -2.12423492e-01, -1.04146402e-01,\n",
       "        -9.99024577e-02, -3.48850096e-03,  1.76882866e-01,\n",
       "         6.14910451e-01,  1.38713430e+00,  1.46052559e+00,\n",
       "         1.54713640e+00,  1.79107436e+00,  1.79652683e+00,\n",
       "         1.84271721e+00,  1.67126262e+00,  1.79391170e+00,\n",
       "         2.23611641e+00,  4.89305212e+00,  6.46392525e+00,\n",
       "         2.91492707e+00,  1.97521697e+00,  1.32306420e+00,\n",
       "         9.10445642e-01,  6.00894083e-01,  6.20772392e-01],\n",
       "       [-2.19777087e-01, -2.86248286e-01, -2.25622377e-01,\n",
       "        -1.85893751e-01, -9.43015726e-02,  2.54558333e-02,\n",
       "         5.39459777e-01,  9.37821116e-01,  1.17158438e+00,\n",
       "         1.23069775e+00,  1.35029724e+00,  1.47055455e+00,\n",
       "         1.65981864e+00,  1.80939202e+00,  1.72069992e+00,\n",
       "         1.99981880e+00,  2.44290296e+00,  2.91492707e+00,\n",
       "         7.44128155e+00,  2.80104483e+00,  1.75254537e+00,\n",
       "         1.18149531e+00,  7.36277422e-01,  7.05017330e-01],\n",
       "       [-3.21177982e-01, -3.33060328e-01, -3.18409893e-01,\n",
       "        -2.11467181e-01, -1.24443279e-01,  7.21981519e-03,\n",
       "         3.91424505e-01,  6.43282127e-01,  8.43384885e-01,\n",
       "         1.02987159e+00,  9.29712258e-01,  1.09625194e+00,\n",
       "         1.20834904e+00,  1.24034235e+00,  1.26349098e+00,\n",
       "         1.45800568e+00,  1.67539701e+00,  1.97521697e+00,\n",
       "         2.80104483e+00,  7.92238283e+00,  2.62631903e+00,\n",
       "         1.77591658e+00,  9.12292185e-01,  7.85046763e-01],\n",
       "       [-2.39236601e-01, -2.28428683e-01, -2.03894027e-01,\n",
       "        -1.77845384e-01, -1.39628310e-01, -3.41631101e-02,\n",
       "         1.13773295e-01,  3.12048231e-01,  3.59567107e-01,\n",
       "         5.37258589e-01,  4.75836492e-01,  5.53318707e-01,\n",
       "         7.10182305e-01,  8.39730989e-01,  9.71941021e-01,\n",
       "         1.05831666e+00,  1.14057621e+00,  1.32306420e+00,\n",
       "         1.75254537e+00,  2.62631903e+00,  7.13634412e+00,\n",
       "         2.64376417e+00,  1.46854284e+00,  1.22514014e+00],\n",
       "       [ 2.30660724e-02, -9.46623550e-02, -9.27018547e-02,\n",
       "        -1.21641044e-01, -1.09192630e-01, -8.09769346e-02,\n",
       "        -1.59491222e-01, -1.55452429e-01, -1.05238268e-01,\n",
       "        -2.92285117e-02,  1.35095037e-01,  1.61164108e-01,\n",
       "         3.13411496e-01,  4.48732897e-01,  6.39118335e-01,\n",
       "         6.43248403e-01,  6.75362439e-01,  9.10445642e-01,\n",
       "         1.18149531e+00,  1.77591658e+00,  2.64376417e+00,\n",
       "         7.80781743e+00,  2.47963613e+00,  1.77289778e+00],\n",
       "       [ 6.42478909e-02, -2.52430255e-02,  1.57247086e-02,\n",
       "        -6.18373937e-03, -8.75836827e-03,  1.13374134e-02,\n",
       "        -1.62661368e-01, -2.44329180e-01, -2.47891642e-01,\n",
       "        -2.21008796e-01, -2.39289516e-01, -1.65567159e-01,\n",
       "         1.98648158e-02,  1.79156765e-01,  5.16464318e-01,\n",
       "         4.75963563e-01,  5.20544928e-01,  6.00894083e-01,\n",
       "         7.36277422e-01,  9.12292185e-01,  1.46854284e+00,\n",
       "         2.47963613e+00,  6.71395786e+00,  2.72238540e+00],\n",
       "       [ 1.55177348e-01,  4.06442432e-02,  7.06504688e-03,\n",
       "        -1.45479299e-02, -2.48747323e-02, -1.53718488e-02,\n",
       "        -1.42928527e-01, -1.22260575e-01, -1.86263657e-01,\n",
       "        -2.25066591e-01, -2.28648649e-01, -1.33968121e-01,\n",
       "         1.34979236e-03,  1.50276084e-01,  5.45909809e-01,\n",
       "         5.40173946e-01,  4.97640914e-01,  6.20772392e-01,\n",
       "         7.05017330e-01,  7.85046763e-01,  1.22514014e+00,\n",
       "         1.77289778e+00,  2.72238540e+00,  6.21244240e+00]])"
      ]
     },
     "execution_count": 71,
     "metadata": {},
     "output_type": "execute_result"
    }
   ],
   "source": [
    "diff.get_value(x=np.array([]), t=24)"
   ]
  },
  {
   "cell_type": "markdown",
   "id": "7e48ed4f",
   "metadata": {},
   "source": [
    "Compute price inflation as mean daily prices - mean drfit and learn this through a neural ODE"
   ]
  }
 ],
 "metadata": {
  "kernelspec": {
   "display_name": "Python 3 (ipykernel)",
   "language": "python",
   "name": "python3"
  },
  "language_info": {
   "codemirror_mode": {
    "name": "ipython",
    "version": 3
   },
   "file_extension": ".py",
   "mimetype": "text/x-python",
   "name": "python",
   "nbconvert_exporter": "python",
   "pygments_lexer": "ipython3",
   "version": "3.8.11"
  }
 },
 "nbformat": 4,
 "nbformat_minor": 5
}
