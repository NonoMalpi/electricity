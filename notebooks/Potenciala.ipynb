{
 "cells": [
  {
   "cell_type": "code",
   "execution_count": 1,
   "id": "pending-gospel",
   "metadata": {},
   "outputs": [],
   "source": [
    "import os\n",
    "import sys\n",
    "module_path = os.path.abspath(os.path.join('..'))\n",
    "if module_path not in sys.path:\n",
    "    sys.path.append(module_path)"
   ]
  },
  {
   "cell_type": "code",
   "execution_count": 2,
   "id": "similar-hughes",
   "metadata": {},
   "outputs": [],
   "source": [
    "import pickle\n",
    "import warnings\n",
    "warnings.filterwarnings('ignore')\n",
    "\n",
    "import matplotlib.pyplot as plt\n",
    "import numpy as np\n",
    "import pandas as pd\n",
    "import seaborn as sns\n",
    "\n",
    "from data_collector import Omie\n",
    "\n",
    "from ml import GaussianKernel, ComputationMode, load_kernels_dict\n",
    "from potenciala import BucketMethod, FigureShape, SingleTimeSeries, VectorTimeSeries\n",
    "from stochastic import (EulerMaruyama, ConstantDiffusionMultivariate, SpatialDifferenceDriftMultivariate, \n",
    "                        SpatialDiffusionUnivariate, SpatialDriftMultivariate)"
   ]
  },
  {
   "cell_type": "code",
   "execution_count": 3,
   "id": "valued-survivor",
   "metadata": {},
   "outputs": [],
   "source": [
    "# uncomment this to obtain most up-to-date day ahead market timeseries\n",
    "#df = Omie.download_period_file(filename=\"marginalpdbc\", start_year=2016, end_year=2021)\n",
    "#df = Omie.include_old_file(df=df, filename=\"marginalpdbc_2002_2015.csv\")"
   ]
  },
  {
   "cell_type": "code",
   "execution_count": 4,
   "id": "athletic-assault",
   "metadata": {},
   "outputs": [],
   "source": [
    "df_raw = pd.read_csv(\"day_ahead_market_20211005.csv\")\n",
    "df_raw[\"spain\"] = df_raw[\"spain\"].round(decimals=2)"
   ]
  },
  {
   "cell_type": "code",
   "execution_count": 5,
   "id": "db1c6f53",
   "metadata": {},
   "outputs": [],
   "source": [
    "# filter data before 2004 (missing dates in 2003) and beyond 2021\n",
    "df = df_raw.query(\"year >= 2004 & year <= 2020\")"
   ]
  },
  {
   "cell_type": "markdown",
   "id": "narrative-vocabulary",
   "metadata": {},
   "source": [
    "### Univariate timeseries"
   ]
  },
  {
   "cell_type": "code",
   "execution_count": null,
   "id": "roman-space",
   "metadata": {},
   "outputs": [],
   "source": [
    "s_1 = SingleTimeSeries(df=df, signal_name=\"spain\", metric_lag_time=[1, 24, 168], bucket_method=BucketMethod.Round, bin_size=1)\n",
    "s_025 = SingleTimeSeries(df=df, signal_name=\"spain\", metric_lag_time=[1, 24, 168], bucket_method=BucketMethod.Cut, bin_size=0.25)"
   ]
  },
  {
   "cell_type": "code",
   "execution_count": null,
   "id": "43463b06",
   "metadata": {},
   "outputs": [],
   "source": [
    "s_1.plot_ts()"
   ]
  },
  {
   "cell_type": "code",
   "execution_count": null,
   "id": "cheap-newport",
   "metadata": {
    "scrolled": false
   },
   "outputs": [],
   "source": [
    "fig, (ax0, ax1) = plt.subplots(1, 2, figsize=(20, 7))\n",
    "s_1.potential.loc[:120].plot(ax=ax0)\n",
    "s_025.potential.loc[:120].plot(ax=ax1)\n",
    "ax0.set_title(\"1 €/MW resolution\")\n",
    "ax1.set_title(\"0.25 €/MW resolution\")\n",
    "plt.show()"
   ]
  },
  {
   "cell_type": "markdown",
   "id": "invalid-proof",
   "metadata": {},
   "source": [
    "### Include all history or last n years"
   ]
  },
  {
   "cell_type": "code",
   "execution_count": null,
   "id": "specialized-postage",
   "metadata": {
    "scrolled": false
   },
   "outputs": [],
   "source": [
    "# Compare potential across different years\n",
    "fig, axis = plt.subplots(3, 1, figsize=(10, 30))\n",
    "years = range(2010, 2021)\n",
    "for year in years:\n",
    "    df_year = df[df[\"year\"] == year]\n",
    "    s_year = SingleTimeSeries(df=df_year, signal_name=\"spain\", metric_lag_time=[1, 24, 168], bucket_method=BucketMethod.Cut, bin_size=0.25)\n",
    "    for ax, col in zip(axis, s_year.potential_cols):\n",
    "        s_year.potential[col].loc[:100].plot(ax=ax)\n",
    "for ax, col in zip(axis, s_year.potential_cols):\n",
    "    ax.legend(years)\n",
    "    ax.set_title(col)"
   ]
  },
  {
   "cell_type": "code",
   "execution_count": null,
   "id": "executive-disease",
   "metadata": {
    "scrolled": false
   },
   "outputs": [],
   "source": [
    "# Compare potential across different years with minimum\n",
    "fig, axis = plt.subplots(3, 1, figsize=(10, 30))\n",
    "years = range(2010, 2021)\n",
    "for year in years:\n",
    "    df_year = df[df[\"year\"] == year]\n",
    "    s_year = SingleTimeSeries(df=df_year, signal_name=\"spain\", metric_lag_time=[1, 24, 168], bucket_method=BucketMethod.Cut, bin_size=0.25)\n",
    "    for ax, col in zip(axis, s_year.potential_cols):\n",
    "        (s_year.potential[col] / s_year.potential[col].min()).loc[:100].plot(ax=ax)\n",
    "for ax, col in zip(axis, s_year.potential_cols):\n",
    "    ax.legend(years)\n",
    "    ax.set_title(col)"
   ]
  },
  {
   "cell_type": "code",
   "execution_count": null,
   "id": "gothic-musician",
   "metadata": {
    "scrolled": false
   },
   "outputs": [],
   "source": [
    "# Compute accumulative years\n",
    "fig, axis = plt.subplots(3, 1, figsize=(10, 30))\n",
    "years = range(2010, 2021)\n",
    "years = years[::-1]\n",
    "for year in years:\n",
    "    df_year = df[df[\"year\"] >= year]\n",
    "    s_year = SingleTimeSeries(df=df_year, signal_name=\"spain\", metric_lag_time=[1, 24, 168], bucket_method=BucketMethod.Cut, bin_size=0.25)\n",
    "    for ax, col in zip(axis, s_year.potential_cols):\n",
    "        s_year.potential[col].loc[:100].plot(ax=ax)\n",
    "for ax, col in zip(axis, s_year.potential_cols):\n",
    "    ax.legend(years)\n",
    "    ax.set_title(col)"
   ]
  },
  {
   "cell_type": "code",
   "execution_count": null,
   "id": "impressive-string",
   "metadata": {
    "scrolled": false
   },
   "outputs": [],
   "source": [
    "# Compute accumulative years with minimum\n",
    "fig, axis = plt.subplots(3, 1, figsize=(10, 30))\n",
    "years = range(2010, 2021)\n",
    "years = years[::-1]\n",
    "for year in years:\n",
    "    df_year = df[df[\"year\"] >= year]\n",
    "    s_year = SingleTimeSeries(df=df_year, signal_name=\"spain\", metric_lag_time=[1, 24, 168], bucket_method=BucketMethod.Cut, bin_size=0.25)\n",
    "    for ax, col in zip(axis, s_year.potential_cols):\n",
    "        (s_year.potential[col] / s_year.potential[col].min()).loc[:100].plot(ax=ax)\n",
    "for ax, col in zip(axis, s_year.potential_cols):\n",
    "    ax.legend(years)\n",
    "    ax.set_title(col)"
   ]
  },
  {
   "cell_type": "code",
   "execution_count": null,
   "id": "portable-polyester",
   "metadata": {
    "scrolled": false
   },
   "outputs": [],
   "source": [
    "# Check n-year period\n",
    "n = 4\n",
    "fig, axis = plt.subplots(3, 1, figsize=(10, 30))\n",
    "years = range(2002, 2022, n)\n",
    "for year in years:\n",
    "    df_year = df[(df[\"year\"] >= year) & (df[\"year\"] < year + n)]\n",
    "    s_year = SingleTimeSeries(df=df_year, signal_name=\"spain\", metric_lag_time=[1, 24, 168], bucket_method=BucketMethod.Cut, bin_size=0.25)\n",
    "    for ax, col in zip(axis, s_year.potential_cols):\n",
    "        s_year.potential[col].loc[:100].plot(ax=ax)\n",
    "for ax, col in zip(axis, s_year.potential_cols):\n",
    "    ax.legend(years)\n",
    "    ax.set_title(col)"
   ]
  },
  {
   "cell_type": "code",
   "execution_count": null,
   "id": "fiscal-progress",
   "metadata": {
    "scrolled": false
   },
   "outputs": [],
   "source": [
    "# Check n-year period divided by minimum\n",
    "n = 4\n",
    "fig, axis = plt.subplots(3, 1, figsize=(10, 30))\n",
    "years = range(2002, 2022, n)\n",
    "for year in years:\n",
    "    df_year = df[(df[\"year\"] >= year) & (df[\"year\"] < year + n)]\n",
    "    s_year = SingleTimeSeries(df=df_year, signal_name=\"spain\", metric_lag_time=[1, 24, 168], bucket_method=BucketMethod.Cut, bin_size=0.25)\n",
    "    for ax, col in zip(axis, s_year.potential_cols):\n",
    "        (s_year.potential[col] / s_year.potential[col].min()).loc[:100].plot(ax=ax)\n",
    "for ax, col in zip(axis, s_year.potential_cols):\n",
    "    ax.legend(years)\n",
    "    ax.set_title(col)"
   ]
  },
  {
   "cell_type": "code",
   "execution_count": null,
   "id": "assigned-edgar",
   "metadata": {},
   "outputs": [],
   "source": [
    "# plot mean drift and diffusion\n",
    "_ = s_1.drift.mean[\"drift_1\"].iloc[:120].plot()"
   ]
  },
  {
   "cell_type": "code",
   "execution_count": null,
   "id": "national-shoot",
   "metadata": {},
   "outputs": [],
   "source": [
    "_ = s_1.diffusion.mean[\"diffusion_1\"].iloc[:120].plot()"
   ]
  },
  {
   "cell_type": "code",
   "execution_count": null,
   "id": "different-indie",
   "metadata": {},
   "outputs": [],
   "source": [
    "a = s_1.drift.mean[\"drift_1\"]\n",
    "a = a.reindex(np.arange(0, a.index.max() + 20)).fillna(0)\n",
    "b = s_1.diffusion.mean[\"diffusion_1\"]\n",
    "b = b.reindex(np.arange(0, b.index.max() + 20)).fillna(0)\n",
    "\n",
    "x_df = s_1.df[(s_1.df[\"date\"] >= \"2020-12-10\")].iloc[:24*6]\n",
    "x_0 = x_df[\"spain\"].iloc[0]"
   ]
  },
  {
   "cell_type": "code",
   "execution_count": null,
   "id": "d7112004",
   "metadata": {},
   "outputs": [],
   "source": [
    "drift = SpatialDriftMultivariate(df=a.to_frame())\n",
    "diffusion = SpatialDiffusionUnivariate(df=b.to_frame())\n",
    "\n",
    "em_1 = EulerMaruyama(num_sim=1000, period=24*6, delta_t=1, nu=0, drift=drift, diffusion=diffusion)"
   ]
  },
  {
   "cell_type": "code",
   "execution_count": null,
   "id": "bf38cfbf",
   "metadata": {},
   "outputs": [],
   "source": [
    "sim_df = em_1.simulate(x0=np.array([x_0]), random_seed=124)"
   ]
  },
  {
   "cell_type": "code",
   "execution_count": null,
   "id": "small-election",
   "metadata": {},
   "outputs": [],
   "source": [
    "fig, ax = plt.subplots(1,1, figsize=(15, 10))\n",
    "sim_df.iloc[:,  :em_1.num_sim//2].plot(alpha=0.05, ax=ax, legend=False)\n",
    "sim_df.mean(axis=1).plot(lw=1.5, color=\"black\", ax=ax)\n",
    "x_df.reset_index()[\"spain\"].plot(lw=1.5, color=\"blue\", ax=ax)\n",
    "sim_df.quantile(q=[0.1, 0.25, 0.75, 0.9], axis=1).T.plot(lw=1.5, ls=\"--\", ax=ax, legend=False)\n",
    "plt.show()"
   ]
  },
  {
   "cell_type": "markdown",
   "id": "4f89d86b",
   "metadata": {},
   "source": [
    "### Multivariate  timeseries $D_{1}^h(X_{d}^h)$ "
   ]
  },
  {
   "cell_type": "code",
   "execution_count": null,
   "id": "a76cd2d3",
   "metadata": {},
   "outputs": [],
   "source": [
    "s = VectorTimeSeries(df=df, signal_name=\"spain\", bucket_method=BucketMethod.Round, bin_size=1, \n",
    "                     diff_matrix_xi_xj_computation=False)"
   ]
  },
  {
   "cell_type": "code",
   "execution_count": null,
   "id": "5463ad5f",
   "metadata": {},
   "outputs": [],
   "source": [
    "s.plot_hourly_boxplot()"
   ]
  },
  {
   "cell_type": "code",
   "execution_count": null,
   "id": "39d6fbc8",
   "metadata": {},
   "outputs": [],
   "source": [
    "fig, ax = plt.subplots(figsize=(20, 7))\n",
    "sns.heatmap(s.drift_hour_x.iloc[:, :100], ax=ax, cmap='flare', vmin=-50, vmax=50)\n",
    "ax.set_title(\"Mean 24-hour drift\")\n",
    "fig.show()"
   ]
  },
  {
   "cell_type": "code",
   "execution_count": null,
   "id": "c64dbe0f",
   "metadata": {},
   "outputs": [],
   "source": [
    "fig, ax = plt.subplots(figsize=(20, 7))\n",
    "sns.heatmap(s.potential_hour_x.iloc[:, :100], ax=ax, cmap='flare', vmin=-400, vmax=100)\n",
    "ax.set_title(\"Potential\")\n",
    "fig.show()"
   ]
  },
  {
   "cell_type": "code",
   "execution_count": null,
   "id": "6134b761",
   "metadata": {
    "scrolled": true
   },
   "outputs": [],
   "source": [
    "m = 6\n",
    "n = int(24/m)\n",
    "fig, ax = plt.subplots(n, 1, figsize=(20, 25))\n",
    "for i in range(n):\n",
    "    s.potential_hour_x.loc[i*m+1:(i+1)*m].T.plot(ax=ax[i])\n",
    "    ax[i].legend(loc=1)\n",
    "    ax[i].set_xlim(0, 180)\n",
    "    ax[i].set_ylim(-450, 150)\n",
    "ax[0].set_title(\"Potential\")\n",
    "fig.show()"
   ]
  },
  {
   "cell_type": "code",
   "execution_count": null,
   "id": "4282427b",
   "metadata": {},
   "outputs": [],
   "source": [
    "fig, axis = plt.subplots(4, 6, figsize=(40, 25))\n",
    "\n",
    "for i, ax_list in enumerate(axis):\n",
    "    for j, ax in enumerate(ax_list):\n",
    "        h = 1 + i*6+j\n",
    "        s.potential_hour_x.loc[h].plot(ax=ax)\n",
    "        ax.set_xlabel(\"\")\n",
    "        ax.set_title(f\"Hour = {h}\", fontsize=30)\n",
    "        ax.set_xlim(0, 100)\n",
    "        ax.set_ylim(-450, 50)\n",
    "        ax.tick_params(axis='both', labelsize=20)\n",
    "        ax.spines['right'].set_visible(False)\n",
    "        ax.spines['top'].set_visible(False)\n",
    "\n",
    "fig.text(0.5, 0.095, \"spot price $X_{t}^{i}$ [€/MWh]\", ha=\"center\", va=\"center\", fontdict={\"size\": 25})\n",
    "fig.text(0.1, 0.5, \"potential $[(€/MWh)^{2}/day]$\", ha=\"center\", va=\"center\",\n",
    "         fontdict={\"size\": 25}, rotation=90)"
   ]
  },
  {
   "cell_type": "code",
   "execution_count": null,
   "id": "4efb5b83",
   "metadata": {},
   "outputs": [],
   "source": [
    "fig, ax = plt.subplots(subplot_kw={\"projection\": \"3d\"}, figsize=(20, 10))\n",
    "potential = s.potential_hour_x.iloc[:, :100].stack().reset_index()\n",
    "ax.scatter(potential.iloc[:, 0], potential.iloc[:, 1], potential.iloc[:, 2])\n",
    "ax.set_xlabel(\"hour\")\n",
    "ax.set_ylabel(\"Spot price [€/Mwh]\")\n",
    "ax.set_zlabel(\"potential\")\n",
    "fig.show()"
   ]
  },
  {
   "cell_type": "code",
   "execution_count": null,
   "id": "2a7df6ee",
   "metadata": {},
   "outputs": [],
   "source": [
    "fig, ax = plt.subplots(figsize=(15, 10))\n",
    "mask = np.triu(np.ones_like(s.diffusion_matrix, dtype=bool), k=1)\n",
    "sns.heatmap(s.diffusion_matrix, cmap=\"flare\", mask=mask,\n",
    "            square=True, linewidths=.5, cbar_kws={\"shrink\": 0.85})\n",
    "ax.set_title(\"Mean diffusion\")\n",
    "fig.show()"
   ]
  },
  {
   "cell_type": "code",
   "execution_count": null,
   "id": "d1266ca4",
   "metadata": {},
   "outputs": [],
   "source": [
    "s.diffusion_matrix"
   ]
  },
  {
   "cell_type": "code",
   "execution_count": null,
   "id": "d16288ab",
   "metadata": {},
   "outputs": [],
   "source": [
    "fig, ax = plt.subplots(figsize=(15, 10))\n",
    "mask = np.triu(np.ones_like(s.sqrt_diff_matrix, dtype=bool), k=1)\n",
    "sns.heatmap(s.sqrt_diff_matrix, cmap=\"flare\", mask=mask,\n",
    "            square=True, linewidths=.5, cbar_kws={\"shrink\": 0.85})\n",
    "ax.set_title(\"Mean diffusion\")\n",
    "fig.show()"
   ]
  },
  {
   "cell_type": "markdown",
   "id": "caf7de27",
   "metadata": {},
   "source": [
    "#### Simulation with $D_{1}^h(X_{d}^h)$ and diagonal $D^{2}$"
   ]
  },
  {
   "cell_type": "code",
   "execution_count": null,
   "id": "cda55fbe",
   "metadata": {},
   "outputs": [],
   "source": [
    "x_df = s.df[(s.df[\"date\"] >= \"2020-12-10\")].iloc[:24*6]\n",
    "x_0 = x_df[\"spain\"].iloc[:24].values"
   ]
  },
  {
   "cell_type": "code",
   "execution_count": null,
   "id": "6544c724",
   "metadata": {},
   "outputs": [],
   "source": [
    "spatial_drift = SpatialDriftMultivariate(df=s.drift_hour_x)\n",
    "diag_diff_matrix = pd.DataFrame(np.sqrt(np.diag(np.diag(s.diffusion_matrix))))\n",
    "diag_diffusion = ConstantDiffusionMultivariate(df=diag_diff_matrix)\n",
    "\n",
    "em_2 = EulerMaruyama(num_sim=1000, period=6, delta_t=1, nu=0, drift=spatial_drift, diffusion=diag_diffusion)"
   ]
  },
  {
   "cell_type": "code",
   "execution_count": null,
   "id": "37a79158",
   "metadata": {},
   "outputs": [],
   "source": [
    "sim_df = em_2.simulate(x0=x_0, random_seed=124)"
   ]
  },
  {
   "cell_type": "code",
   "execution_count": null,
   "id": "8a06e35b",
   "metadata": {},
   "outputs": [],
   "source": [
    "fig, ax = plt.subplots(1,1, figsize=(15, 10))\n",
    "sim_df.iloc[24:, : em_2.num_sim//2].plot(alpha=0.05, ax=ax, legend=False)\n",
    "sim_df.mean(axis=1).plot(lw=1.5, color=\"black\", ax=ax)\n",
    "x_df.reset_index()[\"spain\"].plot(lw=1.5, color=\"blue\", ax=ax)\n",
    "sim_df.iloc[24:, :].quantile(q=[0.1, 0.25, 0.75, 0.9], axis=1).T.plot(lw=1.5, ls=\"--\", ax=ax, legend=False)\n",
    "ax.set_xlabel(\"hour\")\n",
    "ax.set_ylim(0, 120)\n",
    "ax.set_ylabel(\"€/MWh\")\n",
    "ax.set_title(\"Day ahead electricity price simulation with $D_1^{h}(X_d^h)$ and diagonal $D_2$\")\n",
    "plt.show()"
   ]
  },
  {
   "cell_type": "markdown",
   "id": "4b15f5f5",
   "metadata": {},
   "source": [
    "#### Simulation with $D_{1}^h(X_{d}^h)$ and non-diagonal constant $D^{2}$"
   ]
  },
  {
   "cell_type": "code",
   "execution_count": null,
   "id": "345fbe7d",
   "metadata": {},
   "outputs": [],
   "source": [
    "x_df = s.df[(s.df[\"date\"] >= \"2020-12-10\")].iloc[:24*6]\n",
    "x_0 = x_df[\"spain\"].iloc[:24].values"
   ]
  },
  {
   "cell_type": "code",
   "execution_count": null,
   "id": "0aa5f353",
   "metadata": {},
   "outputs": [],
   "source": [
    "spatial_drift = SpatialDriftMultivariate(df=s.drift_hour_x)\n",
    "cte_diffusion = ConstantDiffusionMultivariate(df=pd.DataFrame(s.sqrt_diff_matrix))\n",
    "\n",
    "em_3 = EulerMaruyama(num_sim=1000, period=6, delta_t=1, nu=0, drift=spatial_drift, diffusion=cte_diffusion)"
   ]
  },
  {
   "cell_type": "code",
   "execution_count": null,
   "id": "a84f3914",
   "metadata": {},
   "outputs": [],
   "source": [
    "sim_df = em_3.simulate(x0=x_0, random_seed=124)"
   ]
  },
  {
   "cell_type": "code",
   "execution_count": null,
   "id": "7806bd6c",
   "metadata": {},
   "outputs": [],
   "source": [
    "fig, ax = plt.subplots(1,1, figsize=(15, 10))\n",
    "sim_df.iloc[24:, : em_3.num_sim//2].plot(alpha=0.05, ax=ax, legend=False)\n",
    "sim_df.mean(axis=1).plot(lw=1.5, color=\"black\", ax=ax)\n",
    "x_df.reset_index()[\"spain\"].plot(lw=1.5, color=\"blue\", ax=ax)\n",
    "sim_df.iloc[24:, :].quantile(q=[0.1, 0.25, 0.75, 0.9], axis=1).T.plot(lw=1.5, ls=\"--\", ax=ax, legend=False)\n",
    "ax.set_xlabel(\"hour\")\n",
    "ax.set_ylim(0, 120)\n",
    "ax.set_ylabel(\"€/MWh\")\n",
    "ax.set_title(\"Day ahead electricity price simulation with $D_1^h(X_d^h)$ and non-diagonal $D_2$\")\n",
    "plt.show()"
   ]
  },
  {
   "cell_type": "markdown",
   "id": "84ed0ece",
   "metadata": {},
   "source": [
    "### Multivariate timeseries  - $D_{1}^{h}(X_{d}^h - X_{d-1}^h)$ "
   ]
  },
  {
   "cell_type": "code",
   "execution_count": null,
   "id": "81cb84b1",
   "metadata": {},
   "outputs": [],
   "source": [
    "s_back_drift = VectorTimeSeries(df=df, signal_name=\"spain\", bucket_method=BucketMethod.Round, bin_size=1, x_transformation=\"back_drift\")"
   ]
  },
  {
   "cell_type": "code",
   "execution_count": null,
   "id": "0c12c67a",
   "metadata": {},
   "outputs": [],
   "source": [
    "fig, ax = plt.subplots(figsize=(20, 7))\n",
    "sns.heatmap(s_back_drift.samples_hour_x.iloc[:, :200], ax=ax, cmap='flare')#, vmin=-40, vmax=40)\n",
    "ax.set_title(\"Samples 24-hour drift\")\n",
    "fig.show()"
   ]
  },
  {
   "cell_type": "code",
   "execution_count": null,
   "id": "80619ff1",
   "metadata": {
    "scrolled": false
   },
   "outputs": [],
   "source": [
    "fig, ax = plt.subplots(figsize=(20, 7))\n",
    "sns.heatmap(s_back_drift.drift_hour_x, ax=ax, cmap='flare')#, vmin=-40, vmax=40)\n",
    "ax.set_title(\"Mean 24-hour drift\")\n",
    "fig.show()"
   ]
  },
  {
   "cell_type": "code",
   "execution_count": null,
   "id": "465f2aa0",
   "metadata": {},
   "outputs": [],
   "source": [
    "fig, ax = plt.subplots(figsize=(20, 7))\n",
    "sns.heatmap(s_back_drift.potential_hour_x, ax=ax, cmap='flare')\n",
    "ax.set_title(\"Potential\")\n",
    "fig.show()"
   ]
  },
  {
   "cell_type": "code",
   "execution_count": null,
   "id": "22a5b507",
   "metadata": {
    "scrolled": true
   },
   "outputs": [],
   "source": [
    "m = 6\n",
    "n = int(24/m)\n",
    "fig, ax = plt.subplots(n, 1, figsize=(20, 25))\n",
    "for i in range(n):\n",
    "    s_back_drift.potential_hour_x.loc[i*m+1:(i+1)*m].T.plot(ax=ax[i])\n",
    "    ax[i].legend(loc=1)\n",
    "    ax[i].set_xlim(-80, 80)\n",
    "    #ax[i].set_ylim(-450, 150)\n",
    "ax[0].set_title(\"Potential\")\n",
    "fig.show()"
   ]
  },
  {
   "cell_type": "code",
   "execution_count": null,
   "id": "b4277512",
   "metadata": {},
   "outputs": [],
   "source": [
    "fig, axis = plt.subplots(4, 6, figsize=(40, 25))\n",
    "\n",
    "for i, ax_list in enumerate(axis):\n",
    "    for j, ax in enumerate(ax_list):\n",
    "        h = 1 + i*6+j\n",
    "        s_back_drift.potential_hour_x.loc[h].plot(ax=ax)\n",
    "        ax.set_xlabel(\"\")\n",
    "        ax.set_title(f\"Hour = {h}\", fontsize=30)\n",
    "        ax.set_xlim(-60, 60)\n",
    "        ax.set_ylim(-800, 50)\n",
    "        ax.tick_params(axis='both', labelsize=20)\n",
    "        ax.spines['right'].set_visible(False)\n",
    "        ax.spines['top'].set_visible(False)\n",
    "\n",
    "fig.text(0.5, 0.095, \"spot price difference $X_{t}^{i} - X_{t-1}^{i}$ [€/MWh]\", ha=\"center\", va=\"center\", fontdict={\"size\": 25})\n",
    "fig.text(0.1, 0.5, \"potential $[(€/MWh)^{2}/day]$\", ha=\"center\", va=\"center\",\n",
    "         fontdict={\"size\": 25}, rotation=90)"
   ]
  },
  {
   "cell_type": "code",
   "execution_count": null,
   "id": "05feb06c",
   "metadata": {},
   "outputs": [],
   "source": [
    "fig, ax = plt.subplots(subplot_kw={\"projection\": \"3d\"}, figsize=(20, 10))\n",
    "potential = s_back_drift.potential_hour_x.stack().reset_index()\n",
    "ax.scatter(potential.iloc[:, 0], potential.iloc[:, 1], potential.iloc[:, 2])\n",
    "ax.set_xlabel(\"hour\")\n",
    "ax.set_ylabel(\"X\")\n",
    "ax.set_zlabel(\"potential\")\n",
    "fig.show()"
   ]
  },
  {
   "cell_type": "code",
   "execution_count": null,
   "id": "9ebdbaa1",
   "metadata": {},
   "outputs": [],
   "source": [
    "fig, ax = plt.subplots(figsize=(15, 10))\n",
    "mask = np.triu(np.ones_like(s_back_drift.diffusion_matrix, dtype=bool), k=1)\n",
    "sns.heatmap(s_back_drift.diffusion_matrix, cmap=\"flare\", mask=mask,\n",
    "            square=True, linewidths=.5, cbar_kws={\"shrink\": 0.85})\n",
    "ax.set_title(\"Mean diffusion\")\n",
    "fig.show()"
   ]
  },
  {
   "cell_type": "markdown",
   "id": "7f2e24f2",
   "metadata": {},
   "source": [
    "#### Simulation with $D_{1}^h(X_{d}^h - X_{d-1}^h)$ and non-diagonal constant $D^{2}$"
   ]
  },
  {
   "cell_type": "code",
   "execution_count": null,
   "id": "6085b0fa",
   "metadata": {},
   "outputs": [],
   "source": [
    "x_df = s_back_drift.df[(s_back_drift.df[\"date\"] >= \"2020-12-09\")].iloc[:24*7]\n",
    "t_0 = x_df[\"spain\"].iloc[:24].values\n",
    "t_1 = x_df[\"spain\"].iloc[24:48].values\n",
    "x_0 = np.vstack([t_0, t_1]).T"
   ]
  },
  {
   "cell_type": "code",
   "execution_count": null,
   "id": "f278dc23",
   "metadata": {},
   "outputs": [],
   "source": [
    "spatial_diff_drift = SpatialDifferenceDriftMultivariate(df=s_back_drift.drift_hour_x)\n",
    "cte_diffusion = ConstantDiffusionMultivariate(df=pd.DataFrame(s_back_drift.sqrt_diff_matrix))\n",
    "\n",
    "em_4 = EulerMaruyama(num_sim=1000, period=7, delta_t=1, nu=0, drift=spatial_diff_drift, diffusion=cte_diffusion)"
   ]
  },
  {
   "cell_type": "code",
   "execution_count": null,
   "id": "cd889502",
   "metadata": {},
   "outputs": [],
   "source": [
    "sim_df = em_4.simulate(x0=x_0, random_seed=124)"
   ]
  },
  {
   "cell_type": "code",
   "execution_count": null,
   "id": "d840c6a6",
   "metadata": {},
   "outputs": [],
   "source": [
    "fig, ax = plt.subplots(1,1, figsize=(15, 10))\n",
    "sim_df.iloc[48:, : em_4.num_sim//2].plot(alpha=0.05, ax=ax, legend=False)\n",
    "sim_df.mean(axis=1).iloc[24:].plot(lw=1.5, color=\"black\", ax=ax)\n",
    "x_df.reset_index()[\"spain\"].iloc[24:].plot(lw=1.5, color=\"blue\", ax=ax)\n",
    "sim_df.iloc[48:, :].quantile(q=[0.1, 0.25, 0.75, 0.9], axis=1).T.plot(lw=1.5, ls=\"--\", ax=ax, legend=False)\n",
    "ax.set_xlabel(\"hour\")\n",
    "ax.set_ylim(0, 120)\n",
    "ax.set_ylabel(\"€/MWh\")\n",
    "ax.set_title(\"Day ahead electricity price simulation for $D_1^h(X_d^h - X_{d-1}^h)$ and non-diagonal $D_2$\")\n",
    "plt.show()"
   ]
  },
  {
   "cell_type": "markdown",
   "id": "b57d2452",
   "metadata": {},
   "source": [
    "## Gaussian kde"
   ]
  },
  {
   "cell_type": "code",
   "execution_count": 6,
   "id": "ce79e962",
   "metadata": {},
   "outputs": [],
   "source": [
    "from matplotlib.lines import Line2D"
   ]
  },
  {
   "cell_type": "code",
   "execution_count": 7,
   "id": "acf3cb0d",
   "metadata": {},
   "outputs": [],
   "source": [
    "s_kde = VectorTimeSeries(df=df, signal_name=\"spain\", bucket_method=BucketMethod.NoBucket)"
   ]
  },
  {
   "cell_type": "code",
   "execution_count": 8,
   "id": "1a76552c",
   "metadata": {},
   "outputs": [],
   "source": [
    "def compute_historical_mean(df: pd.DataFrame, x_label_col_name: str, value_col_name: str):\n",
    "    \n",
    "    aux_df = df.copy(deep=True)\n",
    "    aux_df[x_label_col_name] = aux_df[x_label_col_name].round(decimals=0)\n",
    "    mean_x = aux_df.groupby(x_label_col_name)[value_col_name].mean()\n",
    "    \n",
    "    return mean_x\n",
    "\n",
    "def plot_samples_kernel_mean_expected(ax: plt.axes, \n",
    "                                      gk: GaussianKernel, \n",
    "                                      historical_mean: pd.Series, \n",
    "                                      ymax_lim: float = None):\n",
    "\n",
    "    ax.plot(gk.samples[0], gk.samples[1], 'k.', markersize=2, alpha=0.2)\n",
    "    ax.plot(gk.expected_value_function[0, :], gk.expected_value_function[1, :], lw=2, color=\"blue\")\n",
    "    historical_mean.plot(ax=ax, lw=2, color=\"red\")\n",
    "    cs = ax.contourf(gk.grid[0], gk.grid[1], gk.p,\n",
    "                     levels=100, cmap=plt.cm.gist_earth_r, alpha=0.7, antialiased=True)\n",
    "    if ymax_lim:\n",
    "        ax.set_ylim(0, ymax_lim)\n",
    "\n",
    "def plot_potential(ax: plt.axis, gk: GaussianKernel, historical_mean: pd.Series):\n",
    "    \n",
    "    dx = gk.expected_value_function[0, 1] -  gk.expected_value_function[0, 0]\n",
    "    ax.plot(gk.expected_value_function[0, :], (-1)*np.cumsum(gk.expected_value_function[1, :]*dx), color=\"blue\")\n",
    "    ax.plot(historical_mean.index, (-1)*np.cumsum(historical_mean.values), color=\"red\")"
   ]
  },
  {
   "cell_type": "markdown",
   "id": "d58d77b4",
   "metadata": {},
   "source": [
    "$$D_1^{h}$$"
   ]
  },
  {
   "cell_type": "code",
   "execution_count": null,
   "id": "25f727e8",
   "metadata": {
    "scrolled": true
   },
   "outputs": [],
   "source": [
    "%%time\n",
    "d_1_dict = {}\n",
    "d_1_historical_mean_dict = {}\n",
    "for h in s_kde.df[\"hour\"].unique():\n",
    "    train_df = s_kde.df.query(f\"hour == {h}\")[[\"x_label\", \"drift_24\"]].dropna()\n",
    "    \n",
    "    gk = GaussianKernel(samples=train_df, grid_shape=(100, 100), computation_mode=ComputationMode.Numba)\n",
    "    historical_mean = compute_historical_mean(df=train_df, \n",
    "                                                x_label_col_name=\"x_label\", \n",
    "                                                value_col_name=\"drift_24\")\n",
    "        \n",
    "    d_1_dict[h] = gk\n",
    "    d_1_historical_mean_dict[h] = historical_mean\n",
    "    \n",
    "    fig, (ax0, ax1) = plt.subplots(1, 2, figsize=(15, 7), gridspec_kw={'width_ratios': [3, 1]})\n",
    "    \n",
    "    plot_samples_kernel_mean_expected(ax=ax0, gk=gk, historical_mean=historical_mean)\n",
    "    ax0.set_xlabel(f\"spot price, $X_d^{{{h}}}$ [€/MWh]\")\n",
    "    ax0.set_ylabel(f\"spot price difference $X_{{d+1}}^{{{h}}} - X_{{d}}^{{{h}}}$ [€/MWh]\")\n",
    "    ax0.set_title(f\"Drift hour = {h}\")\n",
    "    \n",
    "    plot_potential(ax=ax1, gk=gk, historical_mean=historical_mean)\n",
    "    ax1.set_title(f\"Potential hour = {h}\")\n",
    "    ax1.set_xlabel(f\"spot price, $X_d^{{{h}}}$ [€/MWh]\")\n",
    "    ax1.set_ylabel(f\"Potential\")\n",
    "    plt.show()"
   ]
  },
  {
   "cell_type": "code",
   "execution_count": null,
   "id": "16bca3e4",
   "metadata": {
    "scrolled": false
   },
   "outputs": [],
   "source": [
    "fig, axis = plt.subplots(6, 4, figsize=(25, 32))\n",
    "\n",
    "xnew = np.arange(0, 150) \n",
    "for i, ax_list in enumerate(axis):\n",
    "    for j, ax in enumerate(ax_list):\n",
    "        h = 1 + i*4+j\n",
    "        plot_samples_kernel_mean_expected(ax=ax, gk=d_1_dict[h], historical_mean=d_1_historical_mean_dict[h])\n",
    "        ax.set_xlabel(\"\")\n",
    "        ax.set_title(f\"Hour = {h}\")\n",
    "        ax.set_xlim(0, 100)\n",
    "        ax.set_ylim(-50, 50)\n",
    "\n",
    "fig.text(0.5, 0.11, \"spot price, $X_d^{h}$ [€/MWh]\", ha=\"center\", va=\"center\", fontdict={\"size\": 20})\n",
    "fig.text(0.1, 0.5, \"spot price difference $X_{d+1}^{h} - X_{d}^{h}$ [€/MWh]\", ha=\"center\", va=\"center\",\n",
    "         fontdict={\"size\": 20}, rotation=90)\n",
    "\n",
    "custom_lines = [Line2D([0], [0], color=\"red\", lw=2, alpha=0.7),\n",
    "                Line2D([0], [0], color=\"blue\", lw=2)]\n",
    "fig.legend(custom_lines, \n",
    "           [\"Empirical mean spot price difference\", \"Expected spot price difference from Gaussian KDE\"],\n",
    "           ncol=2, loc = (0.2, 0.935), prop={\"size\": 18})\n",
    "plt.show()"
   ]
  },
  {
   "cell_type": "code",
   "execution_count": null,
   "id": "bc82a72f",
   "metadata": {},
   "outputs": [],
   "source": [
    "for k,v in d_1_dict.items():\n",
    "    with open(f\"data/kde/d_1_{k}_1000_1000_coefficients.pkl\", \"wb\") as f:\n",
    "        pickle.dump(v, f)"
   ]
  },
  {
   "cell_type": "code",
   "execution_count": 11,
   "id": "01748c6a",
   "metadata": {},
   "outputs": [],
   "source": [
    "d_1_dict = load_kernels_dict(path=\"data/kde/d_1/\", pattern=\"d_1_(.*)_1000_1000\", dim_num=1)"
   ]
  },
  {
   "cell_type": "markdown",
   "id": "953789d5",
   "metadata": {},
   "source": [
    "$$ D_2^{h, j} $$"
   ]
  },
  {
   "cell_type": "markdown",
   "id": "d6aa7e82",
   "metadata": {},
   "source": [
    "#### Diagonal $D_2^{h, j} \\quad h=j$"
   ]
  },
  {
   "cell_type": "code",
   "execution_count": null,
   "id": "2e81ee6c",
   "metadata": {
    "scrolled": true
   },
   "outputs": [],
   "source": [
    "%%time\n",
    "d_2_diag_dict = {}\n",
    "d_2_diag_historical_mean_dict = {}\n",
    "for h in range(1, 25):\n",
    "    \n",
    "    x_label_col_name = s_kde.x_col_name\n",
    "    diff_col_name = s_kde.diffusion_cols[h-1]\n",
    "    \n",
    "    train_df = s_kde.df.query(f\"hour == {h}\")[[x_label_col_name, diff_col_name]].dropna()\n",
    "    gk = GaussianKernel(samples=train_df, grid_shape=(100, 5000), ymin=-100)\n",
    "    \n",
    "    historical_mean = compute_historical_mean(df=train_df, \n",
    "                                              x_label_col_name=x_label_col_name, \n",
    "                                              value_col_name=diff_col_name)\n",
    "    \n",
    "    d_2_diag_dict[h] = gk\n",
    "    d_2_diag_historical_mean_dict[h] = historical_mean\n",
    "    \n",
    "    fig, ax = plt.subplots(figsize=(10, 7))\n",
    "    plot_samples_kernel_mean_expected(\n",
    "        ax=ax, gk=d_2_diag_dict_v2[h], \n",
    "        historical_mean=d_2_diag_historical_mean_dict[h], ymax_lim=historical_mean.max()\n",
    "    )\n",
    "    ax.set_xlabel(f\"spot price, $X_d^{{{h}}}$ [€/MWh]\")\n",
    "    ax.set_ylabel(f\"Diffusion coefficient $(X_{{d+1}}^{{{h}}} - X_{{d}}^{{{h}}})^2$ [$(€/MWh)^2$]\")\n",
    "    ax.set_title(f\"Diffusion hour = {h}\")\n",
    "    plt.show()"
   ]
  },
  {
   "cell_type": "code",
   "execution_count": null,
   "id": "3e14206f",
   "metadata": {},
   "outputs": [],
   "source": [
    "for k,v in d_2_diag_dict.items():\n",
    "    with open(f\"data/kde/d_2_diag/d_2_diag_{k}_1000_1000_coefficients.pkl\", \"wb\") as f:\n",
    "        pickle.dump(v, f)"
   ]
  },
  {
   "cell_type": "code",
   "execution_count": 12,
   "id": "596ac00f",
   "metadata": {},
   "outputs": [],
   "source": [
    "d_2_diag_dict = load_kernels_dict(path=\"data/kde/d_2_diag/\", pattern=\"d_2_diag_(.*)_1000_1000\", dim_num=1)"
   ]
  },
  {
   "cell_type": "markdown",
   "id": "094a6a68",
   "metadata": {},
   "source": [
    "#### Non-diagonal $D_2^{h, j} \\quad h \\neq j$"
   ]
  },
  {
   "cell_type": "code",
   "execution_count": null,
   "id": "f80e7d89",
   "metadata": {},
   "outputs": [],
   "source": [
    "hour_i_list = []\n",
    "hour_j_list = []\n",
    "for i in np.arange(24, 1, -1):\n",
    "    for j in range(i-1, 0, -1):\n",
    "        hour_i_list.append(i)\n",
    "        hour_j_list.append(j)"
   ]
  },
  {
   "cell_type": "code",
   "execution_count": null,
   "id": "66b4548d",
   "metadata": {},
   "outputs": [],
   "source": [
    "def compute_diffusion_non_diagonal(vector_ts: VectorTimeSeries, hour_i: int, hour_j: int):\n",
    "    \n",
    "    x_label_col_name = vector_ts.x_col_name\n",
    "    x_label_col_name_2 = vector_ts.x_two_col_names[hour_j-1]\n",
    "    diff_col_name = vector_ts.diffusion_cols[hour_j-1] \n",
    "    \n",
    "    train_df = vector_ts.df.query(f\"hour == {hour_i}\")[[x_label_col_name, x_label_col_name_2, diff_col_name]]\n",
    "    train_df = train_df.dropna()\n",
    "    \n",
    "    gk = GaussianKernel(samples=train_df, grid_shape=(100, 100, 500), \n",
    "                        computation_mode=ComputationMode.Numba, \n",
    "                        mesh_chunks=8)\n",
    "    return gk"
   ]
  },
  {
   "cell_type": "code",
   "execution_count": 13,
   "id": "6a9d152f",
   "metadata": {},
   "outputs": [],
   "source": [
    "d_2_non_diag_dict = load_kernels_dict(\n",
    "    path=\"data/kde/d_2_non_diag/\", pattern=\"d_2_non_diag_(.*)_100_100\", dim_num=2\n",
    ")"
   ]
  },
  {
   "cell_type": "markdown",
   "id": "0cf65584",
   "metadata": {},
   "source": [
    "### Diffusion matrix"
   ]
  },
  {
   "cell_type": "code",
   "execution_count": 14,
   "id": "c56da0ab",
   "metadata": {},
   "outputs": [],
   "source": [
    "# fill diffusion matrix\n",
    "diff_matrix = np.zeros((24, 24))\n",
    "\n",
    "for k, v in d_2_non_diag_dict.items():\n",
    "    for k_j, v_j in v.items():\n",
    "        diff_matrix[k-1, k_j -1] = v_j.expected_value\n",
    "\n",
    "diff_matrix = diff_matrix + np.tril(diff_matrix, k=-1).T\n",
    "\n",
    "for k, v in d_2_diag_dict.items():\n",
    "    diff_matrix[k-1][k-1] = v.expected_value"
   ]
  },
  {
   "cell_type": "code",
   "execution_count": 15,
   "id": "44b56b1f",
   "metadata": {},
   "outputs": [
    {
     "data": {
      "text/plain": [
       "array([ 1.05222599e+03,  3.92268209e+02,  2.14847920e+02,  1.00638054e+02,\n",
       "        7.29640753e+01,  5.39267131e+01, -1.54792207e+01,  4.87363678e+01,\n",
       "       -7.65727455e+00,  4.08188532e+01, -5.03574657e-01,  2.77388159e+00,\n",
       "        3.89129258e+00,  2.95961133e+01,  8.90565505e+00,  1.20850412e+01,\n",
       "        1.35800360e+01,  1.26991813e+01,  2.63111172e+01,  1.96315430e+01,\n",
       "        1.90601429e+01,  2.10964899e+01,  2.34198943e+01,  2.27780245e+01])"
      ]
     },
     "execution_count": 15,
     "metadata": {},
     "output_type": "execute_result"
    }
   ],
   "source": [
    "np.linalg.eigvals(diff_matrix)"
   ]
  },
  {
   "cell_type": "code",
   "execution_count": 16,
   "id": "b6890d3f",
   "metadata": {},
   "outputs": [],
   "source": [
    "from statsmodels.stats.correlation_tools import cov_nearest"
   ]
  },
  {
   "cell_type": "code",
   "execution_count": 30,
   "id": "6ad8b8a5",
   "metadata": {},
   "outputs": [],
   "source": [
    "nearest_diff_matrix = cov_nearest(cov=diff_matrix, threshold=1e-14)"
   ]
  },
  {
   "cell_type": "code",
   "execution_count": 31,
   "id": "0030ba12",
   "metadata": {},
   "outputs": [
    {
     "data": {
      "text/plain": [
       "0.35136540220598533"
      ]
     },
     "execution_count": 31,
     "metadata": {},
     "output_type": "execute_result"
    }
   ],
   "source": [
    "np.max(nearest_diff_matrix - diff_matrix)"
   ]
  },
  {
   "cell_type": "code",
   "execution_count": 32,
   "id": "258b40a0",
   "metadata": {},
   "outputs": [
    {
     "data": {
      "text/plain": [
       "array([1.04526382e+03, 3.82303116e+02, 2.12225740e+02, 9.94795520e+01,\n",
       "       7.25999337e+01, 5.36465453e+01, 4.75313777e+01, 4.05603409e+01,\n",
       "       2.95792997e+01, 2.75767512e+00, 3.87206901e+00, 2.62411745e+01,\n",
       "       2.33190020e+01, 2.27439743e+01, 2.08991042e+01, 1.93853465e+01,\n",
       "       1.90529257e+01, 8.86152470e+00, 1.35705309e+01, 1.20416372e+01,\n",
       "       1.26798299e+01, 6.60566364e-13, 1.18178781e-12, 1.03392108e-12])"
      ]
     },
     "execution_count": 32,
     "metadata": {},
     "output_type": "execute_result"
    }
   ],
   "source": [
    "np.linalg.eigvals(nearest_diff_matrix)"
   ]
  },
  {
   "cell_type": "markdown",
   "id": "7e48ed4f",
   "metadata": {},
   "source": [
    "Compute price inflation as mean daily prices - mean drfit and learn this through a neural ODE"
   ]
  }
 ],
 "metadata": {
  "kernelspec": {
   "display_name": "Python 3 (ipykernel)",
   "language": "python",
   "name": "python3"
  },
  "language_info": {
   "codemirror_mode": {
    "name": "ipython",
    "version": 3
   },
   "file_extension": ".py",
   "mimetype": "text/x-python",
   "name": "python",
   "nbconvert_exporter": "python",
   "pygments_lexer": "ipython3",
   "version": "3.8.11"
  }
 },
 "nbformat": 4,
 "nbformat_minor": 5
}
