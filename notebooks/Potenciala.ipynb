{
 "cells": [
  {
   "cell_type": "code",
   "execution_count": 1,
   "id": "pending-gospel",
   "metadata": {},
   "outputs": [],
   "source": [
    "import os\n",
    "import sys\n",
    "module_path = os.path.abspath(os.path.join('..'))\n",
    "if module_path not in sys.path:\n",
    "    sys.path.append(module_path)"
   ]
  },
  {
   "cell_type": "code",
   "execution_count": 2,
   "id": "similar-hughes",
   "metadata": {},
   "outputs": [],
   "source": [
    "import warnings\n",
    "warnings.filterwarnings('ignore')\n",
    "\n",
    "import matplotlib.pyplot as plt\n",
    "import numpy as np\n",
    "import pandas as pd\n",
    "import seaborn as sns\n",
    "\n",
    "from data_collector import Omie\n",
    "\n",
    "from ml import GaussianKernel\n",
    "from potenciala import BucketMethod, FigureShape, SingleTimeSeries, VectorTimeSeries\n",
    "from stochastic import (EulerMaruyama, ConstantDiffusionMultivariate, SpatialDifferenceDriftMultivariate, \n",
    "                        SpatialDiffusionUnivariate, SpatialDriftMultivariate)"
   ]
  },
  {
   "cell_type": "code",
   "execution_count": 3,
   "id": "valued-survivor",
   "metadata": {},
   "outputs": [],
   "source": [
    "# uncomment this to obtain most up-to-date day ahead market timeseries\n",
    "#df = Omie.download_period_file(filename=\"marginalpdbc\", start_year=2016, end_year=2021)\n",
    "#df = Omie.include_old_file(df=df, filename=\"marginalpdbc_2002_2015.csv\")"
   ]
  },
  {
   "cell_type": "code",
   "execution_count": 4,
   "id": "athletic-assault",
   "metadata": {},
   "outputs": [],
   "source": [
    "df_raw = pd.read_csv(\"day_ahead_market_20211005.csv\")\n",
    "df_raw[\"spain\"] = df_raw[\"spain\"].round(decimals=2)"
   ]
  },
  {
   "cell_type": "code",
   "execution_count": 5,
   "id": "db1c6f53",
   "metadata": {},
   "outputs": [],
   "source": [
    "# filter data before 2004 (missing dates in 2003) and beyond 2021\n",
    "df = df_raw.query(\"year >= 2004 & year <= 2020\")"
   ]
  },
  {
   "cell_type": "markdown",
   "id": "narrative-vocabulary",
   "metadata": {},
   "source": [
    "### Univariate timeseries"
   ]
  },
  {
   "cell_type": "code",
   "execution_count": null,
   "id": "roman-space",
   "metadata": {},
   "outputs": [],
   "source": [
    "s_1 = SingleTimeSeries(df=df, signal_name=\"spain\", metric_lag_time=[1, 24, 168], bucket_method=BucketMethod.Round, bin_size=1)\n",
    "s_025 = SingleTimeSeries(df=df, signal_name=\"spain\", metric_lag_time=[1, 24, 168], bucket_method=BucketMethod.Cut, bin_size=0.25)"
   ]
  },
  {
   "cell_type": "code",
   "execution_count": null,
   "id": "43463b06",
   "metadata": {},
   "outputs": [],
   "source": [
    "s_1.plot_ts()"
   ]
  },
  {
   "cell_type": "code",
   "execution_count": null,
   "id": "cheap-newport",
   "metadata": {
    "scrolled": false
   },
   "outputs": [],
   "source": [
    "fig, (ax0, ax1) = plt.subplots(1, 2, figsize=(20, 7))\n",
    "s_1.potential.loc[:120].plot(ax=ax0)\n",
    "s_025.potential.loc[:120].plot(ax=ax1)\n",
    "ax0.set_title(\"1 €/MW resolution\")\n",
    "ax1.set_title(\"0.25 €/MW resolution\")\n",
    "plt.show()"
   ]
  },
  {
   "cell_type": "markdown",
   "id": "invalid-proof",
   "metadata": {},
   "source": [
    "### Include all history or last n years"
   ]
  },
  {
   "cell_type": "code",
   "execution_count": null,
   "id": "specialized-postage",
   "metadata": {
    "scrolled": false
   },
   "outputs": [],
   "source": [
    "# Compare potential across different years\n",
    "fig, axis = plt.subplots(3, 1, figsize=(10, 30))\n",
    "years = range(2010, 2021)\n",
    "for year in years:\n",
    "    df_year = df[df[\"year\"] == year]\n",
    "    s_year = SingleTimeSeries(df=df_year, signal_name=\"spain\", metric_lag_time=[1, 24, 168], bucket_method=BucketMethod.Cut, bin_size=0.25)\n",
    "    for ax, col in zip(axis, s_year.potential_cols):\n",
    "        s_year.potential[col].loc[:100].plot(ax=ax)\n",
    "for ax, col in zip(axis, s_year.potential_cols):\n",
    "    ax.legend(years)\n",
    "    ax.set_title(col)"
   ]
  },
  {
   "cell_type": "code",
   "execution_count": null,
   "id": "executive-disease",
   "metadata": {
    "scrolled": false
   },
   "outputs": [],
   "source": [
    "# Compare potential across different years with minimum\n",
    "fig, axis = plt.subplots(3, 1, figsize=(10, 30))\n",
    "years = range(2010, 2021)\n",
    "for year in years:\n",
    "    df_year = df[df[\"year\"] == year]\n",
    "    s_year = SingleTimeSeries(df=df_year, signal_name=\"spain\", metric_lag_time=[1, 24, 168], bucket_method=BucketMethod.Cut, bin_size=0.25)\n",
    "    for ax, col in zip(axis, s_year.potential_cols):\n",
    "        (s_year.potential[col] / s_year.potential[col].min()).loc[:100].plot(ax=ax)\n",
    "for ax, col in zip(axis, s_year.potential_cols):\n",
    "    ax.legend(years)\n",
    "    ax.set_title(col)"
   ]
  },
  {
   "cell_type": "code",
   "execution_count": null,
   "id": "gothic-musician",
   "metadata": {
    "scrolled": false
   },
   "outputs": [],
   "source": [
    "# Compute accumulative years\n",
    "fig, axis = plt.subplots(3, 1, figsize=(10, 30))\n",
    "years = range(2010, 2021)\n",
    "years = years[::-1]\n",
    "for year in years:\n",
    "    df_year = df[df[\"year\"] >= year]\n",
    "    s_year = SingleTimeSeries(df=df_year, signal_name=\"spain\", metric_lag_time=[1, 24, 168], bucket_method=BucketMethod.Cut, bin_size=0.25)\n",
    "    for ax, col in zip(axis, s_year.potential_cols):\n",
    "        s_year.potential[col].loc[:100].plot(ax=ax)\n",
    "for ax, col in zip(axis, s_year.potential_cols):\n",
    "    ax.legend(years)\n",
    "    ax.set_title(col)"
   ]
  },
  {
   "cell_type": "code",
   "execution_count": null,
   "id": "impressive-string",
   "metadata": {
    "scrolled": false
   },
   "outputs": [],
   "source": [
    "# Compute accumulative years with minimum\n",
    "fig, axis = plt.subplots(3, 1, figsize=(10, 30))\n",
    "years = range(2010, 2021)\n",
    "years = years[::-1]\n",
    "for year in years:\n",
    "    df_year = df[df[\"year\"] >= year]\n",
    "    s_year = SingleTimeSeries(df=df_year, signal_name=\"spain\", metric_lag_time=[1, 24, 168], bucket_method=BucketMethod.Cut, bin_size=0.25)\n",
    "    for ax, col in zip(axis, s_year.potential_cols):\n",
    "        (s_year.potential[col] / s_year.potential[col].min()).loc[:100].plot(ax=ax)\n",
    "for ax, col in zip(axis, s_year.potential_cols):\n",
    "    ax.legend(years)\n",
    "    ax.set_title(col)"
   ]
  },
  {
   "cell_type": "code",
   "execution_count": null,
   "id": "portable-polyester",
   "metadata": {
    "scrolled": false
   },
   "outputs": [],
   "source": [
    "# Check n-year period\n",
    "n = 4\n",
    "fig, axis = plt.subplots(3, 1, figsize=(10, 30))\n",
    "years = range(2002, 2022, n)\n",
    "for year in years:\n",
    "    df_year = df[(df[\"year\"] >= year) & (df[\"year\"] < year + n)]\n",
    "    s_year = SingleTimeSeries(df=df_year, signal_name=\"spain\", metric_lag_time=[1, 24, 168], bucket_method=BucketMethod.Cut, bin_size=0.25)\n",
    "    for ax, col in zip(axis, s_year.potential_cols):\n",
    "        s_year.potential[col].loc[:100].plot(ax=ax)\n",
    "for ax, col in zip(axis, s_year.potential_cols):\n",
    "    ax.legend(years)\n",
    "    ax.set_title(col)"
   ]
  },
  {
   "cell_type": "code",
   "execution_count": null,
   "id": "fiscal-progress",
   "metadata": {
    "scrolled": false
   },
   "outputs": [],
   "source": [
    "# Check n-year period divided by minimum\n",
    "n = 4\n",
    "fig, axis = plt.subplots(3, 1, figsize=(10, 30))\n",
    "years = range(2002, 2022, n)\n",
    "for year in years:\n",
    "    df_year = df[(df[\"year\"] >= year) & (df[\"year\"] < year + n)]\n",
    "    s_year = SingleTimeSeries(df=df_year, signal_name=\"spain\", metric_lag_time=[1, 24, 168], bucket_method=BucketMethod.Cut, bin_size=0.25)\n",
    "    for ax, col in zip(axis, s_year.potential_cols):\n",
    "        (s_year.potential[col] / s_year.potential[col].min()).loc[:100].plot(ax=ax)\n",
    "for ax, col in zip(axis, s_year.potential_cols):\n",
    "    ax.legend(years)\n",
    "    ax.set_title(col)"
   ]
  },
  {
   "cell_type": "code",
   "execution_count": null,
   "id": "assigned-edgar",
   "metadata": {},
   "outputs": [],
   "source": [
    "# plot mean drift and diffusion\n",
    "_ = s_1.drift.mean[\"drift_1\"].iloc[:120].plot()"
   ]
  },
  {
   "cell_type": "code",
   "execution_count": null,
   "id": "national-shoot",
   "metadata": {},
   "outputs": [],
   "source": [
    "_ = s_1.diffusion.mean[\"diffusion_1\"].iloc[:120].plot()"
   ]
  },
  {
   "cell_type": "code",
   "execution_count": null,
   "id": "different-indie",
   "metadata": {},
   "outputs": [],
   "source": [
    "a = s_1.drift.mean[\"drift_1\"]\n",
    "a = a.reindex(np.arange(0, a.index.max() + 20)).fillna(0)\n",
    "b = s_1.diffusion.mean[\"diffusion_1\"]\n",
    "b = b.reindex(np.arange(0, b.index.max() + 20)).fillna(0)\n",
    "\n",
    "x_df = s_1.df[(s_1.df[\"date\"] >= \"2020-12-10\")].iloc[:24*6]\n",
    "x_0 = x_df[\"spain\"].iloc[0]"
   ]
  },
  {
   "cell_type": "code",
   "execution_count": null,
   "id": "d7112004",
   "metadata": {},
   "outputs": [],
   "source": [
    "drift = SpatialDriftMultivariate(df=a.to_frame())\n",
    "diffusion = SpatialDiffusionUnivariate(df=b.to_frame())\n",
    "\n",
    "em_1 = EulerMaruyama(num_sim=1000, period=24*6, delta_t=1, nu=0, drift=drift, diffusion=diffusion)"
   ]
  },
  {
   "cell_type": "code",
   "execution_count": null,
   "id": "bf38cfbf",
   "metadata": {},
   "outputs": [],
   "source": [
    "sim_df = em_1.simulate(x0=np.array([x_0]), random_seed=124)"
   ]
  },
  {
   "cell_type": "code",
   "execution_count": null,
   "id": "small-election",
   "metadata": {},
   "outputs": [],
   "source": [
    "fig, ax = plt.subplots(1,1, figsize=(15, 10))\n",
    "sim_df.iloc[:,  :em_1.num_sim//2].plot(alpha=0.05, ax=ax, legend=False)\n",
    "sim_df.mean(axis=1).plot(lw=1.5, color=\"black\", ax=ax)\n",
    "x_df.reset_index()[\"spain\"].plot(lw=1.5, color=\"blue\", ax=ax)\n",
    "sim_df.quantile(q=[0.1, 0.25, 0.75, 0.9], axis=1).T.plot(lw=1.5, ls=\"--\", ax=ax, legend=False)\n",
    "plt.show()"
   ]
  },
  {
   "cell_type": "markdown",
   "id": "4f89d86b",
   "metadata": {},
   "source": [
    "### Multivariate  timeseries $D_{1}^h(X_{d}^h)$ "
   ]
  },
  {
   "cell_type": "code",
   "execution_count": null,
   "id": "a76cd2d3",
   "metadata": {},
   "outputs": [],
   "source": [
    "s = VectorTimeSeries(df=df, signal_name=\"spain\", bucket_method=BucketMethod.Round, bin_size=1, \n",
    "                     diff_matrix_xi_xj_computation=False)"
   ]
  },
  {
   "cell_type": "code",
   "execution_count": null,
   "id": "5463ad5f",
   "metadata": {},
   "outputs": [],
   "source": [
    "s.plot_hourly_boxplot()"
   ]
  },
  {
   "cell_type": "code",
   "execution_count": null,
   "id": "39d6fbc8",
   "metadata": {},
   "outputs": [],
   "source": [
    "fig, ax = plt.subplots(figsize=(20, 7))\n",
    "sns.heatmap(s.drift_hour_x.iloc[:, :100], ax=ax, cmap='flare', vmin=-50, vmax=50)\n",
    "ax.set_title(\"Mean 24-hour drift\")\n",
    "fig.show()"
   ]
  },
  {
   "cell_type": "code",
   "execution_count": null,
   "id": "c64dbe0f",
   "metadata": {},
   "outputs": [],
   "source": [
    "fig, ax = plt.subplots(figsize=(20, 7))\n",
    "sns.heatmap(s.potential_hour_x.iloc[:, :100], ax=ax, cmap='flare', vmin=-400, vmax=100)\n",
    "ax.set_title(\"Potential\")\n",
    "fig.show()"
   ]
  },
  {
   "cell_type": "code",
   "execution_count": null,
   "id": "6134b761",
   "metadata": {
    "scrolled": true
   },
   "outputs": [],
   "source": [
    "m = 6\n",
    "n = int(24/m)\n",
    "fig, ax = plt.subplots(n, 1, figsize=(20, 25))\n",
    "for i in range(n):\n",
    "    s.potential_hour_x.loc[i*m+1:(i+1)*m].T.plot(ax=ax[i])\n",
    "    ax[i].legend(loc=1)\n",
    "    ax[i].set_xlim(0, 180)\n",
    "    ax[i].set_ylim(-450, 150)\n",
    "ax[0].set_title(\"Potential\")\n",
    "fig.show()"
   ]
  },
  {
   "cell_type": "code",
   "execution_count": null,
   "id": "4282427b",
   "metadata": {},
   "outputs": [],
   "source": [
    "fig, axis = plt.subplots(4, 6, figsize=(40, 25))\n",
    "\n",
    "for i, ax_list in enumerate(axis):\n",
    "    for j, ax in enumerate(ax_list):\n",
    "        h = 1 + i*6+j\n",
    "        s.potential_hour_x.loc[h].plot(ax=ax)\n",
    "        ax.set_xlabel(\"\")\n",
    "        ax.set_title(f\"Hour = {h}\", fontsize=30)\n",
    "        ax.set_xlim(0, 100)\n",
    "        ax.set_ylim(-450, 50)\n",
    "        ax.tick_params(axis='both', labelsize=20)\n",
    "        ax.spines['right'].set_visible(False)\n",
    "        ax.spines['top'].set_visible(False)\n",
    "\n",
    "fig.text(0.5, 0.095, \"spot price $X_{t}^{i}$ [€/MWh]\", ha=\"center\", va=\"center\", fontdict={\"size\": 25})\n",
    "fig.text(0.1, 0.5, \"potential $[(€/MWh)^{2}/day]$\", ha=\"center\", va=\"center\",\n",
    "         fontdict={\"size\": 25}, rotation=90)"
   ]
  },
  {
   "cell_type": "code",
   "execution_count": null,
   "id": "4efb5b83",
   "metadata": {},
   "outputs": [],
   "source": [
    "fig, ax = plt.subplots(subplot_kw={\"projection\": \"3d\"}, figsize=(20, 10))\n",
    "potential = s.potential_hour_x.iloc[:, :100].stack().reset_index()\n",
    "ax.scatter(potential.iloc[:, 0], potential.iloc[:, 1], potential.iloc[:, 2])\n",
    "ax.set_xlabel(\"hour\")\n",
    "ax.set_ylabel(\"Spot price [€/Mwh]\")\n",
    "ax.set_zlabel(\"potential\")\n",
    "fig.show()"
   ]
  },
  {
   "cell_type": "code",
   "execution_count": null,
   "id": "2a7df6ee",
   "metadata": {},
   "outputs": [],
   "source": [
    "fig, ax = plt.subplots(figsize=(15, 10))\n",
    "mask = np.triu(np.ones_like(s.diffusion_matrix, dtype=bool), k=1)\n",
    "sns.heatmap(s.diffusion_matrix, cmap=\"flare\", mask=mask,\n",
    "            square=True, linewidths=.5, cbar_kws={\"shrink\": 0.85})\n",
    "ax.set_title(\"Mean diffusion\")\n",
    "fig.show()"
   ]
  },
  {
   "cell_type": "code",
   "execution_count": null,
   "id": "d16288ab",
   "metadata": {},
   "outputs": [],
   "source": [
    "fig, ax = plt.subplots(figsize=(15, 10))\n",
    "mask = np.triu(np.ones_like(s.sqrt_diff_matrix, dtype=bool), k=1)\n",
    "sns.heatmap(s.sqrt_diff_matrix, cmap=\"flare\", mask=mask,\n",
    "            square=True, linewidths=.5, cbar_kws={\"shrink\": 0.85})\n",
    "ax.set_title(\"Mean diffusion\")\n",
    "fig.show()"
   ]
  },
  {
   "cell_type": "markdown",
   "id": "caf7de27",
   "metadata": {},
   "source": [
    "#### Simulation with $D_{1}^h(X_{d}^h)$ and diagonal $D^{2}$"
   ]
  },
  {
   "cell_type": "code",
   "execution_count": null,
   "id": "cda55fbe",
   "metadata": {},
   "outputs": [],
   "source": [
    "x_df = s.df[(s.df[\"date\"] >= \"2020-12-10\")].iloc[:24*6]\n",
    "x_0 = x_df[\"spain\"].iloc[:24].values"
   ]
  },
  {
   "cell_type": "code",
   "execution_count": null,
   "id": "6544c724",
   "metadata": {},
   "outputs": [],
   "source": [
    "spatial_drift = SpatialDriftMultivariate(df=s.drift_hour_x)\n",
    "diag_diff_matrix = pd.DataFrame(np.sqrt(np.diag(np.diag(s.diffusion_matrix))))\n",
    "diag_diffusion = ConstantDiffusionMultivariate(df=diag_diff_matrix)\n",
    "\n",
    "em_2 = EulerMaruyama(num_sim=1000, period=6, delta_t=1, nu=0, drift=spatial_drift, diffusion=diag_diffusion)"
   ]
  },
  {
   "cell_type": "code",
   "execution_count": null,
   "id": "37a79158",
   "metadata": {},
   "outputs": [],
   "source": [
    "sim_df = em_2.simulate(x0=x_0, random_seed=124)"
   ]
  },
  {
   "cell_type": "code",
   "execution_count": null,
   "id": "8a06e35b",
   "metadata": {},
   "outputs": [],
   "source": [
    "fig, ax = plt.subplots(1,1, figsize=(15, 10))\n",
    "sim_df.iloc[24:, : em_2.num_sim//2].plot(alpha=0.05, ax=ax, legend=False)\n",
    "sim_df.mean(axis=1).plot(lw=1.5, color=\"black\", ax=ax)\n",
    "x_df.reset_index()[\"spain\"].plot(lw=1.5, color=\"blue\", ax=ax)\n",
    "sim_df.iloc[24:, :].quantile(q=[0.1, 0.25, 0.75, 0.9], axis=1).T.plot(lw=1.5, ls=\"--\", ax=ax, legend=False)\n",
    "ax.set_xlabel(\"hour\")\n",
    "ax.set_ylim(0, 120)\n",
    "ax.set_ylabel(\"€/MWh\")\n",
    "ax.set_title(\"Day ahead electricity price simulation with $D_1^{h}(X_d^h)$ and diagonal $D_2$\")\n",
    "plt.show()"
   ]
  },
  {
   "cell_type": "markdown",
   "id": "4b15f5f5",
   "metadata": {},
   "source": [
    "#### Simulation with $D_{1}^h(X_{d}^h)$ and non-diagonal constant $D^{2}$"
   ]
  },
  {
   "cell_type": "code",
   "execution_count": null,
   "id": "345fbe7d",
   "metadata": {},
   "outputs": [],
   "source": [
    "x_df = s.df[(s.df[\"date\"] >= \"2020-12-10\")].iloc[:24*6]\n",
    "x_0 = x_df[\"spain\"].iloc[:24].values"
   ]
  },
  {
   "cell_type": "code",
   "execution_count": null,
   "id": "0aa5f353",
   "metadata": {},
   "outputs": [],
   "source": [
    "spatial_drift = SpatialDriftMultivariate(df=s.drift_hour_x)\n",
    "cte_diffusion = ConstantDiffusionMultivariate(df=pd.DataFrame(s.sqrt_diff_matrix))\n",
    "\n",
    "em_3 = EulerMaruyama(num_sim=1000, period=6, delta_t=1, nu=0, drift=spatial_drift, diffusion=cte_diffusion)"
   ]
  },
  {
   "cell_type": "code",
   "execution_count": null,
   "id": "a84f3914",
   "metadata": {},
   "outputs": [],
   "source": [
    "sim_df = em_3.simulate(x0=x_0, random_seed=124)"
   ]
  },
  {
   "cell_type": "code",
   "execution_count": null,
   "id": "7806bd6c",
   "metadata": {},
   "outputs": [],
   "source": [
    "fig, ax = plt.subplots(1,1, figsize=(15, 10))\n",
    "sim_df.iloc[24:, : em_3.num_sim//2].plot(alpha=0.05, ax=ax, legend=False)\n",
    "sim_df.mean(axis=1).plot(lw=1.5, color=\"black\", ax=ax)\n",
    "x_df.reset_index()[\"spain\"].plot(lw=1.5, color=\"blue\", ax=ax)\n",
    "sim_df.iloc[24:, :].quantile(q=[0.1, 0.25, 0.75, 0.9], axis=1).T.plot(lw=1.5, ls=\"--\", ax=ax, legend=False)\n",
    "ax.set_xlabel(\"hour\")\n",
    "ax.set_ylim(0, 120)\n",
    "ax.set_ylabel(\"€/MWh\")\n",
    "ax.set_title(\"Day ahead electricity price simulation with $D_1^h(X_d^h)$ and non-diagonal $D_2$\")\n",
    "plt.show()"
   ]
  },
  {
   "cell_type": "markdown",
   "id": "84ed0ece",
   "metadata": {},
   "source": [
    "### Multivariate timeseries  - $D_{1}^{h}(X_{d}^h - X_{d-1}^h)$ "
   ]
  },
  {
   "cell_type": "code",
   "execution_count": null,
   "id": "81cb84b1",
   "metadata": {},
   "outputs": [],
   "source": [
    "s_back_drift = VectorTimeSeries(df=df, signal_name=\"spain\", bucket_method=BucketMethod.Round, bin_size=1, x_transformation=\"back_drift\")"
   ]
  },
  {
   "cell_type": "code",
   "execution_count": null,
   "id": "0c12c67a",
   "metadata": {},
   "outputs": [],
   "source": [
    "fig, ax = plt.subplots(figsize=(20, 7))\n",
    "sns.heatmap(s_back_drift.samples_hour_x.iloc[:, :200], ax=ax, cmap='flare')#, vmin=-40, vmax=40)\n",
    "ax.set_title(\"Samples 24-hour drift\")\n",
    "fig.show()"
   ]
  },
  {
   "cell_type": "code",
   "execution_count": null,
   "id": "80619ff1",
   "metadata": {
    "scrolled": false
   },
   "outputs": [],
   "source": [
    "fig, ax = plt.subplots(figsize=(20, 7))\n",
    "sns.heatmap(s_back_drift.drift_hour_x, ax=ax, cmap='flare')#, vmin=-40, vmax=40)\n",
    "ax.set_title(\"Mean 24-hour drift\")\n",
    "fig.show()"
   ]
  },
  {
   "cell_type": "code",
   "execution_count": null,
   "id": "465f2aa0",
   "metadata": {},
   "outputs": [],
   "source": [
    "fig, ax = plt.subplots(figsize=(20, 7))\n",
    "sns.heatmap(s_back_drift.potential_hour_x, ax=ax, cmap='flare')\n",
    "ax.set_title(\"Potential\")\n",
    "fig.show()"
   ]
  },
  {
   "cell_type": "code",
   "execution_count": null,
   "id": "22a5b507",
   "metadata": {
    "scrolled": true
   },
   "outputs": [],
   "source": [
    "m = 6\n",
    "n = int(24/m)\n",
    "fig, ax = plt.subplots(n, 1, figsize=(20, 25))\n",
    "for i in range(n):\n",
    "    s_back_drift.potential_hour_x.loc[i*m+1:(i+1)*m].T.plot(ax=ax[i])\n",
    "    ax[i].legend(loc=1)\n",
    "    ax[i].set_xlim(-80, 80)\n",
    "    #ax[i].set_ylim(-450, 150)\n",
    "ax[0].set_title(\"Potential\")\n",
    "fig.show()"
   ]
  },
  {
   "cell_type": "code",
   "execution_count": null,
   "id": "b4277512",
   "metadata": {},
   "outputs": [],
   "source": [
    "fig, axis = plt.subplots(4, 6, figsize=(40, 25))\n",
    "\n",
    "for i, ax_list in enumerate(axis):\n",
    "    for j, ax in enumerate(ax_list):\n",
    "        h = 1 + i*6+j\n",
    "        s_back_drift.potential_hour_x.loc[h].plot(ax=ax)\n",
    "        ax.set_xlabel(\"\")\n",
    "        ax.set_title(f\"Hour = {h}\", fontsize=30)\n",
    "        ax.set_xlim(-60, 60)\n",
    "        ax.set_ylim(-800, 50)\n",
    "        ax.tick_params(axis='both', labelsize=20)\n",
    "        ax.spines['right'].set_visible(False)\n",
    "        ax.spines['top'].set_visible(False)\n",
    "\n",
    "fig.text(0.5, 0.095, \"spot price difference $X_{t}^{i} - X_{t-1}^{i}$ [€/MWh]\", ha=\"center\", va=\"center\", fontdict={\"size\": 25})\n",
    "fig.text(0.1, 0.5, \"potential $[(€/MWh)^{2}/day]$\", ha=\"center\", va=\"center\",\n",
    "         fontdict={\"size\": 25}, rotation=90)"
   ]
  },
  {
   "cell_type": "code",
   "execution_count": null,
   "id": "05feb06c",
   "metadata": {},
   "outputs": [],
   "source": [
    "fig, ax = plt.subplots(subplot_kw={\"projection\": \"3d\"}, figsize=(20, 10))\n",
    "potential = s_back_drift.potential_hour_x.stack().reset_index()\n",
    "ax.scatter(potential.iloc[:, 0], potential.iloc[:, 1], potential.iloc[:, 2])\n",
    "ax.set_xlabel(\"hour\")\n",
    "ax.set_ylabel(\"X\")\n",
    "ax.set_zlabel(\"potential\")\n",
    "fig.show()"
   ]
  },
  {
   "cell_type": "code",
   "execution_count": null,
   "id": "9ebdbaa1",
   "metadata": {},
   "outputs": [],
   "source": [
    "fig, ax = plt.subplots(figsize=(15, 10))\n",
    "mask = np.triu(np.ones_like(s_back_drift.diffusion_matrix, dtype=bool), k=1)\n",
    "sns.heatmap(s_back_drift.diffusion_matrix, cmap=\"flare\", mask=mask,\n",
    "            square=True, linewidths=.5, cbar_kws={\"shrink\": 0.85})\n",
    "ax.set_title(\"Mean diffusion\")\n",
    "fig.show()"
   ]
  },
  {
   "cell_type": "markdown",
   "id": "7f2e24f2",
   "metadata": {},
   "source": [
    "#### Simulation with $D_{1}^h(X_{d}^h - X_{d-1}^h)$ and non-diagonal constant $D^{2}$"
   ]
  },
  {
   "cell_type": "code",
   "execution_count": null,
   "id": "6085b0fa",
   "metadata": {},
   "outputs": [],
   "source": [
    "x_df = s_back_drift.df[(s_back_drift.df[\"date\"] >= \"2020-12-09\")].iloc[:24*7]\n",
    "t_0 = x_df[\"spain\"].iloc[:24].values\n",
    "t_1 = x_df[\"spain\"].iloc[24:48].values\n",
    "x_0 = np.vstack([t_0, t_1]).T"
   ]
  },
  {
   "cell_type": "code",
   "execution_count": null,
   "id": "f278dc23",
   "metadata": {},
   "outputs": [],
   "source": [
    "spatial_diff_drift = SpatialDifferenceDriftMultivariate(df=s_back_drift.drift_hour_x)\n",
    "cte_diffusion = ConstantDiffusionMultivariate(df=pd.DataFrame(s_back_drift.sqrt_diff_matrix))\n",
    "\n",
    "em_4 = EulerMaruyama(num_sim=1000, period=7, delta_t=1, nu=0, drift=spatial_diff_drift, diffusion=cte_diffusion)"
   ]
  },
  {
   "cell_type": "code",
   "execution_count": null,
   "id": "cd889502",
   "metadata": {},
   "outputs": [],
   "source": [
    "sim_df = em_4.simulate(x0=x_0, random_seed=124)"
   ]
  },
  {
   "cell_type": "code",
   "execution_count": null,
   "id": "d840c6a6",
   "metadata": {},
   "outputs": [],
   "source": [
    "fig, ax = plt.subplots(1,1, figsize=(15, 10))\n",
    "sim_df.iloc[48:, : em_4.num_sim//2].plot(alpha=0.05, ax=ax, legend=False)\n",
    "sim_df.mean(axis=1).iloc[24:].plot(lw=1.5, color=\"black\", ax=ax)\n",
    "x_df.reset_index()[\"spain\"].iloc[24:].plot(lw=1.5, color=\"blue\", ax=ax)\n",
    "sim_df.iloc[48:, :].quantile(q=[0.1, 0.25, 0.75, 0.9], axis=1).T.plot(lw=1.5, ls=\"--\", ax=ax, legend=False)\n",
    "ax.set_xlabel(\"hour\")\n",
    "ax.set_ylim(0, 120)\n",
    "ax.set_ylabel(\"€/MWh\")\n",
    "ax.set_title(\"Day ahead electricity price simulation for $D_1^h(X_d^h - X_{d-1}^h)$ and non-diagonal $D_2$\")\n",
    "plt.show()"
   ]
  },
  {
   "cell_type": "markdown",
   "id": "b57d2452",
   "metadata": {},
   "source": [
    "## Gaussian kde"
   ]
  },
  {
   "cell_type": "code",
   "execution_count": 6,
   "id": "ce79e962",
   "metadata": {},
   "outputs": [],
   "source": [
    "from scipy import integrate, stats\n",
    "from matplotlib.lines import Line2D"
   ]
  },
  {
   "cell_type": "code",
   "execution_count": 7,
   "id": "acf3cb0d",
   "metadata": {},
   "outputs": [],
   "source": [
    "s_kde = VectorTimeSeries(df=df, signal_name=\"spain\", bucket_method=BucketMethod.NoBucket)"
   ]
  },
  {
   "cell_type": "code",
   "execution_count": 8,
   "id": "1a76552c",
   "metadata": {},
   "outputs": [],
   "source": [
    "def fit_gaussian_kde(df: pd.DataFrame):\n",
    "    \n",
    "    values = df.values.T\n",
    "    kernel = stats.gaussian_kde(values)\n",
    "    return kernel, values\n",
    "\n",
    "def generate_mesh(values: np.ndarray, \n",
    "                  x_num: int, y_num: int, z_num: int = None, \n",
    "                  xmin: float = None, xmax: float = None,\n",
    "                  ymin: float = None, ymax: float = None,\n",
    "                  zmin: float = None, zmax: float = None):\n",
    "    \n",
    "    xmin = values[0].min().round(2) if not xmin else xmin\n",
    "    xmax = values[0].max().round(2) if not xmax else xmax\n",
    "    #xmax = xmax if xmax >= 100 else 100\n",
    "    \n",
    "    ymin = values[1].min().round(2) if not ymin else ymin\n",
    "    ymax = values[1].max().round(2) if not ymax else ymax\n",
    "    \n",
    "    x_mesh = np.linspace(xmin, xmax, x_num)\n",
    "    y_mesh = np.linspace(ymin, ymax, y_num)\n",
    "    \n",
    "\n",
    "    if values.shape[0] == 3:\n",
    "        zmin = values[2].min().round(2) if not zmin else zmin\n",
    "        zmax = values[2].max().round(2) if not zmax else zmax\n",
    "\n",
    "        z_mesh = np.linspace(zmin, zmax, z_num)\n",
    "\n",
    "        X, Y, Z = np.meshgrid(*(x_mesh, y_mesh, z_mesh), indexing=\"ij\")\n",
    "        mesh = np.vstack([X.ravel(), Y.ravel(), Z.ravel()])\n",
    "        \n",
    "        return mesh, X, Y, Z\n",
    "    \n",
    "    else:\n",
    "        X, Y = np.meshgrid(*(x_mesh, y_mesh), indexing=\"ij\")\n",
    "        mesh = np.vstack([X.ravel(), Y.ravel()])\n",
    "        \n",
    "        return mesh, X, Y\n",
    "\n",
    "def compute_mesh_probability(kernel: stats.kde.gaussian_kde, mesh: np.ndarray, new_shape: tuple):\n",
    "    \n",
    "    p = np.reshape(kernel(mesh).T, new_shape)\n",
    "    return p\n",
    "\n",
    "def compute_expected_value(x_grid: np.ndarray, y_grid: np.ndarray, p: np.ndarray):\n",
    "    \n",
    "    x_range = x_grid[:, 0]\n",
    "    expected_value_x = np.zeros_like(x_range)\n",
    "    for i in range(x_range.shape[0]):\n",
    "        # this computes the expected value even if the probability (weights) are not normalised \n",
    "        # https://numpy.org/doc/stable/reference/generated/numpy.average.html\n",
    "        expected_value_x[i] = np.average(y_grid[i], weights=p[i])\n",
    "        \n",
    "    return pd.Series(expected_value_x, index=x_range)\n",
    "\n",
    "def compute_historical_mean(df: pd.DataFrame, x_label_col_name: str, value_col_name: str):\n",
    "    \n",
    "    aux_df = df.copy(deep=True)\n",
    "    aux_df[x_label_col_name] = aux_df[x_label_col_name].round(decimals=0)\n",
    "    mean_x = aux_df.groupby(x_label_col_name)[value_col_name].mean()\n",
    "    \n",
    "    return mean_x\n",
    "\n",
    "def plot_samples_kernel_mean_expected(ax: plt.axes, h_stats: dict, ymax_lim: float = None):\n",
    "\n",
    "    ax.plot(h_stats[\"values\"][0], h_stats[\"values\"][1], 'k.', markersize=2, alpha=0.2)\n",
    "    h_stats[\"expected_value_x\"].plot(ax=ax, lw=2, color=\"blue\")\n",
    "    h_stats[\"historical_mean_x\"].plot(ax=ax, lw=2, color=\"red\")\n",
    "    cs = ax.contourf(h_stats[\"x_grid\"], h_stats[\"y_grid\"], h_stats[\"p\"],\n",
    "                     levels=100, cmap=plt.cm.gist_earth_r, alpha=0.7, antialiased=True)\n",
    "    if ymax_lim:\n",
    "        ax.set_ylim(0, ymax_lim)"
   ]
  },
  {
   "cell_type": "markdown",
   "id": "d58d77b4",
   "metadata": {},
   "source": [
    "$$D_1^{h}$$"
   ]
  },
  {
   "cell_type": "code",
   "execution_count": 9,
   "id": "9b02cec1",
   "metadata": {},
   "outputs": [],
   "source": [
    "def plot_potential(ax: plt.axis, h_stats: dict):\n",
    "    \n",
    "    ax.plot(h_stats[\"expected_value_x\"].index, (-1)*np.cumsum(h_stats[\"expected_value_x\"].values), color=\"blue\")\n",
    "    ax.plot(h_stats[\"historical_mean_x\"].index, (-1)*np.cumsum(h_stats[\"historical_mean_x\"].values), color=\"red\")"
   ]
  },
  {
   "cell_type": "code",
   "execution_count": null,
   "id": "25f727e8",
   "metadata": {
    "scrolled": true
   },
   "outputs": [],
   "source": [
    "d_1_hour_stats = {}\n",
    "for h in s_kde.df[\"hour\"].unique():\n",
    "    train_df = s_kde.df.query(f\"hour == {h}\")[[\"x_label\", \"drift_24\"]].dropna()\n",
    "\n",
    "    kernel, values = fit_gaussian_kde(df=train_df)\n",
    "    \n",
    "    mesh, x_grid, y_grid = generate_mesh(values=values, x_num=100, y_num=100)\n",
    "    \n",
    "    p = compute_mesh_probability(kernel=kernel, mesh=mesh, new_shape=x_grid.shape)\n",
    "        \n",
    "    expected_value_x = compute_expected_value(x_grid=x_grid, y_grid=y_grid, p=p)\n",
    "    historical_mean_x = compute_historical_mean(df=train_df, \n",
    "                                                x_label_col_name=\"x_label\", \n",
    "                                                value_col_name=\"drift_24\")\n",
    "        \n",
    "    d_1_hour_stats[h] = {\n",
    "        \"values\":values,\n",
    "        \"x_grid\": x_grid,\n",
    "        \"y_grid\": y_grid,\n",
    "        \"p\": p,\n",
    "        \"expected_value_x\": expected_value_x,\n",
    "        \"historical_mean_x\": historical_mean_x,\n",
    "        \"kernel\": kernel\n",
    "    }\n",
    "        \n",
    "    fig, (ax0, ax1) = plt.subplots(1, 2, figsize=(15, 7), gridspec_kw={'width_ratios': [3, 1]})\n",
    "    \n",
    "    #plot_gaussian_kde_mean_price_change(ax=ax0, h_stats=d_1_hour_stats[h])\n",
    "    plot_samples_kernel_mean_expected(ax=ax0, h_stats=d_1_hour_stats[h])\n",
    "    ax0.set_xlabel(f\"spot price, $X_d^{{{h}}}$ [€/MWh]\")\n",
    "    ax0.set_ylabel(f\"spot price difference $X_{{d+1}}^{{{h}}} - X_{{d}}^{{{h}}}$ [€/MWh]\")\n",
    "    ax0.set_title(f\"Drift hour = {h}\")\n",
    "    \n",
    "    plot_potential(ax=ax1, h_stats=d_1_hour_stats[h])\n",
    "    ax1.set_title(f\"Potential hour = {h}\")\n",
    "    ax1.set_xlabel(f\"spot price, $X_d^{{{h}}}$ [€/MWh]\")\n",
    "    ax1.set_ylabel(f\"Potential\")\n",
    "    plt.show()"
   ]
  },
  {
   "cell_type": "code",
   "execution_count": null,
   "id": "4ff94832",
   "metadata": {},
   "outputs": [],
   "source": [
    "d_1_hour_stats[1]"
   ]
  },
  {
   "cell_type": "code",
   "execution_count": 10,
   "id": "781f0018",
   "metadata": {},
   "outputs": [],
   "source": [
    "from ml import ComputationMode"
   ]
  },
  {
   "cell_type": "code",
   "execution_count": 12,
   "id": "93c81881",
   "metadata": {},
   "outputs": [],
   "source": [
    "df_1 = s_kde.df.query(f\"hour == 1\")[[\"x_label\", \"drift_24\"]].dropna()\n",
    "gk_1 = GaussianKernel(samples=df_1, grid_shape=(100, 100))\n",
    "gk_1_nb = GaussianKernel(samples=df_1, grid_shape=(100, 100), computation_mode=ComputationMode.Numba)"
   ]
  },
  {
   "cell_type": "code",
   "execution_count": 13,
   "id": "b4b2457d",
   "metadata": {},
   "outputs": [],
   "source": [
    "np.testing.assert_allclose(gk_1.expected_value_function, gk_1_nb.expected_value_function, rtol=1e-10)"
   ]
  },
  {
   "cell_type": "code",
   "execution_count": null,
   "id": "bacb5883",
   "metadata": {},
   "outputs": [],
   "source": []
  },
  {
   "cell_type": "code",
   "execution_count": 17,
   "id": "122540ad",
   "metadata": {},
   "outputs": [
    {
     "name": "stdout",
     "output_type": "stream",
     "text": [
      "CPU times: user 975 ms, sys: 4.14 ms, total: 980 ms\n",
      "Wall time: 975 ms\n"
     ]
    }
   ],
   "source": [
    "%%time\n",
    "gk_1 = GaussianKernel(samples=df_1, grid_shape=(100, 100))"
   ]
  },
  {
   "cell_type": "code",
   "execution_count": 19,
   "id": "f8ada78b",
   "metadata": {},
   "outputs": [
    {
     "name": "stdout",
     "output_type": "stream",
     "text": [
      "CPU times: user 998 ms, sys: 0 ns, total: 998 ms\n",
      "Wall time: 995 ms\n"
     ]
    }
   ],
   "source": [
    "%%time\n",
    "gk_1_nb = GaussianKernel(samples=df_1, grid_shape=(100, 100), computation_mode=ComputationMode.Numba)"
   ]
  },
  {
   "cell_type": "code",
   "execution_count": 20,
   "id": "eeabf6ef",
   "metadata": {},
   "outputs": [
    {
     "name": "stdout",
     "output_type": "stream",
     "text": [
      "CPU times: user 1.94 ms, sys: 0 ns, total: 1.94 ms\n",
      "Wall time: 1.88 ms\n"
     ]
    }
   ],
   "source": [
    "%%time \n",
    "_ = gk_1._compute_expected_value_function(grid=gk_1.grid, p=gk_1.p)"
   ]
  },
  {
   "cell_type": "code",
   "execution_count": 21,
   "id": "43f7f041",
   "metadata": {},
   "outputs": [
    {
     "name": "stdout",
     "output_type": "stream",
     "text": [
      "CPU times: user 157 µs, sys: 13 µs, total: 170 µs\n",
      "Wall time: 176 µs\n"
     ]
    }
   ],
   "source": [
    "%%time\n",
    "_ = gk_1_nb._compute_expected_value_function(grid=gk_1_nb.grid, p=gk_1_nb.p)"
   ]
  },
  {
   "cell_type": "code",
   "execution_count": 22,
   "id": "6b7b3877",
   "metadata": {},
   "outputs": [
    {
     "data": {
      "text/plain": [
       "array([[ 0.00000000e+00,  1.06969697e+00,  2.13939394e+00,\n",
       "         3.20909091e+00,  4.27878788e+00,  5.34848485e+00,\n",
       "         6.41818182e+00,  7.48787879e+00,  8.55757576e+00,\n",
       "         9.62727273e+00,  1.06969697e+01,  1.17666667e+01,\n",
       "         1.28363636e+01,  1.39060606e+01,  1.49757576e+01,\n",
       "         1.60454545e+01,  1.71151515e+01,  1.81848485e+01,\n",
       "         1.92545455e+01,  2.03242424e+01,  2.13939394e+01,\n",
       "         2.24636364e+01,  2.35333333e+01,  2.46030303e+01,\n",
       "         2.56727273e+01,  2.67424242e+01,  2.78121212e+01,\n",
       "         2.88818182e+01,  2.99515152e+01,  3.10212121e+01,\n",
       "         3.20909091e+01,  3.31606061e+01,  3.42303030e+01,\n",
       "         3.53000000e+01,  3.63696970e+01,  3.74393939e+01,\n",
       "         3.85090909e+01,  3.95787879e+01,  4.06484848e+01,\n",
       "         4.17181818e+01,  4.27878788e+01,  4.38575758e+01,\n",
       "         4.49272727e+01,  4.59969697e+01,  4.70666667e+01,\n",
       "         4.81363636e+01,  4.92060606e+01,  5.02757576e+01,\n",
       "         5.13454545e+01,  5.24151515e+01,  5.34848485e+01,\n",
       "         5.45545455e+01,  5.56242424e+01,  5.66939394e+01,\n",
       "         5.77636364e+01,  5.88333333e+01,  5.99030303e+01,\n",
       "         6.09727273e+01,  6.20424242e+01,  6.31121212e+01,\n",
       "         6.41818182e+01,  6.52515152e+01,  6.63212121e+01,\n",
       "         6.73909091e+01,  6.84606061e+01,  6.95303030e+01,\n",
       "         7.06000000e+01,  7.16696970e+01,  7.27393939e+01,\n",
       "         7.38090909e+01,  7.48787879e+01,  7.59484848e+01,\n",
       "         7.70181818e+01,  7.80878788e+01,  7.91575758e+01,\n",
       "         8.02272727e+01,  8.12969697e+01,  8.23666667e+01,\n",
       "         8.34363636e+01,  8.45060606e+01,  8.55757576e+01,\n",
       "         8.66454545e+01,  8.77151515e+01,  8.87848485e+01,\n",
       "         8.98545455e+01,  9.09242424e+01,  9.19939394e+01,\n",
       "         9.30636364e+01,  9.41333333e+01,  9.52030303e+01,\n",
       "         9.62727273e+01,  9.73424242e+01,  9.84121212e+01,\n",
       "         9.94818182e+01,  1.00551515e+02,  1.01621212e+02,\n",
       "         1.02690909e+02,  1.03760606e+02,  1.04830303e+02,\n",
       "         1.05900000e+02],\n",
       "       [ 9.48442468e+00,  9.88817526e+00,  1.03513692e+01,\n",
       "         1.07858302e+01,  1.10753459e+01,  1.11153802e+01,\n",
       "         1.08555766e+01,  1.03179991e+01,  9.58266330e+00,\n",
       "         8.75338214e+00,  7.92445929e+00,  7.16277661e+00,\n",
       "         6.50586674e+00,  5.96573825e+00,  5.53161703e+00,\n",
       "         5.17569297e+00,  4.86602504e+00,  4.58017669e+00,\n",
       "         4.31063622e+00,  4.06144290e+00,  3.84111495e+00,\n",
       "         3.65577246e+00,  3.50386672e+00,  3.37361098e+00,\n",
       "         3.24494444e+00,  3.09670837e+00,  2.91574107e+00,\n",
       "         2.70190796e+00,  2.46608648e+00,  2.22375004e+00,\n",
       "         1.98871588e+00,  1.76948136e+00,  1.56819838e+00,\n",
       "         1.38162319e+00,  1.20355771e+00,  1.02810859e+00,\n",
       "         8.52368740e-01,  6.77046018e-01,  5.04935938e-01,\n",
       "         3.38747644e-01,  1.79900117e-01,  2.86054124e-02,\n",
       "        -1.15652070e-01, -2.54150914e-01, -3.89396400e-01,\n",
       "        -5.25120701e-01, -6.65351516e-01, -8.13250641e-01,\n",
       "        -9.70786103e-01, -1.13933824e+00, -1.32023822e+00,\n",
       "        -1.51424736e+00, -1.72008738e+00, -1.93333022e+00,\n",
       "        -2.14715625e+00, -2.35523512e+00, -2.55511327e+00,\n",
       "        -2.74984625e+00, -2.94696601e+00, -3.15565930e+00,\n",
       "        -3.38344898e+00, -3.63296415e+00, -3.89906233e+00,\n",
       "        -4.16733615e+00, -4.41589140e+00, -4.62125966e+00,\n",
       "        -4.76619853e+00, -4.84528648e+00, -4.86663846e+00,\n",
       "        -4.85216849e+00, -4.83895062e+00, -4.87851249e+00,\n",
       "        -5.02571288e+00, -5.31703079e+00, -5.75703870e+00,\n",
       "        -6.32966911e+00, -7.02117943e+00, -7.82800913e+00,\n",
       "        -8.74161221e+00, -9.72865945e+00, -1.07330909e+01,\n",
       "        -1.17022149e+01, -1.26095130e+01, -1.34545916e+01,\n",
       "        -1.42480068e+01, -1.49973173e+01, -1.57033366e+01,\n",
       "        -1.63679499e+01, -1.70090734e+01, -1.76711384e+01,\n",
       "        -1.84153662e+01, -1.92861333e+01, -2.02773546e+01,\n",
       "        -2.13317795e+01, -2.23735105e+01, -2.33413624e+01,\n",
       "        -2.41998877e+01, -2.49323312e+01, -2.55307552e+01,\n",
       "        -2.59931014e+01]])"
      ]
     },
     "execution_count": 22,
     "metadata": {},
     "output_type": "execute_result"
    }
   ],
   "source": [
    "gk_1.expected_value_function"
   ]
  },
  {
   "cell_type": "code",
   "execution_count": 23,
   "id": "aa77b5fd",
   "metadata": {},
   "outputs": [
    {
     "data": {
      "text/plain": [
       "0.000000       9.484425\n",
       "1.069697       9.888175\n",
       "2.139394      10.351369\n",
       "3.209091      10.785830\n",
       "4.278788      11.075346\n",
       "                ...    \n",
       "101.621212   -23.341362\n",
       "102.690909   -24.199888\n",
       "103.760606   -24.932331\n",
       "104.830303   -25.530755\n",
       "105.900000   -25.993101\n",
       "Length: 100, dtype: float64"
      ]
     },
     "execution_count": 23,
     "metadata": {},
     "output_type": "execute_result"
    }
   ],
   "source": [
    "pd.Series(gk_1.expected_value_function[1, :], index=gk_1.expected_value_function[0, :]) "
   ]
  },
  {
   "cell_type": "code",
   "execution_count": 24,
   "id": "43343ba8",
   "metadata": {},
   "outputs": [
    {
     "ename": "NameError",
     "evalue": "name 'd_1_hour_stats' is not defined",
     "output_type": "error",
     "traceback": [
      "\u001b[0;31m---------------------------------------------------------------------------\u001b[0m",
      "\u001b[0;31mNameError\u001b[0m                                 Traceback (most recent call last)",
      "\u001b[0;32m/tmp/ipykernel_47012/3454119713.py\u001b[0m in \u001b[0;36m<module>\u001b[0;34m\u001b[0m\n\u001b[1;32m      1\u001b[0m np.average(\n\u001b[0;32m----> 2\u001b[0;31m     \u001b[0md_1_hour_stats\u001b[0m\u001b[0;34m[\u001b[0m\u001b[0;36m1\u001b[0m\u001b[0;34m]\u001b[0m\u001b[0;34m[\u001b[0m\u001b[0;34m\"expected_value_x\"\u001b[0m\u001b[0;34m]\u001b[0m\u001b[0;34m.\u001b[0m\u001b[0mvalues\u001b[0m\u001b[0;34m,\u001b[0m\u001b[0;34m\u001b[0m\u001b[0;34m\u001b[0m\u001b[0m\n\u001b[0m\u001b[1;32m      3\u001b[0m     weights=d_1_hour_stats[1][\"kernel\"](np.vstack([\n\u001b[1;32m      4\u001b[0m         \u001b[0md_1_hour_stats\u001b[0m\u001b[0;34m[\u001b[0m\u001b[0;36m1\u001b[0m\u001b[0;34m]\u001b[0m\u001b[0;34m[\u001b[0m\u001b[0;34m\"expected_value_x\"\u001b[0m\u001b[0;34m]\u001b[0m\u001b[0;34m.\u001b[0m\u001b[0mindex\u001b[0m\u001b[0;34m,\u001b[0m \u001b[0md_1_hour_stats\u001b[0m\u001b[0;34m[\u001b[0m\u001b[0;36m1\u001b[0m\u001b[0;34m]\u001b[0m\u001b[0;34m[\u001b[0m\u001b[0;34m\"expected_value_x\"\u001b[0m\u001b[0;34m]\u001b[0m\u001b[0;34m.\u001b[0m\u001b[0mvalues\u001b[0m\u001b[0;34m\u001b[0m\u001b[0;34m\u001b[0m\u001b[0m\n\u001b[1;32m      5\u001b[0m     ])) \n",
      "\u001b[0;31mNameError\u001b[0m: name 'd_1_hour_stats' is not defined"
     ]
    }
   ],
   "source": [
    "np.average(\n",
    "    d_1_hour_stats[1][\"expected_value_x\"].values,\n",
    "    weights=d_1_hour_stats[1][\"kernel\"](np.vstack([\n",
    "        d_1_hour_stats[1][\"expected_value_x\"].index, d_1_hour_stats[1][\"expected_value_x\"].values\n",
    "    ])) \n",
    ")"
   ]
  },
  {
   "cell_type": "code",
   "execution_count": null,
   "id": "584983dd",
   "metadata": {},
   "outputs": [],
   "source": [
    "gk_1.expected_value"
   ]
  },
  {
   "cell_type": "code",
   "execution_count": null,
   "id": "ef2a7212",
   "metadata": {},
   "outputs": [],
   "source": [
    "gk_1.most_likely"
   ]
  },
  {
   "cell_type": "code",
   "execution_count": null,
   "id": "a7892809",
   "metadata": {},
   "outputs": [],
   "source": [
    "gk_1.expected_value_from_most_likely"
   ]
  },
  {
   "cell_type": "code",
   "execution_count": null,
   "id": "5cd0791e",
   "metadata": {},
   "outputs": [],
   "source": [
    "d_1_hour_stats[1][\"expected_value_x\"].iloc[30:60]"
   ]
  },
  {
   "cell_type": "code",
   "execution_count": null,
   "id": "16bca3e4",
   "metadata": {
    "scrolled": true
   },
   "outputs": [],
   "source": [
    "fig, axis = plt.subplots(6, 4, figsize=(25, 32))\n",
    "\n",
    "xnew = np.arange(0, 150) \n",
    "for i, ax_list in enumerate(axis):\n",
    "    for j, ax in enumerate(ax_list):\n",
    "        h = 1 + i*4+j\n",
    "        plot_samples_kernel_mean_expected(ax=ax, h_stats=d_1_hour_stats[h])\n",
    "        ax.set_xlabel(\"\")\n",
    "        ax.set_title(f\"Hour = {h}\")\n",
    "        ax.set_xlim(0, 100)\n",
    "        ax.set_ylim(-50, 50)\n",
    "\n",
    "fig.text(0.5, 0.11, \"spot price, $X_d^{h}$ [€/MWh]\", ha=\"center\", va=\"center\", fontdict={\"size\": 20})\n",
    "fig.text(0.1, 0.5, \"spot price difference $X_{d+1}^{h} - X_{d}^{h}$ [€/MWh]\", ha=\"center\", va=\"center\",\n",
    "         fontdict={\"size\": 20}, rotation=90)\n",
    "\n",
    "custom_lines = [Line2D([0], [0], color=\"red\", lw=2, alpha=0.7),\n",
    "                Line2D([0], [0], color=\"blue\", lw=2)]\n",
    "fig.legend(custom_lines, \n",
    "           [\"Empirical mean spot price difference\", \"Expected spot price difference from Gaussian KDE\"],\n",
    "           ncol=2, loc = (0.2, 0.935), prop={\"size\": 18})\n",
    "plt.show()"
   ]
  },
  {
   "cell_type": "markdown",
   "id": "953789d5",
   "metadata": {},
   "source": [
    "$$ D_2^{h, j} $$"
   ]
  },
  {
   "cell_type": "markdown",
   "id": "d6aa7e82",
   "metadata": {},
   "source": [
    "#### Diagonal $D_2^{h, j} \\quad h=j$"
   ]
  },
  {
   "cell_type": "code",
   "execution_count": 25,
   "id": "f671fa06",
   "metadata": {},
   "outputs": [],
   "source": [
    "def plot_diffusion_diagonal_with_kernel(df: pd.DataFrame, \n",
    "                                 diff_col_name: str, \n",
    "                                 x_grid: np.ndarray,\n",
    "                                 y_grid: np.ndarray,\n",
    "                                 p: np.ndarray):\n",
    "    \n",
    "    fig, axes = plt.subplots(1, 4, figsize=(20, 7))\n",
    "    y_scales = [1, 1/10, 1/20, 1/100]\n",
    "    for ax, scale_factor in zip(axes, y_scales):\n",
    "        ax.plot(df[\"x_label\"], df[diff_col_name], 'k.', markersize=2, alpha=0.2)\n",
    "        cs = ax.contourf(x_grid, y_grid, p, levels=100, cmap=plt.cm.gist_earth_r, \n",
    "                          alpha=0.7, antialiased=True)\n",
    "        ax.set_ylim(0, df[diff_col_name].max()*scale_factor)\n",
    "    plt.show()\n",
    "    \n",
    "def compare_expected_and_mean(historical_samples: pd.Series,\n",
    "                             expected_value_x: pd.Series,\n",
    "                             kernel: stats.kde.gaussian_kde,\n",
    "                             hour: int):\n",
    "    \n",
    "    historical_mean = historical_samples.mean()\n",
    "    expected_value_kernel = np.average(\n",
    "        expected_value_x.values, weights=kernel(np.vstack([expected_value_x.index, expected_value_x.values]))\n",
    "    )\n",
    "    print(f\"Hour: {hour} -> Historical mean: {historical_mean:.2f} - \" + \\\n",
    "          f\"Expected value from kernel: {expected_value_kernel:.2f}\")\n",
    "    \n",
    "    return expected_value_kernel\n",
    "    \n",
    "    \n",
    "def compute_diffusion_diagonal(vector_ts: VectorTimeSeries, hour: int, \n",
    "                               x_mesh_num_points: int, y_mesh_num_points: int):\n",
    "    \n",
    "    x_label_col_name = vector_ts.x_col_name\n",
    "    x_label_2_col_name = vector_ts.x_two_col_names[hour-1]\n",
    "    diff_col_name = vector_ts.diffusion_cols[hour-1]\n",
    "    cols = [vector_ts.x_col_name, x_label_2_col_name, diff_col_name]\n",
    "    \n",
    "    diff_df = vector_ts.df.query(f\"hour == {hour}\")[cols]\n",
    "    \n",
    "    train_df = diff_df[[x_label_col_name, diff_col_name]].dropna()\n",
    "    \n",
    "    kernel, values = fit_gaussian_kde(df=train_df)\n",
    "    \n",
    "    # in this case, D_2 cannot be negative, but the underlying fit approximates better\n",
    "    mesh, x_grid, y_grid = generate_mesh(values=values, \n",
    "                                         x_num=x_mesh_num_points, y_num=y_mesh_num_points,\n",
    "                                         ymin=-100)\n",
    "    \n",
    "    p = compute_mesh_probability(kernel=kernel, mesh=mesh, new_shape=x_grid.shape)\n",
    "    \n",
    "    expected_value_x = compute_expected_value(x_grid=x_grid, y_grid=y_grid, p=p)\n",
    "    historical_mean_x = compute_historical_mean(df=train_df, \n",
    "                                                x_label_col_name=x_label_col_name, \n",
    "                                                value_col_name=diff_col_name)\n",
    "    \n",
    "    stats_h = {\n",
    "        \"values\":values,\n",
    "        \"x_grid\": x_grid,\n",
    "        \"y_grid\": y_grid,\n",
    "        \"p\": p,\n",
    "        \"expected_value_x\": expected_value_x,\n",
    "        \"historical_mean_x\": historical_mean_x,\n",
    "        \"kernel\": kernel\n",
    "    }\n",
    "    \n",
    "    #plot_diffusion_diagonal_with_kernel(df=diff_df, diff_col_name=diff_col_name, \n",
    "    #                             x_grid=x_grid, y_grid=y_grid, p=p)\n",
    "    \n",
    "    fig, ax = plt.subplots(figsize=(10, 7))\n",
    "    plot_samples_kernel_mean_expected(ax=ax, h_stats=stats_h, ymax_lim=historical_mean_x.max())\n",
    "    ax.set_xlabel(f\"spot price, $X_d^{{{hour}}}$ [€/MWh]\")\n",
    "    ax.set_ylabel(f\"Diffusion coefficient $(X_{{d+1}}^{{{hour}}} - X_{{d}}^{{{hour}}})^2$ [$(€/MWh)^2$]\")\n",
    "    ax.set_title(f\"Diffusion hour = {hour}\")\n",
    "    plt.show()\n",
    "    \n",
    "    stats_h[\"expected_diff\"] = compare_expected_and_mean(historical_samples=diff_df[diff_col_name],\n",
    "                              expected_value_x=expected_value_x,\n",
    "                              kernel=kernel, \n",
    "                              hour=hour)\n",
    "    \n",
    "    # compute expected diff from most likely price\n",
    "    kernel_prices, values_prices = fit_gaussian_kde(df=train_df[x_label_col_name])\n",
    "    p_price = compute_mesh_probability(kernel=kernel_prices, mesh=x_grid[:, 0], new_shape=x_grid[:, 0].shape)\n",
    "    stats_h[\"price_probability\"] = p_price\n",
    "    \n",
    "    return stats_h"
   ]
  },
  {
   "cell_type": "code",
   "execution_count": null,
   "id": "2e81ee6c",
   "metadata": {
    "scrolled": true
   },
   "outputs": [],
   "source": [
    "%%time\n",
    "d_2_diag_hour_stats = {}\n",
    "for i in range(1, 25):\n",
    "    d_2_diag_hour_stats[i] = compute_diffusion_diagonal(vector_ts=s_kde, \n",
    "                                                        hour=i, \n",
    "                                                        x_mesh_num_points=100, \n",
    "                                                        y_mesh_num_points=100)"
   ]
  },
  {
   "cell_type": "code",
   "execution_count": null,
   "id": "623725ec",
   "metadata": {},
   "outputs": [],
   "source": [
    "d_2_diag_hour_stats[23]"
   ]
  },
  {
   "cell_type": "code",
   "execution_count": null,
   "id": "f6ceeb8b",
   "metadata": {},
   "outputs": [],
   "source": [
    "df_d_2_23 = s_kde.df.query(\"hour == 23\")[[\"x_label\", \"diffusion_h_23\"]].dropna()"
   ]
  },
  {
   "cell_type": "code",
   "execution_count": null,
   "id": "24e031d5",
   "metadata": {},
   "outputs": [],
   "source": [
    "%%time\n",
    "gk_d2_23 = GaussianKernel(samples=df_d_2_23, grid_shape=(100, 100), ymin=-100)"
   ]
  },
  {
   "cell_type": "code",
   "execution_count": null,
   "id": "265e434f",
   "metadata": {},
   "outputs": [],
   "source": [
    "pd.Series(gk_d2_23.expected_value_function[1, :], index=gk_d2_23.expected_value_function[0, :])"
   ]
  },
  {
   "cell_type": "code",
   "execution_count": null,
   "id": "9e58f841",
   "metadata": {},
   "outputs": [],
   "source": [
    "d_2_diag_hour_stats[23][\"expected_value_x\"]"
   ]
  },
  {
   "cell_type": "code",
   "execution_count": null,
   "id": "1637c2cb",
   "metadata": {
    "scrolled": true
   },
   "outputs": [],
   "source": [
    "gk_d2_23.expected_value_function"
   ]
  },
  {
   "cell_type": "code",
   "execution_count": null,
   "id": "0a3d7ab6",
   "metadata": {},
   "outputs": [],
   "source": [
    "gk_d2_23.most_likely"
   ]
  },
  {
   "cell_type": "code",
   "execution_count": null,
   "id": "8ce89bbc",
   "metadata": {},
   "outputs": [],
   "source": [
    "foo = np.unravel_index(d_2_diag_hour_stats[23][\"p\"].argmax(),\n",
    "           d_2_diag_hour_stats[23][\"p\"].shape) "
   ]
  },
  {
   "cell_type": "code",
   "execution_count": null,
   "id": "9e4a09c2",
   "metadata": {},
   "outputs": [],
   "source": [
    "foo"
   ]
  },
  {
   "cell_type": "code",
   "execution_count": null,
   "id": "fa5e7468",
   "metadata": {},
   "outputs": [],
   "source": [
    "d_2_diag_hour_stats[23][\"price_probability\"].argmax()"
   ]
  },
  {
   "cell_type": "code",
   "execution_count": null,
   "id": "1a2f9411",
   "metadata": {},
   "outputs": [],
   "source": [
    "d_2_diag_hour_stats[23][\"y_grid\"][47][3]"
   ]
  },
  {
   "cell_type": "code",
   "execution_count": null,
   "id": "16c03b21",
   "metadata": {},
   "outputs": [],
   "source": [
    "d_2_diag_hour_stats[23][\"expected_value_x\"].iloc[47]#[3]"
   ]
  },
  {
   "cell_type": "code",
   "execution_count": null,
   "id": "556fc649",
   "metadata": {},
   "outputs": [],
   "source": [
    "gk_d2_23.expected_value_from_most_likely"
   ]
  },
  {
   "cell_type": "code",
   "execution_count": null,
   "id": "81a38fec",
   "metadata": {},
   "outputs": [],
   "source": [
    "d_2_diag_hour_stats[23][\"expected_diff\"]"
   ]
  },
  {
   "cell_type": "code",
   "execution_count": null,
   "id": "832cc9b5",
   "metadata": {},
   "outputs": [],
   "source": [
    "gk_d2_23.expected_value"
   ]
  },
  {
   "cell_type": "code",
   "execution_count": null,
   "id": "bcd8bd20",
   "metadata": {},
   "outputs": [],
   "source": [
    "gk_d2_23.most_likely"
   ]
  },
  {
   "cell_type": "markdown",
   "id": "094a6a68",
   "metadata": {},
   "source": [
    "#### Non-diagonal $D_2^{h, j} \\quad h \\neq j$"
   ]
  },
  {
   "cell_type": "code",
   "execution_count": 26,
   "id": "3dd7ee2d",
   "metadata": {},
   "outputs": [],
   "source": [
    "def compute_expected_surface(x_grid: np.ndarray, y_grid: np.ndarray, z_grid: np.ndarray, p: np.ndarray):\n",
    "    \n",
    "    x_grid_prices = x_grid[:, :, 0]\n",
    "    y_grid_prices = y_grid[:, :, 0]\n",
    "    mesh_prices = np.vstack([x_grid_prices.ravel(), y_grid_prices.ravel()])\n",
    "    \n",
    "    mean_d = np.zeros_like(x_grid_prices.ravel())\n",
    "    for i, x in enumerate(range(x_grid.shape[0])):\n",
    "        for j, y in enumerate(range(y_grid[i].shape[0])):\n",
    "            # if sum of probabilities across z is 0 do not compute average\n",
    "            if np.sum(p[i][j]) == 0:\n",
    "                # change\n",
    "                mean_d[i*y_grid.shape[1]+j] = 0\n",
    "            else:\n",
    "                # change\n",
    "                mean_d[i*y_grid.shape[1]+j] = np.average(z_grid[i][j], weights=p[i][j])\n",
    "            \n",
    "    return np.vstack([mesh_prices, mean_d])\n",
    "\n",
    "def compute_expected_diff_coefficient_from_prob(kernel: stats.kde.gaussian_kde,\n",
    "                                                expected_surface: np.ndarray):\n",
    "    return np.average(expected_surface[2, :], weights=kernel(expected_surface))\n",
    "\n",
    "def compute_expected_diff_from_most_likely_price(df: pd.DataFrame, \n",
    "                                                 x_grid: np.ndarray,\n",
    "                                                 y_grid: np.ndarray,\n",
    "                                                 expected_surface: np.ndarray):\n",
    "    \n",
    "    kernel_prices, values_prices = fit_gaussian_kde(df=df)\n",
    "    \n",
    "    x_grid_prices = x_grid[:, :, 0]\n",
    "    y_grid_prices = y_grid[:, :, 0]\n",
    "    mesh_prices = np.vstack([x_grid_prices.ravel(), y_grid_prices.ravel()])\n",
    "\n",
    "    p_prices = compute_mesh_probability(kernel=kernel_prices, mesh=mesh_prices, new_shape=x_grid_prices.shape)\n",
    "    \n",
    "    #fig, ax = plt.subplots(figsize=(10, 7))\n",
    "    #cs = ax.contourf(x_grid_prices, y_grid_prices, p_prices,\n",
    "    #                levels=100, cmap=plt.cm.gist_earth_r, alpha=0.7, antialiased=True)\n",
    "    #plt.show()\n",
    "    \n",
    "    max_i, max_j = np.unravel_index(p_prices.argmax(), p_prices.shape)\n",
    "    #print(f\"Most likely price (X_d^{{i}}, X_d^{{j}}):\" + \\\n",
    "    #      f\"({x_grid_prices[max_i][max_j]}, {y_grid_prices[max_i][max_j]})\")\n",
    "    #print(f\"Expected diffusion coeffcient from most likely price (X^{{i}}, X^{{j}}, D_2):\" + \\\n",
    "    #      f\"{expected_surface[:, p_prices.argmax()]}\")\n",
    "    return expected_surface[:, p_prices.argmax()]\n",
    "    "
   ]
  },
  {
   "cell_type": "code",
   "execution_count": 27,
   "id": "7c0bf148",
   "metadata": {},
   "outputs": [],
   "source": [
    "def compute_diffusion_non_diagonal(vector_ts: VectorTimeSeries, hour_i: int, hour_j: int, \n",
    "                                   x_mesh_num_points: int, y_mesh_num_points: int, z_mesh_num_points: int):\n",
    "    \n",
    "    x_label_col_name = vector_ts.x_col_name\n",
    "    x_label_2_col_name = vector_ts.x_two_col_names[hour_j-1]\n",
    "    diff_col_name = vector_ts.diffusion_cols[hour_j-1]\n",
    "    cols = [x_label_col_name, x_label_2_col_name, diff_col_name]\n",
    "    \n",
    "    diff_df = vector_ts.df.query(f\"hour == {hour_i}\")[cols]\n",
    "    \n",
    "    train_df = diff_df.copy(deep=True).dropna()\n",
    "    \n",
    "    kernel, values = fit_gaussian_kde(df=train_df)\n",
    "    \n",
    "    mesh, x_grid, y_grid, z_grid = generate_mesh(values=values, \n",
    "                                                 x_num=x_mesh_num_points, \n",
    "                                                 y_num=y_mesh_num_points, \n",
    "                                                 z_num=z_mesh_num_points)\n",
    "    \n",
    "    p = compute_mesh_probability(kernel=kernel, mesh=mesh, new_shape=x_grid.shape)\n",
    "    \n",
    "    expected_surface = compute_expected_surface(x_grid=x_grid, y_grid=y_grid, z_grid=z_grid, p=p)\n",
    "    \n",
    "    #fig = plt.figure(figsize=(20, 12))\n",
    "    #ax = fig.add_subplot(111, projection='3d')\n",
    "    #ax.plot_trisurf(expected_surface[0], expected_surface[1], expected_surface[2], alpha=0.7)\n",
    "    #plt.show()\n",
    "    \n",
    "    # average of expected D_2 based on probability of each D_2 point (X_i, X_j, expected D_2)\n",
    "    expected_diff = compute_expected_diff_coefficient_from_prob(kernel=kernel,\n",
    "                                                                expected_surface=expected_surface)\n",
    "    \n",
    "    #print(f\"Expected D_2: {expected_coefficient:.4f}\")\n",
    "    \n",
    "    # expected D_2 of most likely price (X_i, X_j)\n",
    "    prices_df = diff_df[[x_label_col_name, x_label_2_col_name]].dropna()\n",
    "    expected_diff_most_likely_price = compute_expected_diff_from_most_likely_price(\n",
    "        df=prices_df, x_grid=x_grid, y_grid=y_grid, expected_surface=expected_surface\n",
    "    )\n",
    "    \n",
    "    x_index, y_index, z_index = np.unravel_index(p.argmax(), p.shape)\n",
    "    most_likely_diff = np.array([\n",
    "        x_grid[x_index][y_index][z_index], y_grid[x_index][y_index][z_index], z_grid[x_index][y_index][z_index]\n",
    "    ])\n",
    "    #print(f\"Most likely D_2 (X^{{i}}, X^{{j}}, D_2): {x_grid[x_index][y_index][z_index]:.2f}, {y_grid[x_index][y_index][z_index]:.2f}, \" + \\\n",
    "    #      f\"{z_grid[x_index][y_index][z_index]:.4f}\")\n",
    "    return{\n",
    "        \"hour_i\": hour_i,\n",
    "        \"hour_j\": hour_j,\n",
    "        \"expected_diff\": expected_diff,\n",
    "        \"expected_diff_most_likely_price\": expected_diff_most_likely_price,\n",
    "        \"most_likely_diff\": most_likely_diff,\n",
    "        \"kernel\": kernel #TODO: remove it!\n",
    "    }\n",
    "    "
   ]
  },
  {
   "cell_type": "code",
   "execution_count": null,
   "id": "d711039f",
   "metadata": {},
   "outputs": [],
   "source": [
    "%%time\n",
    "foo = compute_diffusion_non_diagonal(\n",
    "    vector_ts=s_kde, hour_i=24, hour_j=23, x_mesh_num_points=100, y_mesh_num_points=100, z_mesh_num_points=100\n",
    ")"
   ]
  },
  {
   "cell_type": "code",
   "execution_count": null,
   "id": "dc61ca40",
   "metadata": {},
   "outputs": [],
   "source": [
    "foo"
   ]
  },
  {
   "cell_type": "code",
   "execution_count": 28,
   "id": "935f4ae9",
   "metadata": {},
   "outputs": [
    {
     "name": "stdout",
     "output_type": "stream",
     "text": [
      "CPU times: user 2min 13s, sys: 764 ms, total: 2min 14s\n",
      "Wall time: 2min 23s\n"
     ]
    }
   ],
   "source": [
    "%%time\n",
    "df_d_2_23_24 = s_kde.df.query(\"hour == 24\")[[\"x_label\", \"x_label_2_h_23\", \"diffusion_h_23\"]].dropna()\n",
    "gk_d2_23_24 = GaussianKernel(samples=df_d_2_23_24, grid_shape=(100, 100, 100))"
   ]
  },
  {
   "cell_type": "code",
   "execution_count": 33,
   "id": "b0a3bc79",
   "metadata": {},
   "outputs": [
    {
     "name": "stdout",
     "output_type": "stream",
     "text": [
      "CPU times: user 2min 19s, sys: 645 ms, total: 2min 20s\n",
      "Wall time: 2min 25s\n"
     ]
    }
   ],
   "source": [
    "%%time\n",
    "gk_d2_23_24_nb = GaussianKernel(samples=df_d_2_23_24, grid_shape=(100, 100, 100), \n",
    "                             computation_mode=ComputationMode.Numba)"
   ]
  },
  {
   "cell_type": "code",
   "execution_count": 34,
   "id": "8c596905",
   "metadata": {},
   "outputs": [
    {
     "name": "stdout",
     "output_type": "stream",
     "text": [
      "CPU times: user 330 ms, sys: 13 µs, total: 330 ms\n",
      "Wall time: 369 ms\n"
     ]
    }
   ],
   "source": [
    "%%time\n",
    "_ = gk_d2_23_24._compute_expected_value_function(grid=gk_d2_23_24.grid, p=gk_d2_23_24.p)"
   ]
  },
  {
   "cell_type": "code",
   "execution_count": 35,
   "id": "0d7dd7b1",
   "metadata": {},
   "outputs": [
    {
     "name": "stdout",
     "output_type": "stream",
     "text": [
      "CPU times: user 9.64 ms, sys: 14 µs, total: 9.65 ms\n",
      "Wall time: 9.01 ms\n"
     ]
    }
   ],
   "source": [
    "%%time\n",
    "_ = gk_d2_23_24_nb._compute_expected_value_function(grid=gk_d2_23_24_nb.grid, p=gk_d2_23_24_nb.p)"
   ]
  },
  {
   "cell_type": "code",
   "execution_count": 36,
   "id": "f5ab1578",
   "metadata": {},
   "outputs": [],
   "source": [
    "np.testing.assert_allclose(gk_d2_23_24.expected_value_function, gk_d2_23_24_nb.expected_value_function, rtol=1e-10)"
   ]
  },
  {
   "cell_type": "code",
   "execution_count": null,
   "id": "1c61f4dd",
   "metadata": {},
   "outputs": [],
   "source": []
  },
  {
   "cell_type": "code",
   "execution_count": null,
   "id": "b38a5e8d",
   "metadata": {},
   "outputs": [],
   "source": []
  },
  {
   "cell_type": "code",
   "execution_count": null,
   "id": "c71abbd7",
   "metadata": {},
   "outputs": [],
   "source": []
  },
  {
   "cell_type": "code",
   "execution_count": null,
   "id": "fc9e9861",
   "metadata": {},
   "outputs": [],
   "source": []
  },
  {
   "cell_type": "code",
   "execution_count": null,
   "id": "73adf936",
   "metadata": {},
   "outputs": [],
   "source": [
    "gk_d2_23_24.expected_value"
   ]
  },
  {
   "cell_type": "code",
   "execution_count": null,
   "id": "81bb1c90",
   "metadata": {},
   "outputs": [],
   "source": [
    "gk_d2_23_24.most_likely"
   ]
  },
  {
   "cell_type": "code",
   "execution_count": null,
   "id": "67cdf2d4",
   "metadata": {},
   "outputs": [],
   "source": [
    "gk_d2_23_24.expected_value_from_most_likely"
   ]
  },
  {
   "cell_type": "code",
   "execution_count": null,
   "id": "5391f163",
   "metadata": {},
   "outputs": [],
   "source": [
    "np.unravel_index(gk_d2_23_24.p.argmax(), gk_d2_23_24.p.shape)"
   ]
  },
  {
   "cell_type": "code",
   "execution_count": null,
   "id": "89685500",
   "metadata": {},
   "outputs": [],
   "source": [
    "gk_d2_23_24.p.shape"
   ]
  },
  {
   "cell_type": "code",
   "execution_count": null,
   "id": "bee18c0e",
   "metadata": {},
   "outputs": [],
   "source": [
    "gk_d2_23_24.grid[0].shape[0]"
   ]
  },
  {
   "cell_type": "code",
   "execution_count": null,
   "id": "ae374b8e",
   "metadata": {},
   "outputs": [],
   "source": [
    "20*30"
   ]
  },
  {
   "cell_type": "code",
   "execution_count": null,
   "id": "fdf2536c",
   "metadata": {},
   "outputs": [],
   "source": [
    "gk_d2_23_24.expected_value_function[:, 18*30+10]"
   ]
  },
  {
   "cell_type": "code",
   "execution_count": null,
   "id": "48da8007",
   "metadata": {},
   "outputs": [],
   "source": [
    "gk_d2_23_24.grid[0][18, 0, 0]"
   ]
  },
  {
   "cell_type": "code",
   "execution_count": null,
   "id": "366860bd",
   "metadata": {},
   "outputs": [],
   "source": [
    "gk_d2_23_24.grid[1][0, 10, 0]"
   ]
  },
  {
   "cell_type": "code",
   "execution_count": null,
   "id": "a91f557c",
   "metadata": {},
   "outputs": [],
   "source": [
    "gk_d2_23_24.grid[2][18, 10]"
   ]
  },
  {
   "cell_type": "code",
   "execution_count": null,
   "id": "2e5aaa4e",
   "metadata": {},
   "outputs": [],
   "source": [
    "gk_d2_23_24.p[18, 10]"
   ]
  },
  {
   "cell_type": "code",
   "execution_count": null,
   "id": "140d0d33",
   "metadata": {},
   "outputs": [],
   "source": [
    "np.average(gk_d2_23_24.grid[2][18, 10], weights=gk_d2_23_24.p[18, 10])"
   ]
  },
  {
   "cell_type": "code",
   "execution_count": null,
   "id": "8a0a2e2f",
   "metadata": {},
   "outputs": [],
   "source": [
    "gk_d2_23_24.p.argmax()"
   ]
  },
  {
   "cell_type": "code",
   "execution_count": null,
   "id": "810a876b",
   "metadata": {},
   "outputs": [],
   "source": [
    "gk_d2_23_24.grid[0][9, 14, 3]"
   ]
  },
  {
   "cell_type": "code",
   "execution_count": null,
   "id": "2c011701",
   "metadata": {},
   "outputs": [],
   "source": [
    "gk_d2_23_24.grid[1][9, 14, 3]"
   ]
  },
  {
   "cell_type": "code",
   "execution_count": null,
   "id": "8a02eea5",
   "metadata": {},
   "outputs": [],
   "source": [
    "np.argwhere(gk_d2_23_24.grid[0][:, :, 0].ravel() == 51.02526315789474)"
   ]
  },
  {
   "cell_type": "code",
   "execution_count": null,
   "id": "a9fe42bb",
   "metadata": {},
   "outputs": [],
   "source": [
    "np.argwhere(gk_d2_23_24.grid[1][:, :, 0].ravel() == 53.10344827586207)"
   ]
  },
  {
   "cell_type": "code",
   "execution_count": null,
   "id": "9c96b096",
   "metadata": {},
   "outputs": [],
   "source": [
    "gk_d2_23_24.expected_value_function[:, 284]"
   ]
  },
  {
   "cell_type": "code",
   "execution_count": null,
   "id": "4c1eaea7",
   "metadata": {},
   "outputs": [],
   "source": [
    "np.where(gk_d2_23_24.expected_value_function[0, :] == 50.05171717)"
   ]
  },
  {
   "cell_type": "code",
   "execution_count": null,
   "id": "32db2539",
   "metadata": {},
   "outputs": [],
   "source": []
  },
  {
   "cell_type": "code",
   "execution_count": null,
   "id": "711b0703",
   "metadata": {},
   "outputs": [],
   "source": []
  },
  {
   "cell_type": "code",
   "execution_count": null,
   "id": "02c6fedd",
   "metadata": {},
   "outputs": [],
   "source": []
  },
  {
   "cell_type": "code",
   "execution_count": null,
   "id": "d47ae2ab",
   "metadata": {},
   "outputs": [],
   "source": [
    "foo[\"kernel\"].resample(size=1000000, seed=174)[2, :].mean()"
   ]
  },
  {
   "cell_type": "code",
   "execution_count": null,
   "id": "a8903dca",
   "metadata": {},
   "outputs": [],
   "source": [
    "foo"
   ]
  },
  {
   "cell_type": "code",
   "execution_count": null,
   "id": "14f546bb",
   "metadata": {},
   "outputs": [],
   "source": [
    "foo"
   ]
  },
  {
   "cell_type": "code",
   "execution_count": null,
   "id": "fe41d7e6",
   "metadata": {},
   "outputs": [],
   "source": [
    "foo"
   ]
  },
  {
   "cell_type": "code",
   "execution_count": null,
   "id": "05840783",
   "metadata": {},
   "outputs": [],
   "source": [
    "foo"
   ]
  },
  {
   "cell_type": "code",
   "execution_count": null,
   "id": "8c8101f5",
   "metadata": {},
   "outputs": [],
   "source": [
    "s.diffusion_matrix"
   ]
  },
  {
   "cell_type": "code",
   "execution_count": null,
   "id": "fdf20e74",
   "metadata": {},
   "outputs": [],
   "source": []
  },
  {
   "cell_type": "code",
   "execution_count": null,
   "id": "f654c71b",
   "metadata": {},
   "outputs": [],
   "source": []
  },
  {
   "cell_type": "code",
   "execution_count": null,
   "id": "ade82f05",
   "metadata": {},
   "outputs": [],
   "source": []
  },
  {
   "cell_type": "code",
   "execution_count": null,
   "id": "f80e7d89",
   "metadata": {},
   "outputs": [],
   "source": [
    "hour_i_list = []\n",
    "hour_j_list = []\n",
    "for i in np.arange(24, 1, -1):\n",
    "    for j in range(i-1, 0, -1):\n",
    "        hour_i_list.append(i)\n",
    "        hour_j_list.append(j)"
   ]
  },
  {
   "cell_type": "code",
   "execution_count": null,
   "id": "cbe0f023",
   "metadata": {},
   "outputs": [],
   "source": [
    "from joblib import Parallel, delayed"
   ]
  },
  {
   "cell_type": "code",
   "execution_count": null,
   "id": "59d9a079",
   "metadata": {},
   "outputs": [],
   "source": [
    "import pickle"
   ]
  },
  {
   "cell_type": "code",
   "execution_count": null,
   "id": "ceb9b650",
   "metadata": {},
   "outputs": [],
   "source": [
    "with open('d2_coefficients.pkl', 'rb') as f:\n",
    "    d2_coefficients_batch_1 = pickle.load(f)"
   ]
  },
  {
   "cell_type": "code",
   "execution_count": null,
   "id": "99158f95",
   "metadata": {},
   "outputs": [],
   "source": [
    "%%time\n",
    "d_2_list = Parallel(n_jobs=-1, verbose=1)(delayed(compute_diffusion_non_diagonal)(\n",
    "    vector_ts=s_kde, hour_i=i, hour_j=j, x_mesh_num_points=100, y_mesh_num_points=100, z_mesh_num_points=100\n",
    ") for i, j in zip(hour_i_list[210:], hour_j_list[210:]))"
   ]
  },
  {
   "cell_type": "code",
   "execution_count": null,
   "id": "21edc5f0",
   "metadata": {},
   "outputs": [],
   "source": [
    "d2_pickle_list = []\n",
    "for i in range(1, 5):\n",
    "    with open(f\"d2_coefficients_batch_{i}.pkl\", \"rb\") as f:\n",
    "        d2_pickle_list.append(pickle.load(f))"
   ]
  },
  {
   "cell_type": "code",
   "execution_count": null,
   "id": "99fd7116",
   "metadata": {},
   "outputs": [],
   "source": [
    "d2_coefficient_list = []\n",
    "for element in d2_pickle_list:\n",
    "    for k in element:\n",
    "        d2_coefficient_list.append(k)"
   ]
  },
  {
   "cell_type": "code",
   "execution_count": null,
   "id": "e84511b0",
   "metadata": {},
   "outputs": [],
   "source": [
    "len(d2_coefficient_list)"
   ]
  },
  {
   "cell_type": "code",
   "execution_count": null,
   "id": "195dc9d6",
   "metadata": {},
   "outputs": [],
   "source": [
    "d2_coefficient_list[]"
   ]
  },
  {
   "cell_type": "code",
   "execution_count": null,
   "id": "2a8cb4e3",
   "metadata": {
    "scrolled": true
   },
   "outputs": [],
   "source": [
    "for k in d2_coefficient_list:\n",
    "    print(k[\"hour_i\"], k[\"hour_j\"], k[\"most_likely_diff\"][-1])"
   ]
  },
  {
   "cell_type": "code",
   "execution_count": null,
   "id": "7f5ed1fb",
   "metadata": {},
   "outputs": [],
   "source": [
    "len(d2_coefficient_list)"
   ]
  },
  {
   "cell_type": "code",
   "execution_count": null,
   "id": "18cb139f",
   "metadata": {},
   "outputs": [],
   "source": []
  },
  {
   "cell_type": "code",
   "execution_count": null,
   "id": "0db276f2",
   "metadata": {},
   "outputs": [],
   "source": []
  },
  {
   "cell_type": "code",
   "execution_count": null,
   "id": "77a836ff",
   "metadata": {},
   "outputs": [],
   "source": [
    "with open(\"d2_coefficients_batch_4.pkl\", \"wb\") as f:\n",
    "    pickle.dump(d_2_list, f)"
   ]
  },
  {
   "cell_type": "code",
   "execution_count": null,
   "id": "3a5b2528",
   "metadata": {},
   "outputs": [],
   "source": [
    "# diffusion matrix\n",
    "diff_matrix = np.zeros((24, 24))"
   ]
  },
  {
   "cell_type": "code",
   "execution_count": null,
   "id": "0126d477",
   "metadata": {},
   "outputs": [],
   "source": [
    "for element in d2_coefficient_list:\n",
    "    diff_matrix[element[\"hour_i\"] - 1, element[\"hour_j\"] - 1] = element[\"expected_diff_most_likely_price\"][-1]"
   ]
  },
  {
   "cell_type": "code",
   "execution_count": null,
   "id": "09a7e06a",
   "metadata": {
    "scrolled": true
   },
   "outputs": [],
   "source": [
    "df.iloc[:24][\"spain\"].values"
   ]
  },
  {
   "cell_type": "code",
   "execution_count": null,
   "id": "949307f1",
   "metadata": {},
   "outputs": [],
   "source": [
    "for k,v in d_2_diag_hour_stats.items():\n",
    "    #closet_index = np.abs(v[\"expected_value_x\"].index - df.iloc[-24:][\"spain\"].values[k-1]).argmin()\n",
    "    #diff_matrix[k-1, k-1] = v[\"expected_value_x\"].iloc[closet_index]\n",
    "    \n",
    "    #diff_matrix[k-1, k-1] = v[\"expected_diff\"]\n",
    "    \n",
    "    diff_matrix[k-1, k-1] = v[\"expected_value_x\"].iloc[v[\"price_probability\"].argmax()]"
   ]
  },
  {
   "cell_type": "code",
   "execution_count": null,
   "id": "d564992d",
   "metadata": {},
   "outputs": [],
   "source": [
    "diff_matrix = diff_matrix + np.tril(diff_matrix, k=-1).T"
   ]
  },
  {
   "cell_type": "code",
   "execution_count": null,
   "id": "d418a3bf",
   "metadata": {},
   "outputs": [],
   "source": [
    "fig, ax = plt.subplots(figsize=(15, 10))\n",
    "#mask = np.triu(np.ones_like(diff_matrix, dtype=bool), k=1)\n",
    "sns.heatmap(diff_matrix, cmap=\"flare\",\n",
    "            square=True, linewidths=.5, cbar_kws={\"shrink\": 0.85})\n",
    "ax.set_title(\"Mean diffusion\")\n",
    "fig.show()"
   ]
  },
  {
   "cell_type": "code",
   "execution_count": null,
   "id": "7fb6d7f5",
   "metadata": {},
   "outputs": [],
   "source": [
    "fig, ax = plt.subplots(figsize=(15, 10))\n",
    "#mask = np.triu(np.ones_like(diff_matrix, dtype=bool), k=1)\n",
    "sns.heatmap(s.diffusion_matrix, cmap=\"flare\",\n",
    "            square=True, linewidths=.5, cbar_kws={\"shrink\": 0.85})\n",
    "ax.set_title(\"Mean diffusion\")\n",
    "fig.show()"
   ]
  },
  {
   "cell_type": "code",
   "execution_count": null,
   "id": "532b684a",
   "metadata": {},
   "outputs": [],
   "source": [
    "from scipy.linalg import sqrtm"
   ]
  },
  {
   "cell_type": "code",
   "execution_count": null,
   "id": "572ca6e2",
   "metadata": {},
   "outputs": [],
   "source": [
    "pd.Series(np.linalg.eigvals(diff_matrix)).sort_values()"
   ]
  },
  {
   "cell_type": "code",
   "execution_count": null,
   "id": "9f3081ee",
   "metadata": {},
   "outputs": [],
   "source": [
    "sqrtm(diff_matrix)"
   ]
  },
  {
   "cell_type": "code",
   "execution_count": null,
   "id": "adc0e147",
   "metadata": {},
   "outputs": [],
   "source": [
    "pd.DataFrame(diff_matrix)"
   ]
  },
  {
   "cell_type": "code",
   "execution_count": null,
   "id": "7171ea76",
   "metadata": {},
   "outputs": [],
   "source": []
  },
  {
   "cell_type": "code",
   "execution_count": null,
   "id": "b91d27dc",
   "metadata": {},
   "outputs": [],
   "source": []
  },
  {
   "cell_type": "code",
   "execution_count": null,
   "id": "0b087fc5",
   "metadata": {},
   "outputs": [],
   "source": []
  },
  {
   "cell_type": "code",
   "execution_count": null,
   "id": "d4539d33",
   "metadata": {},
   "outputs": [],
   "source": []
  },
  {
   "cell_type": "code",
   "execution_count": null,
   "id": "77422016",
   "metadata": {},
   "outputs": [],
   "source": []
  },
  {
   "cell_type": "code",
   "execution_count": null,
   "id": "499a1752",
   "metadata": {},
   "outputs": [],
   "source": [
    "np.random.seed(72)\n",
    "result = np.dot(sqrtm(diff_matrix), np.random.normal(loc=0, scale=1, size=(24, 1))) + \\\n",
    "df.iloc[-24:][\"spain\"].values.reshape(-1, 1)"
   ]
  },
  {
   "cell_type": "code",
   "execution_count": null,
   "id": "2803ff5e",
   "metadata": {},
   "outputs": [],
   "source": [
    "fig, ax = plt.subplots()\n",
    "ax.plot(range(24), result.real.reshape(-1))\n",
    "ax.plot(range(24), df.iloc[-24:][\"spain\"].values)"
   ]
  },
  {
   "cell_type": "code",
   "execution_count": null,
   "id": "09c162f8",
   "metadata": {},
   "outputs": [],
   "source": [
    "df.iloc[-24:][\"spain\"].values.reshape(-1, 1).shape"
   ]
  },
  {
   "cell_type": "code",
   "execution_count": null,
   "id": "977b7b52",
   "metadata": {},
   "outputs": [],
   "source": [
    "np.random.seed(22)\n",
    "result = np.abs(np.dot(sqrtm(diff_matrix), np.random.normal(loc=0, scale=1, size=(24, 1))))+ \\\n",
    "df.iloc[-24:][\"spain\"].values.reshape(-1, 1)\n",
    "\n",
    "fig, ax = plt.subplots()\n",
    "ax.plot(range(24), result)\n",
    "ax.plot(range(24), df.iloc[-24:][\"spain\"].values)"
   ]
  },
  {
   "cell_type": "markdown",
   "id": "7e48ed4f",
   "metadata": {},
   "source": [
    "Compute price inflation as mean daily prices - mean drfit and learn this through a neural ODE"
   ]
  }
 ],
 "metadata": {
  "kernelspec": {
   "display_name": "Python 3 (ipykernel)",
   "language": "python",
   "name": "python3"
  },
  "language_info": {
   "codemirror_mode": {
    "name": "ipython",
    "version": 3
   },
   "file_extension": ".py",
   "mimetype": "text/x-python",
   "name": "python",
   "nbconvert_exporter": "python",
   "pygments_lexer": "ipython3",
   "version": "3.8.11"
  }
 },
 "nbformat": 4,
 "nbformat_minor": 5
}
